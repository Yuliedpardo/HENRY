{
 "cells": [
  {
   "cell_type": "code",
   "execution_count": null,
   "metadata": {},
   "outputs": [],
   "source": [
    "poo"
   ]
  },
  {
   "cell_type": "code",
   "execution_count": 2,
   "metadata": {},
   "outputs": [],
   "source": [
    "class Nodo:\n",
    "    \n",
    "    def __init__(self, val):\n",
    "        self.valor = val\n",
    "        self.apuntador = None\n",
    "\n",
    "    def cambiar_valor (self, valor):\n",
    "        self.valor = valor\n",
    "\n",
    "    def apuntar (self, destino):\n",
    "        self.apuntador = destino"
   ]
  },
  {
   "cell_type": "code",
   "execution_count": 7,
   "metadata": {},
   "outputs": [
    {
     "data": {
      "text/plain": [
       "<__main__.Nodo at 0x2016e710e90>"
      ]
     },
     "execution_count": 7,
     "metadata": {},
     "output_type": "execute_result"
    }
   ],
   "source": [
    "n1 = Nodo (3)\n",
    "n2 = Nodo (\"Hola\")\n",
    "\n",
    "n1.apuntar (n2)                 # n1 apunta al nodo 2\n",
    "\n",
    "n1.apuntador.valor              # muestra el valor del nodo al que apunta n1\n",
    "\n"
   ]
  },
  {
   "cell_type": "code",
   "execution_count": null,
   "metadata": {},
   "outputs": [],
   "source": [
    "class Lista_enlazada:\n",
    "\n",
    "    def __init__(self):\n",
    "        self.principal = None\n",
    "    \n",
    "    def append (self, valor):\n",
    "        nuevo_nodo = Nodo(valor)\n",
    "        nuevo_nodo.apuntar(self.principal)\n",
    "        self.principal = nuevo_nodo\n",
    "\n",
    "    def imprimir_lista(self):\n",
    "        nodo_elemento = self.principal\n",
    "        while (nodo_elemento != None):\n",
    "            print(nodo_elemento.valor)\n",
    "            nodo_elemento = nodo_elemento.apuntador\n",
    "\n",
    "    def suma (self):\n",
    "        nodo_elemento = self.principal\n",
    "        suma = 0\n",
    "        while (nodo_elemento != None):\n",
    "            suma += nodo_elemento.valor\n",
    "            nodo_elemento = nodo_elemento.apuntador\n",
    "        print(\"la suma de la lista enlazada es: \", suma)"
   ]
  },
  {
   "cell_type": "code",
   "execution_count": null,
   "metadata": {},
   "outputs": [],
   "source": [
    "lista_python = []\n",
    "lista_python.append(3)\n",
    "lista_python.append(3)\n",
    "lista_python.append(5)\n",
    "lista_python"
   ]
  },
  {
   "cell_type": "code",
   "execution_count": null,
   "metadata": {},
   "outputs": [],
   "source": [
    "lista = Lista_enlazada()\n",
    "lista.append(3)\n",
    "lista.append(3)\n",
    "lista.append(4)\n",
    "lista.append(5)\n",
    "lista.imprimir_lista()"
   ]
  }
 ],
 "metadata": {
  "kernelspec": {
   "display_name": "Python 3",
   "language": "python",
   "name": "python3"
  },
  "language_info": {
   "codemirror_mode": {
    "name": "ipython",
    "version": 3
   },
   "file_extension": ".py",
   "mimetype": "text/x-python",
   "name": "python",
   "nbconvert_exporter": "python",
   "pygments_lexer": "ipython3",
   "version": "3.11.2"
  },
  "orig_nbformat": 4
 },
 "nbformat": 4,
 "nbformat_minor": 2
}

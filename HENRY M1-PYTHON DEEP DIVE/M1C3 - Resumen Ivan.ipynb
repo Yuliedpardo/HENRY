{
 "cells": [
  {
   "attachments": {},
   "cell_type": "markdown",
   "metadata": {},
   "source": [
    "# Apuntes Ivan"
   ]
  },
  {
   "cell_type": "code",
   "execution_count": 1,
   "metadata": {},
   "outputs": [],
   "source": [
    "'''\n",
    "pip install numpy                               # instalar libreria\n",
    "'''\n",
    "import numpy as np                              # por convención se le da el nombre de np a la librería\n",
    "\n",
    "\n",
    "# help ( np.______)                             # muestra informaciòn sobre la función\n"
   ]
  },
  {
   "attachments": {},
   "cell_type": "markdown",
   "metadata": {},
   "source": [
    "## Asignación y creación"
   ]
  },
  {
   "cell_type": "code",
   "execution_count": null,
   "metadata": {},
   "outputs": [],
   "source": [
    "'''\n",
    "None                                                    # objeto que mantiene el espacio vacío pero NO permite operar de ninguna manera\n",
    "np.nan                                                  # objeto que mantiene el espacio vacío pero SI permite operar de ninguna manera (operaciones de datos)\n",
    "\n",
    "(x)                                                     # filas\n",
    "(y,x)                                                   # columnas, filas\n",
    "(z,y,x)                                                 # cant_matrices, columnas, filas\n",
    "\n",
    "variable = np._____________                             # crear un array por asignacion del resultado de una operación\n",
    "\n",
    "np.array ([dimensiones])                                # crear un objeto numpy de tipo ndarray (en multiples dimensiones)\n",
    "np.array ([lista]])                                     # crear un objeto numpy de tipo ndarray (vector) a partir de 1 lista\n",
    "np.array ([lista1],[lista2])                            # crear un objeto numpy de tipo ndarray (matriz) a partir de 2 listas\n",
    "np.array ([lista1],[lista2],[lista3])                   # crear un objeto numpy de tipo ndarray (tensor) a partir de 3 listas\n",
    "\n",
    "\n",
    "np.arange (star= _, stop= _, step=)                     # crea un array en forma de secuencia por saltos\n",
    "np.arange (a, b, c)                                     # crea un array en forma de secuencia por saltos\n",
    "np.linspace (star= _, stop= _, num= _)                  # crea un array con una cantidad de numeros equidistantes entre unos limites definidos\n",
    "\n",
    "\n",
    "np.random.rand (dimensiones)                            # crea arreglo con dimensiones definidas y numeros entre 0 y 1\n",
    "np.random.uniform (low= _, high= _, size= _)            # crea arreglo con numeros float aleatorios permitiendo definir limites y tamaño\n",
    "np.random.randint (low= _, high= _, size= _)            # crea arreglo con numeros aleatorios en un rango dado\n",
    "\n",
    "\n",
    "np.full(dimensiones, valores)                           # crear un array con todos sus valores iguales\n",
    "np.full(shape= (dimensiones), fill_value= valor)        # crear un array con todos sus valores iguales\n",
    "np.ones(dimensiones, dtype='int')                       # crear un array con todos sus valores en 1\n",
    "np.zeros(dimensiones, dtype='int')                      # crear un array con todos sus valores en 0\n",
    "\n",
    "\n",
    "np.mat([dimensiones])                                   # crear un objeto numpy de tipo matriz (solo crea en dos dimensiones)\n",
    "\n",
    "'''"
   ]
  },
  {
   "attachments": {},
   "cell_type": "markdown",
   "metadata": {},
   "source": [
    "## Visualización Atributos"
   ]
  },
  {
   "cell_type": "code",
   "execution_count": null,
   "metadata": {},
   "outputs": [],
   "source": [
    "'''\n",
    "nombre_array.shape                                  # visualizar las dimensiones del array\n",
    "nombre_array.dtype                                  # devuelve el tipo de datos de un array (todos los valores del array son del mismo tipo de dato)\n",
    "\n",
    "\n",
    "\n",
    "'''"
   ]
  },
  {
   "attachments": {},
   "cell_type": "markdown",
   "metadata": {},
   "source": [
    "## Operaciones"
   ]
  },
  {
   "cell_type": "code",
   "execution_count": null,
   "metadata": {},
   "outputs": [],
   "source": [
    "'''\n",
    "array + a                                                                   # suma a a cada valor del array\n",
    "array + array                                                               # suma cada valor del array con su igual en el otro array\n",
    "array - a                                                                   # suma a a cada valor del array\n",
    "array - array                                                               # suma cada valor del array con su igual en el otro array\n",
    "array * a                                                                   # suma a a cada valor del array\n",
    "array / a                                                                   # suma a a cada valor del array\n",
    "\n",
    "---> para otras operaciones es como operaciones de matrices y vectores\n",
    "\n",
    "nombre_array.reshape ([dimensiones])                                        # cambiar las dimensiones del array\n",
    "variable = np.reshape ([dimensiones])                                       # cambiar las dimensiones del array\n",
    "nombre_array [a:b, c:d]                                                     # (slicing) visualizar determinadas porciones del array de acuerdo a los indices indicados\n",
    "nombre_array.sum()                                                          # suma los valores contenidos en el array\n",
    "\n",
    "nombre_array = flatten()                                                    # llevar array a una dimension\n",
    "\n",
    "np.copy()                                                                   # copiar array en una variable\n",
    "variable = nombre_array.copy ()                                             # copiar array en una variable\n",
    "\n",
    "np.max (array)                                                              # ver el valor maximo de un conjunto\n",
    "np.min (array)                                                              # ver el valor mìnimo de un conjunto\n",
    "\n",
    "np.sort ()                                                                  # ordenar alfabeticamente (de menor a mayor) un arreglo    \n",
    "\n",
    "---> mascaras: aplica filtros a una matris (o arreglo) para mostrar determinados valores\n",
    "'''"
   ]
  }
 ],
 "metadata": {
  "kernelspec": {
   "display_name": "Python 3",
   "language": "python",
   "name": "python3"
  },
  "language_info": {
   "codemirror_mode": {
    "name": "ipython",
    "version": 3
   },
   "file_extension": ".py",
   "mimetype": "text/x-python",
   "name": "python",
   "nbconvert_exporter": "python",
   "pygments_lexer": "ipython3",
   "version": "3.11.2"
  },
  "orig_nbformat": 4
 },
 "nbformat": 4,
 "nbformat_minor": 2
}

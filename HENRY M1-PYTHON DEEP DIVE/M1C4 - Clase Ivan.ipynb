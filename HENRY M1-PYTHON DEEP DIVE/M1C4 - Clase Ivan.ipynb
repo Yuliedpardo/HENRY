{
 "cells": [
  {
   "cell_type": "code",
   "execution_count": 19,
   "metadata": {},
   "outputs": [],
   "source": [
    "import pandas as pd\n",
    "import numpy as np"
   ]
  },
  {
   "cell_type": "code",
   "execution_count": 3,
   "metadata": {},
   "outputs": [
    {
     "name": "stdout",
     "output_type": "stream",
     "text": [
      "0    1\n",
      "1    2\n",
      "2    3\n",
      "dtype: int64\n"
     ]
    }
   ],
   "source": [
    "lista = [1, 2, 3]\n",
    "\n",
    "series = pd.Series(lista)\n",
    "\n",
    "print (series)"
   ]
  },
  {
   "cell_type": "code",
   "execution_count": 4,
   "metadata": {},
   "outputs": [
    {
     "name": "stdout",
     "output_type": "stream",
     "text": [
      "3\n",
      "RangeIndex(start=0, stop=3, step=1)\n",
      "int64\n"
     ]
    }
   ],
   "source": [
    "print (series.size)\n",
    "print (series.index)\n",
    "print (series.dtype)"
   ]
  },
  {
   "cell_type": "code",
   "execution_count": 5,
   "metadata": {},
   "outputs": [
    {
     "name": "stdout",
     "output_type": "stream",
     "text": [
      "python    [5.0, 5.1, 5.2, 5.3]\n",
      "java      [4.0, 4.1, 4.2, 4.3]\n",
      "cobol     [3.0, 3.1, 3.2, 3.3]\n",
      "dtype: object \n",
      "\n",
      "python    5.0\n",
      "java      4.0\n",
      "cobol     3.0\n",
      "dtype: float64\n"
     ]
    }
   ],
   "source": [
    "diccionario = {\"python\": [5.0, 5.1, 5.2, 5.3], \"java\": [4.0, 4.1, 4.2, 4.3], \"cobol\": [3.0, 3.1, 3.2, 3.3]}\n",
    "diccionario_4 = {\"python\": 5.0, \"java\": 4.0, \"cobol\": 3.0}\n",
    "\n",
    "series_2 = pd.Series(diccionario)\n",
    "series_4 = pd.Series(diccionario_4)\n",
    "\n",
    "print (series_2, \"\\n\")\n",
    "print (series_4)"
   ]
  },
  {
   "cell_type": "code",
   "execution_count": 6,
   "metadata": {},
   "outputs": [
    {
     "name": "stdout",
     "output_type": "stream",
     "text": [
      "3\n",
      "Index(['python', 'java', 'cobol'], dtype='object')\n",
      "object\n"
     ]
    }
   ],
   "source": [
    "print (series_2.size)\n",
    "print (series_2.index)\n",
    "print (series_2.dtype)"
   ]
  },
  {
   "cell_type": "code",
   "execution_count": 7,
   "metadata": {},
   "outputs": [
    {
     "name": "stdout",
     "output_type": "stream",
     "text": [
      "python    [5.0, 5.1, 5.2, 5.3]\n",
      "java      [4.0, 4.1, 4.2, 4.3]\n",
      "dtype: object \n",
      "\n",
      "python    [5.0, 5.1, 5.2, 5.3]\n",
      "cobol     [3.0, 3.1, 3.2, 3.3]\n",
      "dtype: object \n",
      "\n",
      "python    [5.0, 5.1, 5.2, 5.3]\n",
      "dtype: object \n",
      "\n",
      "[5.0, 5.1, 5.2, 5.3] \n",
      "\n"
     ]
    }
   ],
   "source": [
    "print (series_2[0:2], \"\\n\")\n",
    "print (series_2[[\"python\",\"cobol\"]],\"\\n\")\n",
    "print (series_2[[\"python\"]],\"\\n\")\n",
    "print (series_2[\"python\"],\"\\n\")"
   ]
  },
  {
   "cell_type": "code",
   "execution_count": 8,
   "metadata": {},
   "outputs": [
    {
     "name": "stdout",
     "output_type": "stream",
     "text": [
      "[[7 8 5]\n",
      " [2 6 7]\n",
      " [3 6 5]]\n"
     ]
    }
   ],
   "source": [
    "series_3 = np.random.randint (low=0, high = 9, size = (3, 3))\n",
    "print (series_3)"
   ]
  },
  {
   "cell_type": "code",
   "execution_count": null,
   "metadata": {},
   "outputs": [],
   "source": [
    "print (series_2 * 2)\n",
    "print (series_2 / 2)\n",
    "print (series_2 % 2)"
   ]
  },
  {
   "cell_type": "code",
   "execution_count": null,
   "metadata": {},
   "outputs": [
    {
     "name": "stdout",
     "output_type": "stream",
     "text": [
      "python    5.0\n",
      "java      4.0\n",
      "dtype: float64\n"
     ]
    }
   ],
   "source": [
    "print (series_4[series_4 > 3])"
   ]
  },
  {
   "cell_type": "code",
   "execution_count": null,
   "metadata": {},
   "outputs": [
    {
     "name": "stdout",
     "output_type": "stream",
     "text": [
      "0          [a, b, c]\n",
      "1    [auto, barco, ]\n",
      "2             [1, 2]\n",
      "dtype: object\n"
     ]
    }
   ],
   "source": [
    "serie_listas = [[\"a\", \"b\", \"c\"], [\"auto\", \"barco\", \"\"], [1, 2]]\n",
    "df = pd.Series(serie_listas)\n",
    "print (df)"
   ]
  },
  {
   "cell_type": "code",
   "execution_count": 13,
   "metadata": {},
   "outputs": [
    {
     "name": "stdout",
     "output_type": "stream",
     "text": [
      "        python  java  cobol\n",
      "nota 1     5.0   4.0    3.0\n",
      "nota 2     5.1   4.1    3.1\n",
      "nota 3     5.2   4.2    3.2\n",
      "nota 4     5.3   4.3    3.3\n"
     ]
    }
   ],
   "source": [
    "indices_filas = [\"nota 1\", \"nota 2\", \"nota 3\", \"nota 4\"]\n",
    "df = pd.DataFrame(diccionario, index = indices_filas)\n",
    "print (df)\n"
   ]
  },
  {
   "cell_type": "code",
   "execution_count": 26,
   "metadata": {},
   "outputs": [
    {
     "data": {
      "text/html": [
       "<div>\n",
       "<style scoped>\n",
       "    .dataframe tbody tr th:only-of-type {\n",
       "        vertical-align: middle;\n",
       "    }\n",
       "\n",
       "    .dataframe tbody tr th {\n",
       "        vertical-align: top;\n",
       "    }\n",
       "\n",
       "    .dataframe thead th {\n",
       "        text-align: right;\n",
       "    }\n",
       "</style>\n",
       "<table border=\"1\" class=\"dataframe\">\n",
       "  <thead>\n",
       "    <tr style=\"text-align: right;\">\n",
       "      <th></th>\n",
       "      <th>python</th>\n",
       "      <th>java</th>\n",
       "      <th>cobol</th>\n",
       "    </tr>\n",
       "  </thead>\n",
       "  <tbody>\n",
       "    <tr>\n",
       "      <th>nota 1</th>\n",
       "      <td>5.0</td>\n",
       "      <td>4.0</td>\n",
       "      <td>3.0</td>\n",
       "    </tr>\n",
       "    <tr>\n",
       "      <th>nota 2</th>\n",
       "      <td>5.1</td>\n",
       "      <td>4.1</td>\n",
       "      <td>3.1</td>\n",
       "    </tr>\n",
       "    <tr>\n",
       "      <th>nota 3</th>\n",
       "      <td>5.2</td>\n",
       "      <td>4.2</td>\n",
       "      <td>3.2</td>\n",
       "    </tr>\n",
       "    <tr>\n",
       "      <th>nota 4</th>\n",
       "      <td>5.3</td>\n",
       "      <td>4.3</td>\n",
       "      <td>3.3</td>\n",
       "    </tr>\n",
       "  </tbody>\n",
       "</table>\n",
       "</div>"
      ],
      "text/plain": [
       "        python  java  cobol\n",
       "nota 1     5.0   4.0    3.0\n",
       "nota 2     5.1   4.1    3.1\n",
       "nota 3     5.2   4.2    3.2\n",
       "nota 4     5.3   4.3    3.3"
      ]
     },
     "execution_count": 26,
     "metadata": {},
     "output_type": "execute_result"
    }
   ],
   "source": [
    "df"
   ]
  },
  {
   "cell_type": "code",
   "execution_count": 25,
   "metadata": {},
   "outputs": [
    {
     "name": "stdout",
     "output_type": "stream",
     "text": [
      "        python  java  cobol  fortran  validacion\n",
      "nota 1     5.0   4.0    3.0        1       False\n",
      "nota 2     5.1   4.1    3.1        2       False\n",
      "nota 3     5.2   4.2    3.2        3        True\n",
      "nota 4     5.3   4.3    3.3        4        True\n",
      "nota 1    1\n",
      "nota 2    2\n",
      "nota 3    3\n",
      "nota 4    4\n",
      "Name: fortran, dtype: int64\n",
      "        python  java  cobol\n",
      "nota 1     5.0   4.0    3.0\n",
      "nota 2     5.1   4.1    3.1\n",
      "nota 3     5.2   4.2    3.2\n",
      "nota 4     5.3   4.3    3.3\n",
      "        python  java  cobol\n",
      "nota 1     5.0   4.0    3.0\n",
      "nota 2     5.1   4.1    3.1\n",
      "        python  java  cobol\n",
      "nota 1     5.0   4.0    3.0\n",
      "nota 2     5.1   4.1    3.1\n",
      "nota 3     5.2   4.2    3.2\n",
      "nota 4     5.3   4.3    3.3\n"
     ]
    }
   ],
   "source": [
    "# print (df.rename(index = {\"nota 1\" : \"valor 1\"}, columns = {\"cobol\" : \"c++\"}))\n",
    "# print (df)\n",
    "# print (df.reindex(index = [\"nota 4\", \"nota 3\", \"nota 2\", \"nota 1\"], columns = [\"c++\", \"java\", \"python\", \"uno mas\"]))\n",
    "# print (df.iloc[1:3, 0:2])\n",
    "# print (df.loc[(\"nota 3\", \"nota 4\"), (\"python\", \"cobol\")])\n",
    "# print (df[\"python\"])\n",
    "mi_lista = [1, 2, 3, 4]\n",
    "df[\"fortran\"] = mi_lista\n",
    "df[\"validacion\"] = df[\"python\"] >= 5.2\n",
    "print (df)\n",
    "del df[\"validacion\"]\n",
    "fortran = df.pop(\"fortran\")\n",
    "print (fortran)\n",
    "print (df)\n",
    "# df = df.append(pd.Series([5.4, 4.4, 3.4], index = [\"python\", \"java\", \"cobol\"]))\n",
    "print (df.drop([\"nota 3\", \"nota 4\"]))\n",
    "print (df)"
   ]
  },
  {
   "cell_type": "code",
   "execution_count": 75,
   "metadata": {},
   "outputs": [
    {
     "name": "stdout",
     "output_type": "stream",
     "text": [
      "\n",
      "(4, 3)\n",
      "\n",
      "12\n",
      "\n",
      "Index(['python', 'java', 'cobol'], dtype='object')\n",
      "\n",
      "Index(['nota 1', 'nota 2', 'nota 3', 'nota 4'], dtype='object')\n",
      "\n",
      "python    float64\n",
      "java      float64\n",
      "cobol     float64\n",
      "dtype: object\n",
      "\n",
      "        python  java  cobol\n",
      "nota 1     5.0   4.0    3.0\n",
      "nota 2     5.1   4.1    3.1\n",
      "\n",
      "        python  java  cobol\n",
      "nota 3     5.2   4.2    3.2\n",
      "nota 4     5.3   4.3    3.3\n"
     ]
    }
   ],
   "source": [
    "#print (df.info())\n",
    "print (\"\")\n",
    "print (df.shape)\n",
    "print (\"\")\n",
    "print (df.size)\n",
    "print (\"\")\n",
    "print (df.columns)\n",
    "print (\"\")\n",
    "print (df.index)\n",
    "print (\"\")\n",
    "print (df.dtypes)\n",
    "print (\"\")\n",
    "print (df.head(2))\n",
    "print (\"\")\n",
    "print (df.tail(2))\n"
   ]
  }
 ],
 "metadata": {
  "kernelspec": {
   "display_name": "Python 3",
   "language": "python",
   "name": "python3"
  },
  "language_info": {
   "codemirror_mode": {
    "name": "ipython",
    "version": 3
   },
   "file_extension": ".py",
   "mimetype": "text/x-python",
   "name": "python",
   "nbconvert_exporter": "python",
   "pygments_lexer": "ipython3",
   "version": "3.11.2"
  },
  "orig_nbformat": 4
 },
 "nbformat": 4,
 "nbformat_minor": 2
}

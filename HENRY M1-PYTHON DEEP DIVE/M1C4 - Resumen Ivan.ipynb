{
 "cells": [
  {
   "cell_type": "code",
   "execution_count": null,
   "metadata": {},
   "outputs": [],
   "source": [
    "import pandas as pd\n",
    "import numpy as np\n",
    "\n",
    "# np.nan        # crea un valor vacío similar a None pero en la librería pandas"
   ]
  },
  {
   "attachments": {},
   "cell_type": "markdown",
   "metadata": {},
   "source": [
    "# Creación"
   ]
  },
  {
   "cell_type": "code",
   "execution_count": null,
   "metadata": {},
   "outputs": [],
   "source": [
    "'''\n",
    "lista = [ ]\n",
    "diccionario = {\"clave1\":[ ], \"clave2\":[ ]...}\n",
    "\n",
    "serie = pd.Series (lista)                                               # crea serie con una lista\n",
    "serie = pd.Series (diccionario)                                         # crea serie con un diccionario\n",
    "serie = np.random.randint (low=0, high = 9, size = (3, 3))              # crear serie con valores aleatorios\n",
    "\n",
    "df = pd.DataFrame (diccionario)                                         # crea un dataframe a partir de un diccionario\n",
    "\n",
    "dataframe['columna'] = [valores]                                        # agrega una columna al dataframe (nombre y valores)\n",
    "df = df.assign(\"nombre_col\" = df.col1 + df.col2)                        # añadir una nueva columna con la suma de los valores\n",
    "dataframe =                                                             # guarda en el dataframe los cambios que se le hagan\n",
    "\n",
    "\n",
    "variable = pd.read_csv(\"carpeta/archivo.csv\", sep=\"|\", decimal=\",\", index_col=0, encoding=\"latin1\")             # abrir archivo con ruta relativa \n",
    "\n",
    "'''\n",
    "\n",
    "# SERIES: se usan principalmente con listas\n",
    "# SERIES: Los diccionarios son de una dimension y las claves se vuelven indices en la serie\n",
    "# COLUMNA: cada columna en dataframe es una serie y tiene metodos propios\n"
   ]
  },
  {
   "attachments": {},
   "cell_type": "markdown",
   "metadata": {},
   "source": [
    "# Atributos: ver / modificar"
   ]
  },
  {
   "cell_type": "code",
   "execution_count": null,
   "metadata": {},
   "outputs": [],
   "source": [
    "'''\n",
    "serie.size                                      # (int) ver cantidad de valores - tamaño\n",
    "dataframe.size                                  # (int) ver cantidad de valores - tamaño\n",
    "dataframe.shape                                 # (tupla) ver dimensiones - tamaño\n",
    "\n",
    "serie.describe ()                               # (serie) ver detalles de serie\n",
    "dataframe[\"columna\"].describe ()                # (serie) ver detalles por columna\n",
    "\n",
    "serie.index                                     # (lista) ver lista con nombres de filas\n",
    "\n",
    "serie.dtype                                     # (str) ver tipo de datos de la serie\n",
    "dataframe.dtypes                                # (serie) ver tipo de datos de cada columna\n",
    "\n",
    "dataframe['columna'] = [valores]                # agrega una columna al dataframe (nombre y valores)\n",
    "dataframe = __________                          # guarda en el dataframe las consultas que se hagan\n",
    "\n",
    "dataframe.columns.values                        # (ndarray) ver los nombres de las columnas \n",
    "dataframe.index.values                          # (ndarray) ver los nombres de los indices\n",
    "\n",
    "\n",
    "\n",
    "dataframe.columns = ['nombre_columna1', 'nombre_columna2']                  # (dataframe) cambiar nombre a las columnas\n",
    "\n",
    "dataframe.rename(columns={'clave1':'nombre'}, index={0:'nombre'})           # (dataframe) cambiar nombre a las columnas y filas\n",
    "\n",
    "dataframe[\"columna\"].astype(tipo_dato)                                      # (dataframe) cambiar el tipo de dato de una columna\n",
    "\n",
    "pd.to_numeric(dataframe[\"nombre_columna\"])                                  # (serie) cambiar a numeros los valores de una columna\n",
    "\n",
    "pd.to_datetime(dataframe.columna, format = '%d-%m-%Y')                      # (dataframe) asignar formato de fecha a columna\n",
    "\n",
    "df = df.rename(index={x: 'nombre'})                                         # cambiar el nombre al indice de una fila\n",
    "\n",
    "\n",
    "El axis = 0 ejecuta el codigo de manera vertical (usando todas las filas)\n",
    "El axis = 1 ejecuta el codigo de manera horizontal (usando todas las columnas)\n",
    "\n",
    "'''\n",
    "\n",
    "\n",
    "# np.nan        # crea un valor vacío similar a None pero en la librería pandas"
   ]
  },
  {
   "attachments": {},
   "cell_type": "markdown",
   "metadata": {},
   "source": [
    "# Ver el contenido"
   ]
  },
  {
   "cell_type": "code",
   "execution_count": null,
   "metadata": {},
   "outputs": [],
   "source": [
    "'''\n",
    "serie [n]                                   # (int) ver el valor de una posición\n",
    "\n",
    "serie [n:m]                                 # (serie) ver valores en un rango\n",
    "\n",
    "serie [[\"clave1\",\"clave3\"]]                 # (serie) ver contenido segun - se usa el nombre del indice\n",
    "\n",
    "dataframe[\"columna\"].iloc[n:m]              # (dataframe) ver valores de columna en un rango - se usa el numero de indice \n",
    "\n",
    "dataframe.iloc[n:m, a:b]                    # (dataframe) ver los valores en un rango - se usan numeros [filas ,columnas]\n",
    "\n",
    "dataframe.loc[n:m, [\"a\", \"b\"]]              # (dataframe) ver los valores en un rango - se usan nombres [filas ,columnas]\n",
    "\n",
    "                                            # se usa loc principalmente para trabajar con filas\n",
    "\n",
    "dataframe [[\"columna1\", \"columna2\"]]        # (dataframe) ver columnas - por nombre\n",
    "\n",
    "dataframe.head (n)                          # (dataframe) ver n filas desde encabezado\n",
    "\n",
    "dataframe.tail (m)                          # (dataframe) ver n filas del final\n",
    "\n",
    "dataframe[\"columna\"].unique()               # (ndarray) muestra valores unicos de la columna\n",
    "\n",
    "dataframe.notna()                           # (dataframe) muestra NA: df con booleanos\n",
    "\n",
    "dataframe.isna ()                           # (dataframe) muestra NA: df con booleanos\n",
    "\n",
    "dataframe[\"columna\"].idxmax()               # muestra el indice del mayor valor de una columna\n",
    "\n",
    "'''"
   ]
  },
  {
   "attachments": {},
   "cell_type": "markdown",
   "metadata": {},
   "source": [
    "# Filtrar, ordenar, eliminar"
   ]
  },
  {
   "cell_type": "code",
   "execution_count": null,
   "metadata": {},
   "outputs": [],
   "source": [
    "'''\n",
    "dataframe[\"columnas\"][dataframe[\"columna\"] == condicion]                    # (dataframe / serie) filtrar dataframe y mostrar una columna\n",
    "\n",
    "dataframe[dataframe[\"columna\"] == expresion_booleana]                       # (dataframe / serie) filtrar y mostrar dataframe\n",
    "\n",
    "dataframe.sort_values ('columna', ascending= False )                        # (dataframe) ordena dataframe por criterios aplicados a una columna\n",
    "\n",
    "dataframe.sort_index (ascending=False)                                      # (dataframe) ordena dataframe segun el índice\n",
    "\n",
    "dataframe.reindex (index = [n,m,o], columns=['a', 'b', 'c'])                # (dataframe) reordenar filas y columnas\n",
    "\n",
    "dataframe[\"columna\"].sort_values(ascending=True)                            # (serie) ordena una columna alfabeticamente\n",
    "\n",
    "dataframe[\"columna\"].sort_index(ascending=True)                             # (serie) ordenar una fila de menor a mayor\n",
    "\n",
    "dataframe.drop(columns = ['nombre1','nombre2')                              # (dataframe) elimina columnas de un dataframe\n",
    "\n",
    "dataframe.drop(index = ['nombre1','nombre2'])                               # (dataframe) elimina filas de un dataframe\n",
    "\n",
    "dataframe[\"columna\"].dropna()                                               # (dataframe) elimina los nan y los none de una columna\n",
    "\n",
    "dataframe.dropna()                                                          # (dataframe) elimina las filas con nan y los none de una dataframe\n",
    "\n",
    "dataframe[\"columna\"].str.split(\" \", expand=True)                            # (dataframe) dividir una columna en varias\n",
    "\n",
    "dataframe[\"columna\"].str.replace(\"original\",\"sustituto\")                    # (serie) reemplazar caracteres dentro de una columna\n",
    "\n",
    "pd.concat([dataframe1, dataframe2])                                         # (dataframe) unir dataframe por filas (axis=0) o columnas (axis=1)\n",
    "\n",
    "dataframe1.join(dataframe2)                                                 # (dataframe) unir dataframe\n",
    "\n",
    "dataframe1.merge(dataframe2, on='columna')                                  # (dataframe) unir dataframe = combinar si hay columna comun\n",
    "\n",
    "\n",
    "'''"
   ]
  },
  {
   "attachments": {},
   "cell_type": "markdown",
   "metadata": {},
   "source": [
    "# Operaciones matemáticas"
   ]
  },
  {
   "cell_type": "code",
   "execution_count": null,
   "metadata": {},
   "outputs": [],
   "source": [
    "'''\n",
    "dataframe.sum()                                     # (serie) suma los valores de cada columna\n",
    "\n",
    "dataframe[\"columna\"].sum ()                         # (serie) suma o concatena valores de una (o mas) columna\n",
    "\n",
    "dataframe.loc[\"indice\"].sum()                       # (serie) suma o concatena valores de una (o mas) columna\n",
    "\n",
    "dataframe[\"columna\"].count()                        # (serie) cuantos valores tiene una (o mas) columna (no cuena los NA)\n",
    "\n",
    "dataframe[\"columna\"].value_counts ()                # (serie) cuanto se repite cada valor para una sola columna\n",
    "\n",
    "dataframe[\"columna\"].min()                          # (valor) valor minimo de una columna\n",
    "\n",
    "dataframe[\"columna\"].max()                          # (valor) valor maximo de una columna\n",
    "\n",
    "dataframe[\"columna\"].mean()                         # (float) promedio de valores en una columna\n",
    "\n",
    "dataframe[\"columna\"] * n                            # (dataframe / serie) aplica para cada valor individual (o concatena)\n",
    "dataframe[\"columna\"] % n\n",
    "dataframe[\"columna\"] + n\n",
    "\n",
    "df.loc[x] = sum(df.col1), sum(df.col2)              # poner la sumatoria de cada columna en una nueva fila\n",
    "\n",
    "'''"
   ]
  }
 ],
 "metadata": {
  "kernelspec": {
   "display_name": "Python 3",
   "language": "python",
   "name": "python3"
  },
  "language_info": {
   "name": "python",
   "version": "3.11.2"
  },
  "orig_nbformat": 4
 },
 "nbformat": 4,
 "nbformat_minor": 2
}

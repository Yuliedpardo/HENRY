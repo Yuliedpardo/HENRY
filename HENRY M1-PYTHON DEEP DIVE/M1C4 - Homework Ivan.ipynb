{
 "cells": [
  {
   "cell_type": "code",
   "execution_count": 1,
   "metadata": {},
   "outputs": [],
   "source": [
    "import pandas as pd"
   ]
  },
  {
   "cell_type": "code",
   "execution_count": 6,
   "metadata": {},
   "outputs": [
    {
     "data": {
      "text/html": [
       "<div>\n",
       "<style scoped>\n",
       "    .dataframe tbody tr th:only-of-type {\n",
       "        vertical-align: middle;\n",
       "    }\n",
       "\n",
       "    .dataframe tbody tr th {\n",
       "        vertical-align: top;\n",
       "    }\n",
       "\n",
       "    .dataframe thead th {\n",
       "        text-align: right;\n",
       "    }\n",
       "</style>\n",
       "<table border=\"1\" class=\"dataframe\">\n",
       "  <thead>\n",
       "    <tr style=\"text-align: right;\">\n",
       "      <th></th>\n",
       "      <th>WKT</th>\n",
       "      <th>ID</th>\n",
       "      <th>NOMBRE</th>\n",
       "      <th>NOM_MAP</th>\n",
       "      <th>OBJETO</th>\n",
       "      <th>CALLE</th>\n",
       "      <th>ALTURA</th>\n",
       "      <th>DOM_NORMA</th>\n",
       "      <th>DOM_GEO</th>\n",
       "      <th>TELEFONO</th>\n",
       "      <th>GUARDIA</th>\n",
       "      <th>FAX</th>\n",
       "      <th>WEB</th>\n",
       "      <th>COD_POSTAL</th>\n",
       "      <th>TIPO</th>\n",
       "      <th>TIPO_ESPEC</th>\n",
       "      <th>MOD_AT_1</th>\n",
       "      <th>MOD_AT_2</th>\n",
       "      <th>DEPEND_ADM</th>\n",
       "      <th>DIRECTOR</th>\n",
       "    </tr>\n",
       "  </thead>\n",
       "  <tbody>\n",
       "    <tr>\n",
       "      <th>0</th>\n",
       "      <td>POINT (-58.3775508488443 -34.6288473603881)</td>\n",
       "      <td>1.0</td>\n",
       "      <td>HOSPITAL GENERAL DE NIÑOS PEDRO DE ELIZALDE</td>\n",
       "      <td>HOSP. DE ELIZALDE</td>\n",
       "      <td>HOSPITAL</td>\n",
       "      <td>MANUEL A. MONTES DE OCA</td>\n",
       "      <td>40</td>\n",
       "      <td>MONTES DE OCA, MANUEL AV. 40</td>\n",
       "      <td>40 MONTES DE OCA, MANUEL AV.</td>\n",
       "      <td>4307-5842 / 5844</td>\n",
       "      <td>4307-5442 / 4300-1700</td>\n",
       "      <td>4302-7400</td>\n",
       "      <td>www.elizalde.gov.ar</td>\n",
       "      <td>C1270AAN</td>\n",
       "      <td>Hospital de niños</td>\n",
       "      <td>PEDIATRIA</td>\n",
       "      <td>AT. AMB./INTERNACION</td>\n",
       "      <td>DIAG./TRATAM.</td>\n",
       "      <td>Ministerio de Salud GCBA</td>\n",
       "      <td>Dr. Javier Indart</td>\n",
       "    </tr>\n",
       "    <tr>\n",
       "      <th>1</th>\n",
       "      <td>POINT (-58.4120700769456 -34.5941919726393)</td>\n",
       "      <td>2.0</td>\n",
       "      <td>HOSPITAL GENERAL DE NIÑOS RICARDO GUTIERREZ</td>\n",
       "      <td>HOSP. GUTIERREZ</td>\n",
       "      <td>HOSPITAL</td>\n",
       "      <td>GALLO</td>\n",
       "      <td>1330</td>\n",
       "      <td>GALLO 1330</td>\n",
       "      <td>1330 GALLO</td>\n",
       "      <td>4962-9247 / 9248 / 9280</td>\n",
       "      <td>4962-9232</td>\n",
       "      <td>4962-3762</td>\n",
       "      <td>www.guti.gov.ar</td>\n",
       "      <td>C1425EFD</td>\n",
       "      <td>Hospital de niños</td>\n",
       "      <td>PEDIATRIA</td>\n",
       "      <td>AT. AMB./INTERNACION</td>\n",
       "      <td>DIAG./TRATAM.</td>\n",
       "      <td>Ministerio de Salud GCBA</td>\n",
       "      <td>Dra. María Cristina Galoppo</td>\n",
       "    </tr>\n",
       "  </tbody>\n",
       "</table>\n",
       "</div>"
      ],
      "text/plain": [
       "                                           WKT   ID   \n",
       "0  POINT (-58.3775508488443 -34.6288473603881)  1.0  \\\n",
       "1  POINT (-58.4120700769456 -34.5941919726393)  2.0   \n",
       "\n",
       "                                        NOMBRE            NOM_MAP    OBJETO   \n",
       "0  HOSPITAL GENERAL DE NIÑOS PEDRO DE ELIZALDE  HOSP. DE ELIZALDE  HOSPITAL  \\\n",
       "1  HOSPITAL GENERAL DE NIÑOS RICARDO GUTIERREZ    HOSP. GUTIERREZ  HOSPITAL   \n",
       "\n",
       "                     CALLE  ALTURA                     DOM_NORMA   \n",
       "0  MANUEL A. MONTES DE OCA      40  MONTES DE OCA, MANUEL AV. 40  \\\n",
       "1                    GALLO    1330                    GALLO 1330   \n",
       "\n",
       "                        DOM_GEO                 TELEFONO   \n",
       "0  40 MONTES DE OCA, MANUEL AV.         4307-5842 / 5844  \\\n",
       "1                    1330 GALLO  4962-9247 / 9248 / 9280   \n",
       "\n",
       "                 GUARDIA        FAX                  WEB COD_POSTAL   \n",
       "0  4307-5442 / 4300-1700  4302-7400  www.elizalde.gov.ar   C1270AAN  \\\n",
       "1              4962-9232  4962-3762      www.guti.gov.ar   C1425EFD   \n",
       "\n",
       "                TIPO TIPO_ESPEC              MOD_AT_1       MOD_AT_2   \n",
       "0  Hospital de niños  PEDIATRIA  AT. AMB./INTERNACION  DIAG./TRATAM.  \\\n",
       "1  Hospital de niños  PEDIATRIA  AT. AMB./INTERNACION  DIAG./TRATAM.   \n",
       "\n",
       "                 DEPEND_ADM                     DIRECTOR  \n",
       "0  Ministerio de Salud GCBA            Dr. Javier Indart  \n",
       "1  Ministerio de Salud GCBA  Dra. María Cristina Galoppo  "
      ]
     },
     "execution_count": 6,
     "metadata": {},
     "output_type": "execute_result"
    }
   ],
   "source": [
    "hospital = pd.read_csv(\"archivo_hospitales2.csv\", sep=\",\")\n",
    "\n",
    "hospital.head(2)\n",
    "# hospital.columns"
   ]
  },
  {
   "cell_type": "code",
   "execution_count": 47,
   "metadata": {},
   "outputs": [
    {
     "data": {
      "text/plain": [
       "Index(['WKT', 'DOM_NORMA', 'NOMBRE'], dtype='object')"
      ]
     },
     "execution_count": 47,
     "metadata": {},
     "output_type": "execute_result"
    }
   ],
   "source": [
    "hospital = hospital [['WKT', 'DOM_NORMA', 'NOMBRE']]\n",
    "hospital.columns"
   ]
  },
  {
   "cell_type": "code",
   "execution_count": 48,
   "metadata": {},
   "outputs": [
    {
     "data": {
      "text/html": [
       "<div>\n",
       "<style scoped>\n",
       "    .dataframe tbody tr th:only-of-type {\n",
       "        vertical-align: middle;\n",
       "    }\n",
       "\n",
       "    .dataframe tbody tr th {\n",
       "        vertical-align: top;\n",
       "    }\n",
       "\n",
       "    .dataframe thead th {\n",
       "        text-align: right;\n",
       "    }\n",
       "</style>\n",
       "<table border=\"1\" class=\"dataframe\">\n",
       "  <thead>\n",
       "    <tr style=\"text-align: right;\">\n",
       "      <th></th>\n",
       "      <th>WKT</th>\n",
       "      <th>DOM_NORMA</th>\n",
       "      <th>NOMBRE</th>\n",
       "    </tr>\n",
       "  </thead>\n",
       "  <tbody>\n",
       "    <tr>\n",
       "      <th>0</th>\n",
       "      <td>-58.3775508488443 -34.6288473603881</td>\n",
       "      <td>MONTES DE OCA, MANUEL AV. 40</td>\n",
       "      <td>HOSPITAL GENERAL DE NIÑOS PEDRO DE ELIZALDE</td>\n",
       "    </tr>\n",
       "    <tr>\n",
       "      <th>1</th>\n",
       "      <td>-58.4120700769456 -34.5941919726393</td>\n",
       "      <td>GALLO 1330</td>\n",
       "      <td>HOSPITAL GENERAL DE NIÑOS RICARDO GUTIERREZ</td>\n",
       "    </tr>\n",
       "  </tbody>\n",
       "</table>\n",
       "</div>"
      ],
      "text/plain": [
       "                                   WKT                     DOM_NORMA   \n",
       "0  -58.3775508488443 -34.6288473603881  MONTES DE OCA, MANUEL AV. 40  \\\n",
       "1  -58.4120700769456 -34.5941919726393                    GALLO 1330   \n",
       "\n",
       "                                        NOMBRE  \n",
       "0  HOSPITAL GENERAL DE NIÑOS PEDRO DE ELIZALDE  \n",
       "1  HOSPITAL GENERAL DE NIÑOS RICARDO GUTIERREZ  "
      ]
     },
     "execution_count": 48,
     "metadata": {},
     "output_type": "execute_result"
    }
   ],
   "source": [
    "hospital.loc[:,\"WKT\"] = hospital[\"WKT\"].str.replace(\"POINT \",\"\")\n",
    "hospital.loc[:,\"WKT\"] = hospital[\"WKT\"].str.replace(\"(\",\"\")\n",
    "hospital.loc[:,\"WKT\"] = hospital[\"WKT\"].str.replace(\")\",\"\")\n",
    "hospital.head(2)"
   ]
  },
  {
   "cell_type": "code",
   "execution_count": 49,
   "metadata": {},
   "outputs": [
    {
     "data": {
      "text/html": [
       "<div>\n",
       "<style scoped>\n",
       "    .dataframe tbody tr th:only-of-type {\n",
       "        vertical-align: middle;\n",
       "    }\n",
       "\n",
       "    .dataframe tbody tr th {\n",
       "        vertical-align: top;\n",
       "    }\n",
       "\n",
       "    .dataframe thead th {\n",
       "        text-align: right;\n",
       "    }\n",
       "</style>\n",
       "<table border=\"1\" class=\"dataframe\">\n",
       "  <thead>\n",
       "    <tr style=\"text-align: right;\">\n",
       "      <th></th>\n",
       "      <th>0</th>\n",
       "      <th>1</th>\n",
       "    </tr>\n",
       "  </thead>\n",
       "  <tbody>\n",
       "    <tr>\n",
       "      <th>0</th>\n",
       "      <td>-58.3775508488443</td>\n",
       "      <td>-34.6288473603881</td>\n",
       "    </tr>\n",
       "    <tr>\n",
       "      <th>1</th>\n",
       "      <td>-58.4120700769456</td>\n",
       "      <td>-34.5941919726393</td>\n",
       "    </tr>\n",
       "  </tbody>\n",
       "</table>\n",
       "</div>"
      ],
      "text/plain": [
       "                   0                  1\n",
       "0  -58.3775508488443  -34.6288473603881\n",
       "1  -58.4120700769456  -34.5941919726393"
      ]
     },
     "execution_count": 49,
     "metadata": {},
     "output_type": "execute_result"
    }
   ],
   "source": [
    "coordenadas = hospital[\"WKT\"].str.split(expand=True)\n",
    "coordenadas.head(2)"
   ]
  },
  {
   "cell_type": "code",
   "execution_count": 52,
   "metadata": {},
   "outputs": [],
   "source": [
    "# hospital[[\"LATITUD\", \"LONGITUD\"]] = hospital[\"WKT\"].str.split(\" \", expand=True)\n",
    "# hospital.head(2)"
   ]
  },
  {
   "cell_type": "code",
   "execution_count": 53,
   "metadata": {},
   "outputs": [
    {
     "data": {
      "text/plain": [
       "'\\ncoordenadas[1] = coordenadas[1].str.replace(\"(\",\"\")\\ncoordenadas[2] = coordenadas[2].str.replace(\")\",\"\")\\ncoordenadas[1] = coordenadas[1].str.replace(\" \",\"\")\\ncoordenadas[2] = coordenadas[2].str.replace(\" \",\"\")\\n'"
      ]
     },
     "execution_count": 53,
     "metadata": {},
     "output_type": "execute_result"
    }
   ],
   "source": [
    "# viene de dividir WKT en 3 columnas separada por \" \". Se elimina la primer columnade POINT y se editan los caracteres de las otras dos columnas restantes\n",
    "'''\n",
    "coordenadas[1] = coordenadas[1].str.replace(\"(\",\"\")\n",
    "coordenadas[2] = coordenadas[2].str.replace(\")\",\"\")\n",
    "coordenadas[1] = coordenadas[1].str.replace(\" \",\"\")\n",
    "coordenadas[2] = coordenadas[2].str.replace(\" \",\"\")\n",
    "'''"
   ]
  },
  {
   "cell_type": "code",
   "execution_count": 54,
   "metadata": {},
   "outputs": [
    {
     "data": {
      "text/html": [
       "<div>\n",
       "<style scoped>\n",
       "    .dataframe tbody tr th:only-of-type {\n",
       "        vertical-align: middle;\n",
       "    }\n",
       "\n",
       "    .dataframe tbody tr th {\n",
       "        vertical-align: top;\n",
       "    }\n",
       "\n",
       "    .dataframe thead th {\n",
       "        text-align: right;\n",
       "    }\n",
       "</style>\n",
       "<table border=\"1\" class=\"dataframe\">\n",
       "  <thead>\n",
       "    <tr style=\"text-align: right;\">\n",
       "      <th></th>\n",
       "      <th>0</th>\n",
       "      <th>1</th>\n",
       "      <th>WKT</th>\n",
       "      <th>DOM_NORMA</th>\n",
       "      <th>NOMBRE</th>\n",
       "    </tr>\n",
       "  </thead>\n",
       "  <tbody>\n",
       "    <tr>\n",
       "      <th>0</th>\n",
       "      <td>-58.3775508488443</td>\n",
       "      <td>-34.6288473603881</td>\n",
       "      <td>-58.3775508488443 -34.6288473603881</td>\n",
       "      <td>MONTES DE OCA, MANUEL AV. 40</td>\n",
       "      <td>HOSPITAL GENERAL DE NIÑOS PEDRO DE ELIZALDE</td>\n",
       "    </tr>\n",
       "    <tr>\n",
       "      <th>1</th>\n",
       "      <td>-58.4120700769456</td>\n",
       "      <td>-34.5941919726393</td>\n",
       "      <td>-58.4120700769456 -34.5941919726393</td>\n",
       "      <td>GALLO 1330</td>\n",
       "      <td>HOSPITAL GENERAL DE NIÑOS RICARDO GUTIERREZ</td>\n",
       "    </tr>\n",
       "  </tbody>\n",
       "</table>\n",
       "</div>"
      ],
      "text/plain": [
       "                   0                  1                                  WKT   \n",
       "0  -58.3775508488443  -34.6288473603881  -58.3775508488443 -34.6288473603881  \\\n",
       "1  -58.4120700769456  -34.5941919726393  -58.4120700769456 -34.5941919726393   \n",
       "\n",
       "                      DOM_NORMA                                       NOMBRE  \n",
       "0  MONTES DE OCA, MANUEL AV. 40  HOSPITAL GENERAL DE NIÑOS PEDRO DE ELIZALDE  \n",
       "1                    GALLO 1330  HOSPITAL GENERAL DE NIÑOS RICARDO GUTIERREZ  "
      ]
     },
     "execution_count": 54,
     "metadata": {},
     "output_type": "execute_result"
    }
   ],
   "source": [
    "hospital = pd.concat ([coordenadas, hospital], axis=1)\n",
    "hospital.head(2)"
   ]
  },
  {
   "cell_type": "code",
   "execution_count": 55,
   "metadata": {},
   "outputs": [
    {
     "data": {
      "text/html": [
       "<div>\n",
       "<style scoped>\n",
       "    .dataframe tbody tr th:only-of-type {\n",
       "        vertical-align: middle;\n",
       "    }\n",
       "\n",
       "    .dataframe tbody tr th {\n",
       "        vertical-align: top;\n",
       "    }\n",
       "\n",
       "    .dataframe thead th {\n",
       "        text-align: right;\n",
       "    }\n",
       "</style>\n",
       "<table border=\"1\" class=\"dataframe\">\n",
       "  <thead>\n",
       "    <tr style=\"text-align: right;\">\n",
       "      <th></th>\n",
       "      <th>0</th>\n",
       "      <th>1</th>\n",
       "      <th>DOM_NORMA</th>\n",
       "      <th>NOMBRE</th>\n",
       "    </tr>\n",
       "  </thead>\n",
       "  <tbody>\n",
       "    <tr>\n",
       "      <th>0</th>\n",
       "      <td>-58.3775508488443</td>\n",
       "      <td>-34.6288473603881</td>\n",
       "      <td>MONTES DE OCA, MANUEL AV. 40</td>\n",
       "      <td>HOSPITAL GENERAL DE NIÑOS PEDRO DE ELIZALDE</td>\n",
       "    </tr>\n",
       "    <tr>\n",
       "      <th>1</th>\n",
       "      <td>-58.4120700769456</td>\n",
       "      <td>-34.5941919726393</td>\n",
       "      <td>GALLO 1330</td>\n",
       "      <td>HOSPITAL GENERAL DE NIÑOS RICARDO GUTIERREZ</td>\n",
       "    </tr>\n",
       "  </tbody>\n",
       "</table>\n",
       "</div>"
      ],
      "text/plain": [
       "                   0                  1                     DOM_NORMA   \n",
       "0  -58.3775508488443  -34.6288473603881  MONTES DE OCA, MANUEL AV. 40  \\\n",
       "1  -58.4120700769456  -34.5941919726393                    GALLO 1330   \n",
       "\n",
       "                                        NOMBRE  \n",
       "0  HOSPITAL GENERAL DE NIÑOS PEDRO DE ELIZALDE  \n",
       "1  HOSPITAL GENERAL DE NIÑOS RICARDO GUTIERREZ  "
      ]
     },
     "execution_count": 55,
     "metadata": {},
     "output_type": "execute_result"
    }
   ],
   "source": [
    "del coordenadas\n",
    "del hospital[\"WKT\"]\n",
    "hospital.head(2)"
   ]
  },
  {
   "cell_type": "code",
   "execution_count": 56,
   "metadata": {},
   "outputs": [
    {
     "data": {
      "text/html": [
       "<div>\n",
       "<style scoped>\n",
       "    .dataframe tbody tr th:only-of-type {\n",
       "        vertical-align: middle;\n",
       "    }\n",
       "\n",
       "    .dataframe tbody tr th {\n",
       "        vertical-align: top;\n",
       "    }\n",
       "\n",
       "    .dataframe thead tr th {\n",
       "        text-align: left;\n",
       "    }\n",
       "</style>\n",
       "<table border=\"1\" class=\"dataframe\">\n",
       "  <thead>\n",
       "    <tr>\n",
       "      <th></th>\n",
       "      <th>LATITUD</th>\n",
       "      <th>LONGITUD</th>\n",
       "      <th>NAME</th>\n",
       "      <th>LABEL</th>\n",
       "    </tr>\n",
       "  </thead>\n",
       "  <tbody>\n",
       "    <tr>\n",
       "      <th>0</th>\n",
       "      <td>-58.3775508488443</td>\n",
       "      <td>-34.6288473603881</td>\n",
       "      <td>MONTES DE OCA, MANUEL AV. 40</td>\n",
       "      <td>HOSPITAL GENERAL DE NIÑOS PEDRO DE ELIZALDE</td>\n",
       "    </tr>\n",
       "    <tr>\n",
       "      <th>1</th>\n",
       "      <td>-58.4120700769456</td>\n",
       "      <td>-34.5941919726393</td>\n",
       "      <td>GALLO 1330</td>\n",
       "      <td>HOSPITAL GENERAL DE NIÑOS RICARDO GUTIERREZ</td>\n",
       "    </tr>\n",
       "  </tbody>\n",
       "</table>\n",
       "</div>"
      ],
      "text/plain": [
       "             LATITUD           LONGITUD                          NAME   \n",
       "0  -58.3775508488443  -34.6288473603881  MONTES DE OCA, MANUEL AV. 40  \\\n",
       "1  -58.4120700769456  -34.5941919726393                    GALLO 1330   \n",
       "\n",
       "                                         LABEL  \n",
       "0  HOSPITAL GENERAL DE NIÑOS PEDRO DE ELIZALDE  \n",
       "1  HOSPITAL GENERAL DE NIÑOS RICARDO GUTIERREZ  "
      ]
     },
     "execution_count": 56,
     "metadata": {},
     "output_type": "execute_result"
    }
   ],
   "source": [
    "hospital.columns = [[\"LATITUD\", \"LONGITUD\", \"NAME\", \"LABEL\"]]\n",
    "hospital.head(2)"
   ]
  },
  {
   "cell_type": "code",
   "execution_count": 63,
   "metadata": {},
   "outputs": [],
   "source": [
    "# hospital[\"LATITUD\"] = pd.to_numeric(hospital[\"LATITUD\"])\n",
    "# hospital[\"LONGITUD\"] = pd.to_numeric(list(hospital[\"LONGITUD\"])<)"
   ]
  },
  {
   "cell_type": "code",
   "execution_count": 65,
   "metadata": {},
   "outputs": [
    {
     "data": {
      "text/plain": [
       "LATITUD     float64\n",
       "LONGITUD    float64\n",
       "NAME         object\n",
       "LABEL        object\n",
       "dtype: object"
      ]
     },
     "execution_count": 65,
     "metadata": {},
     "output_type": "execute_result"
    }
   ],
   "source": [
    "hospital[\"LATITUD\"] = hospital[\"LATITUD\"].astype(float)                 # hospital[\"LATITUD\"] = pd.to_numeric(hospital[\"LATITUD\"])\n",
    "hospital[\"LONGITUD\"] = hospital[\"LONGITUD\"].astype(float)               # hospital[\"LONGITUD\"] = pd.to_numeric(hospital[\"LONGITUD\"])\n",
    "hospital.dtypes"
   ]
  },
  {
   "cell_type": "code",
   "execution_count": 67,
   "metadata": {},
   "outputs": [],
   "source": [
    "hospital.to_csv(\"clase_04_ivan_archivo.csv\", index=False)"
   ]
  }
 ],
 "metadata": {
  "kernelspec": {
   "display_name": "Python 3",
   "language": "python",
   "name": "python3"
  },
  "language_info": {
   "codemirror_mode": {
    "name": "ipython",
    "version": 3
   },
   "file_extension": ".py",
   "mimetype": "text/x-python",
   "name": "python",
   "nbconvert_exporter": "python",
   "pygments_lexer": "ipython3",
   "version": "3.11.2"
  },
  "orig_nbformat": 4
 },
 "nbformat": 4,
 "nbformat_minor": 2
}

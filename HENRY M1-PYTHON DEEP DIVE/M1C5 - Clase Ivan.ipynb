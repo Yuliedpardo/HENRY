{
 "cells": [
  {
   "cell_type": "code",
   "execution_count": null,
   "metadata": {},
   "outputs": [],
   "source": [
    "'''\n",
    "cada objeto tiene identificacion, nombre y  características\n",
    "\n",
    "arrancar un carro\n",
    "\n",
    "carro\n",
    "\n",
    "color\n",
    "tipo\n",
    "\n",
    "ir a la derecha\n",
    "ir a la izquierda\n",
    "acelerar\n",
    "frenar\n",
    "'''"
   ]
  },
  {
   "cell_type": "code",
   "execution_count": 1,
   "metadata": {},
   "outputs": [],
   "source": [
    "class Carro_1:\n",
    "    \n",
    "    def __init__(self, color, tipo) -> None:                # (método privado) permite ue se defina automaticamente\n",
    "        self.tipo = tipo\n",
    "        self.color = color\n",
    "        self.__motor = motor                                # (variable privada) con el doble _ permite que la variable solo pueda ser llamada dentro de la funciòn y no fuera de ella\n",
    "        pass\n",
    "\n",
    "    def __cambiar_color_carro (self, color):                # (metodo privado) solo puede ser llamado dentro de la misma fucnion\n",
    "        self.color = color\n",
    "\n",
    "    def contratar_mecanico_cambiar_color (self, color):     # (metodo publico) este metodo si lo puedo llamar desde afuera y este llama al metodo privado\n",
    "        self.__cambiar_color_carro (color)\n",
    "\n",
    "    def caracteristica (self, color, tipo):                 # (metodo publico) tocaría definirlo manualmente\n",
    "        self.tipo = tipo\n",
    "        self.color = color"
   ]
  },
  {
   "cell_type": "code",
   "execution_count": 7,
   "metadata": {},
   "outputs": [],
   "source": [
    "# ejemplo de funcionamiento de las pilas\n",
    "\n",
    "class Pila ():\n",
    "    def __init__(self):\n",
    "        self.__list = []                                        # no me deja ver la lista porqu es privada\n",
    "    \n",
    "    def agregar (self, elemento):\n",
    "        self.__list.append (elemento)                           # agrega un elemento al final\n",
    "        print (\"ingresó el elemento\", elemento)\n",
    "    \n",
    "    def quitar (self):\n",
    "        print (\"eliminó el elemento\", self.__list.pop ())       # elimina el ultimo elemento almacenado\n",
    "\n",
    "    def tamanio (self):\n",
    "        print (\"tamaño pila es \", len(self.__list))             # ejemplo para mostrar el tamaño de la pila"
   ]
  },
  {
   "cell_type": "code",
   "execution_count": 8,
   "metadata": {},
   "outputs": [
    {
     "name": "stdout",
     "output_type": "stream",
     "text": [
      "ingresó el elemento Esta es la primera parte de mi escrito para publicar\n",
      "ingresó el elemento Harry Potter y el por qué Colombia es de Sudamérica\n",
      "eliminó el elemento Harry Potter y el por qué Colombia es de Sudamérica\n"
     ]
    }
   ],
   "source": [
    "# ejemplo de procesador de textos con una estructura pila\n",
    "\n",
    "procesador_de_textos = Pila ()\n",
    "\n",
    "procesador_de_textos.agregar (\"Esta es la primera parte de mi escrito para publicar\")\n",
    "procesador_de_textos.agregar (\"Harry Potter y el por qué Colombia es de Sudamérica\")\n",
    "\n",
    "procesador_de_textos.quitar ()"
   ]
  },
  {
   "cell_type": "code",
   "execution_count": 12,
   "metadata": {},
   "outputs": [],
   "source": [
    "# ejemplo de estructura cola\n",
    "\n",
    "class Cola ():\n",
    "    \n",
    "    def __init__(self):\n",
    "        self.__lista = []\n",
    "\n",
    "    def poner_elemento (self, elemento):\n",
    "        self.__lista.append (elemento)                           # agrega un elemento al final\n",
    "        print (\"ingresó el elemento\", elemento)\n",
    "    \n",
    "    def quitar_de_la_cola (self):\n",
    "        print (\"quitó el elemento\", self.__lista.pop(0))        # (elimina el elemento más antiguo) elimina el elemento que se encuentra en el índice 0\n"
   ]
  },
  {
   "cell_type": "code",
   "execution_count": 13,
   "metadata": {},
   "outputs": [
    {
     "name": "stdout",
     "output_type": "stream",
     "text": [
      "ingresó el elemento circulo\n",
      "ingresó el elemento cuadrado\n",
      "ingresó el elemento arriba\n",
      "quitó el elemento circulo\n",
      "quitó el elemento cuadrado\n",
      "quitó el elemento arriba\n"
     ]
    }
   ],
   "source": [
    "# ejemplo para un videojuego\n",
    "\n",
    "god_war = Cola()\n",
    "\n",
    "god_war.poner_elemento(\"circulo\")           # agrega una acción a la lista\n",
    "god_war.poner_elemento(\"cuadrado\")          # agrega una acción a la lista\n",
    "god_war.poner_elemento(\"arriba\")            # agrega una acción a la lista\n",
    "\n",
    "god_war.quitar_de_la_cola()                 # elimina la primer acción que se envió (circulo)\n",
    "god_war.quitar_de_la_cola()                 # elimina la primer acción que se envió (cuadrado)\n",
    "god_war.quitar_de_la_cola()                 # elimina la primer acción que se envió (arriba)"
   ]
  },
  {
   "cell_type": "code",
   "execution_count": 14,
   "metadata": {},
   "outputs": [],
   "source": [
    "'''\n",
    "para la homework:\n",
    "\n",
    "# se puede usar el metodo shuffle en una lista\n",
    "# se puede usar la libreria random para tener el metodo random\n",
    "'''"
   ]
  }
 ],
 "metadata": {
  "kernelspec": {
   "display_name": "Python 3",
   "language": "python",
   "name": "python3"
  },
  "language_info": {
   "codemirror_mode": {
    "name": "ipython",
    "version": 3
   },
   "file_extension": ".py",
   "mimetype": "text/x-python",
   "name": "python",
   "nbconvert_exporter": "python",
   "pygments_lexer": "ipython3",
   "version": "3.11.2"
  },
  "orig_nbformat": 4
 },
 "nbformat": 4,
 "nbformat_minor": 2
}

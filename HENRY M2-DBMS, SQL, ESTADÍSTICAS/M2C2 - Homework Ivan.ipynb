{
 "cells": [
  {
   "attachments": {},
   "cell_type": "markdown",
   "metadata": {},
   "source": [
    "## Homework\n",
    "Utilizando Python cálcular las siguientes probabilidades. Para cada uno intenta determinar que método aplicaste.<br>\n",
    "\n",
    "1. Lanza una moneda al aire 10 veces, ¿cuantos resultados posibles forman parte del espacio muestral?.\n"
   ]
  },
  {
   "cell_type": "code",
   "execution_count": 8,
   "metadata": {},
   "outputs": [
    {
     "name": "stdout",
     "output_type": "stream",
     "text": [
      "espacio muestral:  1024\n"
     ]
    }
   ],
   "source": [
    "# conteno por pasos múltiples\n",
    "\n",
    "valores_moneda = 2\n",
    "lanzamientos = 10\n",
    "\n",
    "resul_posibles = valores_moneda ** lanzamientos\n",
    "print (\"espacio muestral: \", int(resul_posibles))"
   ]
  },
  {
   "attachments": {},
   "cell_type": "markdown",
   "metadata": {},
   "source": [
    "2. En un aeropuerto se tiene a 10 pasajeros esperando en la sala de preembarque, la polícia debe controlar a 3 de ellos. ¿Cuantas combinaciones posibles se pueden obtener?.\n"
   ]
  },
  {
   "cell_type": "code",
   "execution_count": 4,
   "metadata": {},
   "outputs": [],
   "source": [
    "def factorial(n):\n",
    "   if n==0 or n==1:\n",
    "            resultado=1\n",
    "   elif n>1:\n",
    "            resultado=n*factorial(n-1)\n",
    "   return resultado"
   ]
  },
  {
   "cell_type": "code",
   "execution_count": 7,
   "metadata": {},
   "outputs": [
    {
     "name": "stdout",
     "output_type": "stream",
     "text": [
      "el numero de combinaciones es  120\n"
     ]
    }
   ],
   "source": [
    "# conteo por combinaciones\n",
    "\n",
    "pasajeros = 3\n",
    "total = 10\n",
    "\n",
    "combinaciones = factorial(total) / (factorial(pasajeros) * factorial(total - pasajeros))\n",
    "print (\"el numero de combinaciones es \", int(combinaciones))\n"
   ]
  },
  {
   "attachments": {},
   "cell_type": "markdown",
   "metadata": {},
   "source": [
    "3. La Agencia Nacional de Seguridad Vial realizó una investigación para saber si los conductores de están usando sus cinturones de seguridad. Los datos muestrales fueron los siguientes:<br><br>\n",
    "Conductores que emplean el cinturón <br>\n",
    "\n",
    "![Ejercicio](../_src/assets/ejercicio3.PNG)\n",
    "\n",
    "- a) ¿Qué metodo cree que se utilizo para asignar probabilidades?.\n"
   ]
  },
  {
   "cell_type": "code",
   "execution_count": 10,
   "metadata": {},
   "outputs": [],
   "source": [
    "# se usa frecuentista porque tenemos todos los datos que necesitamos"
   ]
  },
  {
   "attachments": {},
   "cell_type": "markdown",
   "metadata": {},
   "source": [
    "- b) Construya un cuadro similar, pero con la asignación de probabilidades.\n"
   ]
  },
  {
   "cell_type": "code",
   "execution_count": 2,
   "metadata": {},
   "outputs": [],
   "source": [
    "import pandas as pd"
   ]
  },
  {
   "cell_type": "code",
   "execution_count": 78,
   "metadata": {},
   "outputs": [
    {
     "name": "stdout",
     "output_type": "stream",
     "text": [
      "          si   no  Total\n",
      "Norte    148   52    200\n",
      "Noreste  162   54    216\n",
      "Sur      296   74    370\n",
      "Centro   252   48    300\n",
      "Total    858  228   1086\n"
     ]
    }
   ],
   "source": [
    "#creo cuadro con valores totales agregados\n",
    "\n",
    "regiones = [\"Norte\", \"Noreste\", \"Sur\", \"Centro\"]\n",
    "valores_si = [148, 162, 296, 252]\n",
    "valores_no = [52, 54, 74, 48]\n",
    "\n",
    "datos = {\"si\": valores_si, \"no\": valores_no}                                    # crea diccionario a partir de varias listas\n",
    "df = pd.DataFrame(datos, index = regiones)                                      # crea dataframe y agrega una lista como indice\n",
    "\n",
    "cuadro_2 = df.copy()                                                            # crea un df copia del original\n",
    "\n",
    "# antes de agregar columnas se pueden sumar los valores son .sum para crear el nuevo cuadro que necesite\n",
    "cuadro_2.loc[5] = cuadro_2[\"si\"].sum(), cuadro_2[\"no\"].sum()                    # crea una nueva fila sumando los valors totales\n",
    "cuadro_2 = cuadro_2.rename(index = {5: \"Total\"})                                # cambia el nombre del indice de esa nueva fila\n",
    "cuadro_2 = cuadro_2.assign(Total = cuadro_2[\"si\"] + cuadro_2[\"no\"])             # crea una nueva columna de totales (suma los valores de cada fila)\n",
    "print(cuadro_2)"
   ]
  },
  {
   "cell_type": "code",
   "execution_count": 79,
   "metadata": {},
   "outputs": [
    {
     "name": "stdout",
     "output_type": "stream",
     "text": [
      "\n",
      "                si        no     Total\n",
      "Norte    0.136280  0.047882  0.184162\n",
      "Noreste  0.149171  0.049724  0.198895\n",
      "Sur      0.272560  0.068140  0.340700\n",
      "Centro   0.232044  0.044199  0.276243\n",
      "Total    0.790055  0.209945  1.000000\n"
     ]
    }
   ],
   "source": [
    "# creo un cuadro con totales agregados pero en forma de porcentaje\n",
    "\n",
    "cuadro_3 = cuadro_2 / sum(cuadro_2.iloc[0:4,0:2].sum())                         # suma las columnas y filas de cuadro_2 sin contar los totales. Utiliza el resultado para sacar el porcentaje de cada valor de la muestra para untotal de 100%\n",
    "print(\"\\n\", cuadro_3)"
   ]
  },
  {
   "attachments": {},
   "cell_type": "markdown",
   "metadata": {},
   "source": [
    "- c) ¿Cuál sería el mejor método pára estimar la probabilidad de que en Estados Unidos un conductor lleve puesto el cinturón?.\n"
   ]
  },
  {
   "cell_type": "code",
   "execution_count": 51,
   "metadata": {},
   "outputs": [
    {
     "name": "stdout",
     "output_type": "stream",
     "text": [
      "0.7900552486187845\n",
      "0.7900552486187845\n"
     ]
    }
   ],
   "source": [
    "# sumar toda la columna de probabilidades. Se calcula sobre la totalidad de elementos\n",
    "\n",
    "print(cuadro_3.iloc[0:4,0].sum())                   # suma los valores de la fila 1 a la fila 3 para la primera columna\n",
    "print(cuadro_3.loc[\"Total\",\"si\"])                   # imprime el indice \"total\" de la colunna si\n"
   ]
  },
  {
   "attachments": {},
   "cell_type": "markdown",
   "metadata": {},
   "source": [
    "- d) Un año antes, la probabilidad en Argentina de que un conductor llevara puesto el cinturón era 0.75. El director de ANSV, se esperaba que la probabilidad llegara a 0.78. ¿Estará satisfecho con los resultados del estudio? (Utilizar tabla adjunta<br><br>\n",
    "(![Ejercicio](../_src/assets/ejercicio3.PNG))<br><br>\n"
   ]
  },
  {
   "cell_type": "code",
   "execution_count": null,
   "metadata": {},
   "outputs": [],
   "source": [
    "# si ya que este año fue mayor al esperado. Se esperaba 0.78 y se alcanzó 0.79"
   ]
  },
  {
   "attachments": {},
   "cell_type": "markdown",
   "metadata": {},
   "source": [
    "- e) ¿Cuál es la probabilidad de que se use el cinturón en las distintas regiones del país? ¿En qué región se usa más el cinturón?(Utilizar misma tabla que el ejercicio anterior).\n"
   ]
  },
  {
   "cell_type": "code",
   "execution_count": 77,
   "metadata": {},
   "outputs": [
    {
     "name": "stdout",
     "output_type": "stream",
     "text": [
      "               si        no     Total\n",
      "Norte    0.136280  0.047882  0.184162\n",
      "Noreste  0.149171  0.049724  0.198895\n",
      "Sur      0.272560  0.068140  0.340700\n",
      "Centro   0.232044  0.044199  0.276243\n",
      "Total    0.790055  0.209945  1.000000\n",
      "\n",
      "la region donde más se usa el cinturo es:  Sur\n"
     ]
    }
   ],
   "source": [
    "print (cuadro_3)\n",
    "\n",
    "print(\"\\nla region donde más se usa el cinturon es: \",cuadro_3.iloc[0:4,0].idxmax())        # devuelve el indice del mayor valor\n"
   ]
  },
  {
   "cell_type": "code",
   "execution_count": 62,
   "metadata": {},
   "outputs": [
    {
     "data": {
      "text/html": [
       "<div>\n",
       "<style scoped>\n",
       "    .dataframe tbody tr th:only-of-type {\n",
       "        vertical-align: middle;\n",
       "    }\n",
       "\n",
       "    .dataframe tbody tr th {\n",
       "        vertical-align: top;\n",
       "    }\n",
       "\n",
       "    .dataframe thead th {\n",
       "        text-align: right;\n",
       "    }\n",
       "</style>\n",
       "<table border=\"1\" class=\"dataframe\">\n",
       "  <thead>\n",
       "    <tr style=\"text-align: right;\">\n",
       "      <th></th>\n",
       "      <th>si</th>\n",
       "      <th>no</th>\n",
       "      <th>Total</th>\n",
       "    </tr>\n",
       "  </thead>\n",
       "  <tbody>\n",
       "    <tr>\n",
       "      <th>Norte</th>\n",
       "      <td>0.74</td>\n",
       "      <td>0.26</td>\n",
       "      <td>1.0</td>\n",
       "    </tr>\n",
       "    <tr>\n",
       "      <th>Noreste</th>\n",
       "      <td>0.75</td>\n",
       "      <td>0.25</td>\n",
       "      <td>1.0</td>\n",
       "    </tr>\n",
       "    <tr>\n",
       "      <th>Sur</th>\n",
       "      <td>0.80</td>\n",
       "      <td>0.20</td>\n",
       "      <td>1.0</td>\n",
       "    </tr>\n",
       "    <tr>\n",
       "      <th>Centro</th>\n",
       "      <td>0.84</td>\n",
       "      <td>0.16</td>\n",
       "      <td>1.0</td>\n",
       "    </tr>\n",
       "  </tbody>\n",
       "</table>\n",
       "</div>"
      ],
      "text/plain": [
       "           si    no  Total\n",
       "Norte    0.74  0.26    1.0\n",
       "Noreste  0.75  0.25    1.0\n",
       "Sur      0.80  0.20    1.0\n",
       "Centro   0.84  0.16    1.0"
      ]
     },
     "execution_count": 62,
     "metadata": {},
     "output_type": "execute_result"
    }
   ],
   "source": [
    "# podemos evaluar la probailidad de usar o no el cinturon para cada region de manera individual\n",
    "\n",
    "cuadro_4 = cuadro_3.iloc[0:4,0:2].copy()                                                    # crea uan copia del cuadro_3 pero solo de ciertas filas y columnas\n",
    "\n",
    "cuadro_4.loc[\"Norte\"] = cuadro_4.loc[\"Norte\"] / cuadro_4.loc[\"Norte\"].sum()                 # saca porcentaje de filas y columnas para cada region en particular. Se usa loc para reerirse a filas\n",
    "cuadro_4.loc[\"Noreste\"] = cuadro_4.loc[\"Noreste\"] / cuadro_4.loc[\"Noreste\"].sum()\n",
    "cuadro_4.loc[\"Sur\"] = cuadro_4.loc[\"Sur\"] / cuadro_4.loc[\"Sur\"].sum()\n",
    "cuadro_4.loc[\"Centro\"] = cuadro_4.loc[\"Centro\"] / cuadro_4.loc[\"Centro\"].sum()\n",
    "\n",
    "cuadro_4[\"Total\"] = cuadro_4[\"si\"] + cuadro_4[\"no\"]                                         # agrega una columna con el total por fila\n",
    "\n",
    "cuadro_4"
   ]
  },
  {
   "attachments": {},
   "cell_type": "markdown",
   "metadata": {},
   "source": [
    "4. Crear una funcion que permita calcular a probabilidad de los siguientes eventos en un baraja de 52 cartas.<br>\n",
    "- Obtener una carta roja.<br>\n",
    "- Obtener una carta negra.<br>\n",
    "- Obtener una pica.<br>\n",
    "- Obtener un trébol.<br>\n",
    "- Obtener un corazón.<br>\n",
    "- Obtener un diamante.<br>\n"
   ]
  },
  {
   "cell_type": "code",
   "execution_count": 80,
   "metadata": {},
   "outputs": [],
   "source": [
    "def probabilidad(categoria):\n",
    "\n",
    "    cartas = 52\n",
    "    colores = 2\n",
    "    palos = 4\n",
    "    figuras = cartas / palos\n",
    "    cartas_color = cartas / colores\n",
    "    cartas_categoria = cartas / palos\n",
    "    conjunto = (\"pica\", \"trebol\", \"corazon\", \"diamante\")\n",
    "\n",
    "    if (categoria == \"roja\" or categoria == \"negra\"):\n",
    "        return cartas_color / cartas\n",
    "    elif categoria in conjunto:\n",
    "        return cartas_categoria / cartas\n",
    "    else:\n",
    "        return palos/cartas"
   ]
  },
  {
   "cell_type": "code",
   "execution_count": 22,
   "metadata": {},
   "outputs": [
    {
     "name": "stdout",
     "output_type": "stream",
     "text": [
      "0.5\n",
      "0.5\n",
      "0.25\n"
     ]
    }
   ],
   "source": [
    "print(probabilidad(\"roja\"))\n",
    "print(probabilidad(\"negra\"))\n",
    "print(probabilidad(\"pica\"))"
   ]
  },
  {
   "attachments": {},
   "cell_type": "markdown",
   "metadata": {},
   "source": [
    "5. La probabilidad de que salga un 7 o un 8 al seleccionar una carta de una baraja de las 52 cartas que contiene el mazo. <br>\n"
   ]
  },
  {
   "cell_type": "code",
   "execution_count": 82,
   "metadata": {},
   "outputs": [
    {
     "data": {
      "text/plain": [
       "0.15384615384615385"
      ]
     },
     "execution_count": 82,
     "metadata": {},
     "output_type": "execute_result"
    }
   ],
   "source": [
    "prob = probabilidad(7) + probabilidad(8)\n",
    "prob"
   ]
  },
  {
   "attachments": {},
   "cell_type": "markdown",
   "metadata": {},
   "source": [
    "6. La probabilidad de tu país gane el mundial de fútbol.<br>\n"
   ]
  },
  {
   "cell_type": "code",
   "execution_count": null,
   "metadata": {},
   "outputs": [],
   "source": [
    "pais = 1\n",
    "total_paises_juegan = 32\n",
    "\n",
    "probabilidad = pais / total_paises_juegan                   # este modelo no es muy acertado. hay que analizar la probabilidad de que pase cada fase\n"
   ]
  },
  {
   "attachments": {},
   "cell_type": "markdown",
   "metadata": {},
   "source": [
    "7. Un experimento que tiene tres resultados es repetido 50 veces y se ve que E1 aparece 20 veces, E2 13 veces y E3 17 veces. Asigne probabilidades a los resultados.<br>\n"
   ]
  },
  {
   "cell_type": "code",
   "execution_count": 84,
   "metadata": {},
   "outputs": [
    {
     "name": "stdout",
     "output_type": "stream",
     "text": [
      "0.4 , 0.26 , 0.34\n"
     ]
    }
   ],
   "source": [
    "E1 = 20\n",
    "E2 = 13\n",
    "E3 = 17\n",
    "Total = 50\n",
    "\n",
    "p1 = E1 / Total\n",
    "p2 = E2 / Total\n",
    "p3 = E3 / Total\n",
    "\n",
    "print(p1, \",\", p2, \",\", p3)"
   ]
  },
  {
   "attachments": {},
   "cell_type": "markdown",
   "metadata": {},
   "source": [
    "\n",
    "\n",
    "## Desafíos complementarios \n",
    "\n",
    "### Investiga e intenta resolver los siguientes ejercicios\n",
    "\n",
    "1. Si la probabilidad de que un cliente pague en efectivo (E) es 6/15, con tarjeta de crédito (TD) es 7/15 y con tarjeta de débito (TD) es 2/15. Hallar la probabilidad de que dos clientes sucesivos que pagan sus cuentas lo hagan:<br>\n",
    " a) el primero en efectivo y el segundo con tarjeta de crédito.<br>\n",
    " b) Los dos clientes en efectivo<br>\n"
   ]
  },
  {
   "cell_type": "code",
   "execution_count": null,
   "metadata": {},
   "outputs": [],
   "source": []
  },
  {
   "attachments": {},
   "cell_type": "markdown",
   "metadata": {},
   "source": [
    "2. La probabilidad de que un Henry repruebe el M1 de 0.8, de que apruebe M2 es 0.5 y de que repruebe el M3 es de 0.4.<br>\n",
    " (Los eventos no interfieren entre si) <br>\n",
    "\n",
    "![Tabla](../_src/assets/probhenry.PNG)\n",
    "\n",
    "Determinar la probabilidad de que:<br>\n",
    " a) Apruebe un módulo.<br>\n",
    " b) Repruebe las tres materias.\n",
    "\n",
    "Completa la tarea descrita en el archivo [README](https://github.com/soyHenry/Python-Prep/blob/4aec1885136fdcff98899d2be13c8908b39f8b21/02%20-%20Variables%20y%20Tipos%20de%20Datos/Prep_Course_Homework_02.md)\n"
   ]
  },
  {
   "cell_type": "code",
   "execution_count": null,
   "metadata": {},
   "outputs": [],
   "source": []
  }
 ],
 "metadata": {
  "kernelspec": {
   "display_name": "Python 3",
   "language": "python",
   "name": "python3"
  },
  "language_info": {
   "codemirror_mode": {
    "name": "ipython",
    "version": 3
   },
   "file_extension": ".py",
   "mimetype": "text/x-python",
   "name": "python",
   "nbconvert_exporter": "python",
   "pygments_lexer": "ipython3",
   "version": "3.11.2"
  },
  "orig_nbformat": 4
 },
 "nbformat": 4,
 "nbformat_minor": 2
}

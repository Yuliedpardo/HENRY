{
 "cells": [
  {
   "attachments": {},
   "cell_type": "markdown",
   "metadata": {},
   "source": [
    "## Homework\n",
    "\n",
    "1. Suponga dos eventos, A y B, y que P(A) = 0.50, P(B) = 0.60 y P(A ∩ B) = 0.40.<br>\n",
    "- a. Halle P(A | B).\n",
    "- b. Halle P(B | A).\n",
    "- c. ¿A y B son independientes? ¿Por qué sí o por qué no?\n",
    "\n"
   ]
  },
  {
   "cell_type": "code",
   "execution_count": 1,
   "metadata": {},
   "outputs": [
    {
     "name": "stdout",
     "output_type": "stream",
     "text": [
      "0.6666666666666667\n",
      "0.8\n"
     ]
    }
   ],
   "source": [
    "PA = 0.50\n",
    "PB = 0.60\n",
    "PAB = 0.40\n",
    "\n",
    "# a. Halle P(A | B).\n",
    "P = PAB / PB\n",
    "print (P)\n",
    "\n",
    "# b. Halle P(B | A)\n",
    "P = PAB / PA\n",
    "print (P)\n",
    "\n",
    "# para ser independientes P(A | B) deberia ser igual a P(A) y del mismo modo P(B | A) deberia ser igual a P(B)\n",
    "# la probabilidad de que ocurra A dado que B ocurra debe ser todo A porque no depende de B"
   ]
  },
  {
   "attachments": {},
   "cell_type": "markdown",
   "metadata": {},
   "source": [
    "2. Suponga dos eventos, A y B, que son mutuamente excluyentes. Admita, además, que P(A) = 0.30 y P(B) = 0.40.<br>\n",
    "- a. Obtenga P(A ∩ B). ¿Existe intersección entre los dos conjuntos?.\n",
    "- b. Calcule P(A | B).\n",
    "- c. Un estudiante de estadística argumenta que los conceptos de eventos mutuamente excluyentes y eventos independientes son en realidad lo mismo y que si los eventos son mutuamente excluyentes deben ser también independientes. ¿Está usted de acuerdo? Use la información sobre las probabilidades para justificar su respuesta.\n"
   ]
  },
  {
   "cell_type": "code",
   "execution_count": null,
   "metadata": {},
   "outputs": [],
   "source": [
    "PA = 0.30\n",
    "PB = 0.40\n",
    "\n",
    "# a. Obtenga P(A ∩ B). ¿Existe intersección entre los dos conjuntos?.\n",
    "# Los eventos mutuamente excluyentes no tienen probailiad en comun P(A ∩ B) = 0\n",
    "\n",
    "\n",
    "# b. Calcule P(A | B).\n",
    "# P(A | B) = P(A) = 0\n",
    "\n",
    "\n",
    "# c. Un estudiante de estadística argumenta que los conceptos de eventos mutuamente excluyentes y eventos\n",
    "# independientes son en realidad lo mismo y que si los eventos son mutuamente excluyentes deben ser también\n",
    "# independientes. ¿Está usted de acuerdo? Use la información sobre las probabilidades para justificar su respuesta.\n",
    "\n",
    "# mutuamente excluyentes = P(A ∩ B) = 0\n",
    "# independientes = P(A | B) = P(A)\n",
    "# independientes = P(B | A) = P(B)\n",
    "# P(A ∩ B) != P(A | B) != P(B | A) ---> no son lo mismo\n"
   ]
  },
  {
   "attachments": {},
   "cell_type": "markdown",
   "metadata": {},
   "source": [
    "Dada la siguiente tabla:<br>\n",
    "![Sucesos](../_src/assets/sucesos.PNG)<br>\n",
    "\n",
    "3. Si en la concesionaria se seleccionan dos ventas con reposición (Los sucesos son independientes.). Hallar la probabilidad de que las ventas sean:<br>\n",
    " \n",
    "  - a. La primera de un comprador de “menos de 40 años” y la segunda de uno de \"entre 40 y 50 años\". \n",
    "  \n",
    "  - b. las dos sean de autos \"nacionales\".\n",
    "\n"
   ]
  },
  {
   "cell_type": "code",
   "execution_count": null,
   "metadata": {},
   "outputs": [],
   "source": [
    "# a. La primera de un comprador de “menos de 40 años” y la segunda de uno de \"entre 40 y 50 años\".\n",
    "\n",
    "menos_de_40 = 30\n",
    "entre_40_50 = 34\n",
    "Total = 80\n",
    "\n",
    "Pa = menos_de_40 / Total                         # probabilidad menos de 40 años\n",
    "Pb = entre_40_50 / Total                         # probabilidad de entre 40 y 50\n",
    "P_ayb = Pa * Pb\n",
    "print (P_ayb)\n",
    "\n",
    "# b. las dos sean de autos \"nacionales\".\n",
    "\n",
    "autos_nacionales = 50\n",
    "Pa = autos_nacionales / Total                   # probabilidad autos nacionales\n",
    "Pb = autos_nacionales / Total                   # probabilidad autos nacionales\n",
    "P_ayb = Pa * Pb\n",
    "print (P_ayb)"
   ]
  },
  {
   "attachments": {},
   "cell_type": "markdown",
   "metadata": {},
   "source": [
    "4. Si la selección de las dos ventas se realiza sin reposición. Hallar la probabilidad de que las ventas sean: Los sucesos son condicionales.\n",
    "\n",
    " - a. la primera de un comprador de “menos de 40 años” y la segunda de uno de \"entre 40 y 50 años\".\n",
    "\n",
    " - b. las dos sean de autos \"nacionales\".\n",
    "\n",
    "(sin reposición quiere decir que va descontando del numero total de elementos)"
   ]
  },
  {
   "cell_type": "code",
   "execution_count": 4,
   "metadata": {},
   "outputs": [],
   "source": [
    "# a. la primera de un comprador de “menos de 40 años” (A) y la segunda de uno de \"entre 40 y 50 años\" (B).\n",
    "\n",
    "Total_menos_de_40 = 30\n",
    "Total_entre_40_y_50 = 34\n",
    "Total_autos = 80\n",
    "\n",
    "P_menos_de_40 = Total_menos_de_40 / Total_autos\n",
    "P_entre_40_y_50 = Total_entre_40_y_50 / (Total_autos - 1)                   # descuenta uno al total de autos porque ya se eligió uno\n",
    "\n",
    "\n",
    "# b. las dos sean de autos \"nacionales\".\n",
    "\n",
    "Total_nacionales = 50\n",
    "Total_autos = 80\n",
    "Pn1 = Total_nacionales / Total_autos\n",
    "Pn2 = (Total_nacionales - 1) / (Total_autos - 1)\n",
    "\n",
    "Pn = Pn1 * Pn2"
   ]
  },
  {
   "attachments": {},
   "cell_type": "markdown",
   "metadata": {},
   "source": [
    "5. Si la selección de las dos ventas se realiza sin reposición. Hallar la probabilidad de que las ventas sean:<br>\n",
    "  Los sucesos son condicionales.\n",
    "  \n",
    " - a. De un comprador de “menos de 40 años” y de uno de \"entre 40 y 50 años\". Sin importar el orden.\n",
    "\n",
    " "
   ]
  },
  {
   "cell_type": "code",
   "execution_count": null,
   "metadata": {},
   "outputs": [],
   "source": [
    "Total_autos = 80\n",
    "menosde40 = 30\n",
    "entre40y50 = 34\n",
    "\n",
    "P_orden12 = (menosde40 / 80) * (entre40y50 / (80 - 1))                  # probabilidad sin reposición para el orden donde menos de 40 compra primero\n",
    "P_orden21 = (entre40y50 / 80) * (menosde40 / (80 - 1))                  # probabilidad sin reposición par el orden donde entre40y50 compra primero\n",
    "\n",
    "p = P_orden12 + P_orden21                                               # calculo de la probabilidad (ó) donde evaluamos la probabilidad para que las cosas se den sin importar el orden"
   ]
  },
  {
   "attachments": {},
   "cell_type": "markdown",
   "metadata": {},
   "source": [
    "6. Debido al aumento de los costos de los seguros, en un país 43 millones de personas, hay personas que no cuentan con un seguro médico. En la tabla siguiente se muestran datos muestrales representativos de la cantidad de personas que cuentan con seguro médico:<br>\n",
    " ![Seguro](../_src/assets/seguro.PNG)\n",
    "\n",
    "- a. Con estos datos elabore una tabla de probabilidad conjunta y úsela para responder las preguntas restantes.\n",
    "- b. ¿Qué indican las probabilidades marginales acerca de la edad de la población?\n",
    "- c. ¿Cuál es la probabilidad de que una persona tomada en forma aleatoria no tenga seguro médico?\n",
    "- d. Si la persona tiene entre 18 y 34 años, ¿cuál es la probabilidad de que no tenga seguro médico?\n",
    "- e. Si la persona tiene 35 años o más ¿cuál es la probabilidad de que no tenga seguro médico?\n",
    "- f. Si la persona no tiene seguro médico, ¿cuál es la probabilidad de que tenga entre 18 y 34 años?\n",
    "\n",
    "#### Puedes complementar con los ejercicios del 33 al 40 del Capitula 4 del libro \"ESTADÍSTICA PARA ADMINISTRACIÓN Y ECONOMÍA\"\n"
   ]
  },
  {
   "cell_type": "code",
   "execution_count": 11,
   "metadata": {},
   "outputs": [
    {
     "data": {
      "text/html": [
       "<div>\n",
       "<style scoped>\n",
       "    .dataframe tbody tr th:only-of-type {\n",
       "        vertical-align: middle;\n",
       "    }\n",
       "\n",
       "    .dataframe tbody tr th {\n",
       "        vertical-align: top;\n",
       "    }\n",
       "\n",
       "    .dataframe thead th {\n",
       "        text-align: right;\n",
       "    }\n",
       "</style>\n",
       "<table border=\"1\" class=\"dataframe\">\n",
       "  <thead>\n",
       "    <tr style=\"text-align: right;\">\n",
       "      <th></th>\n",
       "      <th>Si</th>\n",
       "      <th>No</th>\n",
       "      <th>Total</th>\n",
       "    </tr>\n",
       "  </thead>\n",
       "  <tbody>\n",
       "    <tr>\n",
       "      <th>18 a 34</th>\n",
       "      <td>0.375</td>\n",
       "      <td>0.085</td>\n",
       "      <td>0.46</td>\n",
       "    </tr>\n",
       "    <tr>\n",
       "      <th>35 o mayor</th>\n",
       "      <td>0.475</td>\n",
       "      <td>0.065</td>\n",
       "      <td>0.54</td>\n",
       "    </tr>\n",
       "    <tr>\n",
       "      <th>Total</th>\n",
       "      <td>0.850</td>\n",
       "      <td>0.150</td>\n",
       "      <td>1.00</td>\n",
       "    </tr>\n",
       "  </tbody>\n",
       "</table>\n",
       "</div>"
      ],
      "text/plain": [
       "               Si     No  Total\n",
       "18 a 34     0.375  0.085   0.46\n",
       "35 o mayor  0.475  0.065   0.54\n",
       "Total       0.850  0.150   1.00"
      ]
     },
     "execution_count": 11,
     "metadata": {},
     "output_type": "execute_result"
    }
   ],
   "source": [
    "# la tabla de probabilidad conjuntoa lleva los totales de las filas y de las columnas\n",
    "\n",
    "import pandas as pd\n",
    "\n",
    "diccionario = {\"Si\":[750, 950, 750+950], \"No\": [170, 130, 170+130], \"Total\": [750+170, 950+130, 750+950+170+130]}\n",
    "Edad = [\"18 a 34\", \"35 o mayor\", \"Total\"]\n",
    "\n",
    "df_seguro_medico = pd.DataFrame(diccionario, index = Edad)                              # crear dataframe\n",
    "\n",
    "df_seguro_medico_2 = df_seguro_medico / df_seguro_medico.loc[\"Total\", \"Total\"]            # sacar probabilidades marginales\n",
    "\n",
    "df_seguro_medico_2\n"
   ]
  },
  {
   "cell_type": "code",
   "execution_count": 12,
   "metadata": {},
   "outputs": [
    {
     "data": {
      "text/html": [
       "<div>\n",
       "<style scoped>\n",
       "    .dataframe tbody tr th:only-of-type {\n",
       "        vertical-align: middle;\n",
       "    }\n",
       "\n",
       "    .dataframe tbody tr th {\n",
       "        vertical-align: top;\n",
       "    }\n",
       "\n",
       "    .dataframe thead th {\n",
       "        text-align: right;\n",
       "    }\n",
       "</style>\n",
       "<table border=\"1\" class=\"dataframe\">\n",
       "  <thead>\n",
       "    <tr style=\"text-align: right;\">\n",
       "      <th></th>\n",
       "      <th>Si</th>\n",
       "      <th>No</th>\n",
       "      <th>Total</th>\n",
       "    </tr>\n",
       "  </thead>\n",
       "  <tbody>\n",
       "    <tr>\n",
       "      <th>18 a 34</th>\n",
       "      <td>750</td>\n",
       "      <td>170</td>\n",
       "      <td>920</td>\n",
       "    </tr>\n",
       "    <tr>\n",
       "      <th>35 o mayor</th>\n",
       "      <td>950</td>\n",
       "      <td>130</td>\n",
       "      <td>1080</td>\n",
       "    </tr>\n",
       "    <tr>\n",
       "      <th>Total</th>\n",
       "      <td>1700</td>\n",
       "      <td>300</td>\n",
       "      <td>2000</td>\n",
       "    </tr>\n",
       "  </tbody>\n",
       "</table>\n",
       "</div>"
      ],
      "text/plain": [
       "              Si   No  Total\n",
       "18 a 34      750  170    920\n",
       "35 o mayor   950  130   1080\n",
       "Total       1700  300   2000"
      ]
     },
     "execution_count": 12,
     "metadata": {},
     "output_type": "execute_result"
    }
   ],
   "source": [
    "df_seguro_medico"
   ]
  },
  {
   "cell_type": "code",
   "execution_count": null,
   "metadata": {},
   "outputs": [],
   "source": [
    "# conclusiones\n",
    "# b. la probabilidad de que la población tenga seguro es mayor que la probabilidad de que no tenga\n",
    "# c. la probabilidad de que una persona no tenga seguro médico es de 15%\n",
    "# d. la probabilidad de que no tenga seguro medico si está entre 18 y 35 años es de 8.5%\n",
    "# e. la probabilidad de que no tenga seguro medico si tiene 35 años o mas es de 6.5%\n",
    "# f. la probabilidad de que alguien tenga entre 18 y 34 dado que no tenga seguro = 170 / 300"
   ]
  }
 ],
 "metadata": {
  "kernelspec": {
   "display_name": "Python 3",
   "language": "python",
   "name": "python3"
  },
  "language_info": {
   "codemirror_mode": {
    "name": "ipython",
    "version": 3
   },
   "file_extension": ".py",
   "mimetype": "text/x-python",
   "name": "python",
   "nbconvert_exporter": "python",
   "pygments_lexer": "ipython3",
   "version": "3.11.2"
  },
  "orig_nbformat": 4
 },
 "nbformat": 4,
 "nbformat_minor": 2
}

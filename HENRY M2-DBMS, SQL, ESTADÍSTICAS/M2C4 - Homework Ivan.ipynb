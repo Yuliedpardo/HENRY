{
 "cells": [
  {
   "attachments": {},
   "cell_type": "markdown",
   "metadata": {},
   "source": [
    "## Homework <br> \n",
    "\n",
    "1. Considera el experimento que consiste en un empleado que arma un producto.\n",
    "  - a. Defina la variable aleatoria que represente el tiempo en minutos requerido para armar el producto.<br>\n",
    "  - b. ¿Qué valores toma la variable aleatoria?<br>\n",
    "  - c. ¿Es una variable aleatoria discreta o continua?<br>\n"
   ]
  },
  {
   "cell_type": "code",
   "execution_count": null,
   "metadata": {},
   "outputs": [],
   "source": [
    "# a. T = [0, infinito)\n",
    "# b. cualquier valor mayor o igual a cero\n",
    "# c. es una variable continua porque puede asumir cualquier valor\n",
    "\n",
    "# la probabilidad en un punto específico de tiempo es cero porque el area bajo un punto es cero"
   ]
  },
  {
   "attachments": {},
   "cell_type": "markdown",
   "metadata": {},
   "source": [
    "2. Considera el experimento que consiste en lanzar una moneda dos veces.\n",
    "  - a. Enumere los resultados experimentales.\n",
    "  - b. Defina una variable aleatoria que represente el número de caras en los dos lanzamientos.\n",
    "  - c. Dé el valor que la variable aleatoria tomará en cada uno de los resultados experimentales.\n",
    "  - d. ¿Es una variable aleatoria discreta o continua?\n"
   ]
  },
  {
   "cell_type": "code",
   "execution_count": null,
   "metadata": {},
   "outputs": [],
   "source": [
    "# a.\n",
    "'''\n",
    "CC = opcion 1 en 2 lanzamientos\n",
    "CS = opcion 2 en 2 lanzamientos\n",
    "SC = opcion 3 en 2 lanzamientos\n",
    "SS = opcion 4 en 2 lanzamientos\n",
    "'''\n",
    "\n",
    "# b. x\n",
    "\n",
    "# c. \n",
    "'''\n",
    "x(CC) = 2        ---> p(x=2) = 1/4          (solo hay 1 lanzamiento de 4 donde hay dos caras)\n",
    "x(CS) = 1        ---> p(x=1) = 2/4 = 1/2    (hay 2 lanzamientos de 4 onde puede salir 1 vez cara)\n",
    "x(SC) = 1        ---> p(x=1) = 2/4 = 1/2    (hay 2 lanzamientos de 4 onde puede salir 1 vez cara)\n",
    "x(SS) = 0        ---> p(x=0) = 1/4          (solo hay 1 lanzamiento de 4 donde no hay ninguna cara)\n",
    "'''\n",
    "\n",
    "# c.\n",
    "'''\n",
    "Es una variable aleatoria discreta\n",
    "'''"
   ]
  },
  {
   "attachments": {},
   "cell_type": "markdown",
   "metadata": {},
   "source": [
    "3. Considera las decisiones de compra de los próximos tres clientes que lleguen a la tienda de ropa Martin Clothing Store. De acuerdo con la experiencia, el gerente de la tienda estima que la probabilidad de que un cliente realice una compra es 0.30. \n",
    "  - a. Describa si cumple con las reglas para clasificarlo como un experimiento binomial.\n",
    "  - b. ¿Cuál es la probabilidad de que dos de los próximos tres clientes realicen una compra?\n",
    "  - c. ¿Cuál es la probabilidad de que cuatro de los próximos diez clientes realicen una compra?\n"
   ]
  },
  {
   "cell_type": "code",
   "execution_count": 5,
   "metadata": {},
   "outputs": [
    {
     "name": "stdout",
     "output_type": "stream",
     "text": [
      "0.189\n"
     ]
    }
   ],
   "source": [
    "pc = 0.3                        # probabilidad de compra (S)\n",
    "pnc = 1 - pc                    # probabilidad de no compra (N)\n",
    "\n",
    "# a.\n",
    "'''\n",
    "1. que todos los ensayos sean identicos (si hay reposición si vale) - ok\n",
    "2. que solo se tenga 2 probabilidades - ok\n",
    "3. la probabilidad de exito y de fracaso no cambian - ok\n",
    "4. los ensayos no dependen el uno del otro (si no hubiese reposición fallaría) - ok\n",
    "'''\n",
    "\n",
    "# b. Probabilidad: dos de los proximos tres clientes si compran\n",
    "'''\n",
    "S-S-S       --->\n",
    "S-S-N       ---> P(S) y P(S) y P(N)\n",
    "S-N-S       ---> P(S) y P(N) y P(S)\n",
    "S-N-N       --->\n",
    "N-S-S       ---> P(N) y P(S) y P(S)\n",
    "N-S-N       --->\n",
    "N-N-S       --->\n",
    "N-N-N       --->\n",
    "\n",
    "(P(S) y P(S) y P(N)) + (P(S) y P(N) y P(S)) + (P(N) y P(S) y P(S))\n",
    "'''\n",
    "print ((pc * pc * pnc) + (pc * pnc * pc) + (pnc * pc * pc))\n"
   ]
  },
  {
   "cell_type": "code",
   "execution_count": 5,
   "metadata": {},
   "outputs": [],
   "source": [
    "from math import factorial\n",
    "\n",
    "def binomial (n,k,p,q):\n",
    "    '''\n",
    "    n: espacio muestral\n",
    "    k: numero de exitos\n",
    "    p: probabilidad de exito\n",
    "    q: probabilidad de fracaso\n",
    "    '''\n",
    "    combinatoria = factorial(n) / ((factorial(k) * factorial(n-k)))\n",
    "    Pk = combinatoria * (p**k) * (q**(n-k))\n",
    "    \n",
    "    return Pk"
   ]
  },
  {
   "cell_type": "code",
   "execution_count": 12,
   "metadata": {},
   "outputs": [
    {
     "name": "stdout",
     "output_type": "stream",
     "text": [
      "0.189\n",
      "0.2001209489999999\n"
     ]
    }
   ],
   "source": [
    "print (binomial (3, 2, pc, pnc))\n",
    "\n",
    "# c. Probabilidad: 4 de 10 si compren\n",
    "\n",
    "print (binomial (10, 4, pc, pnc))"
   ]
  },
  {
   "attachments": {},
   "cell_type": "markdown",
   "metadata": {},
   "source": [
    "4.  A la oficina de reservaciones de una aerolínea regional llegan 48 llamadas por hora.\n",
    "- a. Calcule la probabilidad de recibir cinco llamadas en un lapso de 5 minutos.\n",
    "- b. Estime la probabilidad de recibir exactamente 10 llamadas en un lapso de 15 minutos.\n",
    "- c. Suponga que no hay ninguna llamada en espera. Si el agente de viajes necesitará 5 minutos para la llamada que está atendiendo, ¿cuántas llamadas habrá en espera para cuando él termine? ¿Cuál es la probabilidad de que no haya ninguna llamada en espera?\n",
    "- d. Si en este momento no hay ninguna llamada, ¿cuál es la probabilidad de que el agente de viajes pueda tomar 3 minutos de descanso sin ser interrumpido por una llamada?\n"
   ]
  },
  {
   "cell_type": "code",
   "execution_count": 10,
   "metadata": {},
   "outputs": [],
   "source": [
    "from math import factorial\n",
    "\n",
    "def poisson (m, k):\n",
    "    '''\n",
    "    m: espacio muestral\n",
    "    k: numero de exitos\n",
    "    '''\n",
    "    e = 2.71828\n",
    "    Pk = ((m**k) / factorial(k)) * (e**(-m))\n",
    "    \n",
    "    return Pk"
   ]
  },
  {
   "cell_type": "code",
   "execution_count": 30,
   "metadata": {},
   "outputs": [
    {
     "name": "stdout",
     "output_type": "stream",
     "text": [
      "probabilidad de 5 llamadas en 5 minutos:  15.63 %\n",
      "probabilidad de 10 llamadas en 15 minutos:  10.48 %\n",
      "llamadas en espera:  3.0\n",
      "probabilidad de ninguna llamada en espera:  1.83 %\n",
      "probabilidad de ninguna llamada durante 3 mins:  9.07 %\n"
     ]
    }
   ],
   "source": [
    "# dado que es en un intervalo hay que usar la distribución de poisson\n",
    "''''''\n",
    "# a. Calcule la probabilidad de recibir cinco llamadas en un lapso de 5 minutos.\n",
    "# 48 llamadas       ---> por hora: m = 48\n",
    "#                   ---> por minuto: m = 48/60 = 0.8\n",
    "#                   ---> cada 5 minutos: m = 0.8*5 = 4\n",
    "\n",
    "print(\"probabilidad de 5 llamadas en 5 minutos: \", round (poisson(4, 5)*100, 2),\"%\")         # espacio muestral (m) = 4, numero de exitos = 5\n",
    "''''''\n",
    "\n",
    "# b. Estime la probabilidad de recibir exactamente 10 llamadas en un lapso de 15 minutos.\n",
    "m = 48 * 15 / 60            # conversion de 48 horas a terminos de 15 minutos\n",
    "print(\"probabilidad de 10 llamadas en 15 minutos: \", round(poisson(m, 10)*100, 2),\"%\")\n",
    "''''''\n",
    "\n",
    "# c. Suponga que no hay ninguna llamada en espera. Si el agente de viajes\n",
    "# necesitará 5 minutos para la llamada que está atendiendo, ¿cuántas llamadas\n",
    "# habrá en espera para cuando él termine? ¿Cuál es la probabilidad de que no haya\n",
    "# ninguna llamada en espera?\n",
    "\n",
    "# 48 llamadas       ---> en 1 hora: m = 48                  ---> hago los calculos sobre la premisa de que ya recibi una llamada y me gasté 5 minutos\n",
    "#                   ---> en 1 minuto: m = 48/60\n",
    "#                   ---> en 5 minutos: m = (48/60) * 5\n",
    "\n",
    "# 4 llamadas cada 5 minutos - 1 que está atendiendo = 3 en cola\n",
    "print(\"llamadas en espera: \", (48/60) * 5 - 1)\n",
    "# evaluar si los casos de exito son 0 y el espacio muestral se determina para 5 minutos\n",
    "print(\"probabilidad de ninguna llamada en espera: \", round(poisson((48/60) * 5, 0)*100, 2),\"%\")\n",
    "\n",
    "''''''\n",
    "# d. Si en este momento no hay ninguna llamada, ¿cuál es la probabilidad de que\n",
    "# el agente de viajes pueda tomar 3 minutos de descanso sin ser interrumpido por una llamada?\n",
    "m = 48 * 3 / 60\n",
    "print(\"probabilidad de ninguna llamada durante 3 mins: \", round(poisson(m, 0)*100, 2),\"%\")\n"
   ]
  },
  {
   "attachments": {},
   "cell_type": "markdown",
   "metadata": {},
   "source": [
    "5. En una encuesta realizada por Gallup Organization, se les preguntó a los interrogados, “Cuál es el deporte que prefieres ver”. Futbol y básquetbol ocuparon el primero y segundo lugar de preferencia (www.gallup.com, 3 de enero de 2004). Si en un grupo de 10 individuos, siete prefieren futbol y tres prefieren básquetbol. Se toma una muestra aleatoria de tres de estas personas.\n",
    "- a. ¿Cuál es la probabilidad de que exactamente dos prefieren el futbol?\n",
    "- b. ¿De que la mayoría (ya sean dos o tres) prefiere el futbol?\n"
   ]
  },
  {
   "cell_type": "code",
   "execution_count": 3,
   "metadata": {},
   "outputs": [
    {
     "name": "stdout",
     "output_type": "stream",
     "text": [
      "0.525\n",
      "0.8166666666666667\n"
     ]
    }
   ],
   "source": [
    "# hipergeometrica (resultados afectados por resultados previos)\n",
    "from math import factorial\n",
    "\n",
    "def combinacion (a, b):\n",
    "    '''\n",
    "    a combinado b\n",
    "    '''\n",
    "    combinacion = factorial(a)/ (factorial(b)*factorial(a-b))\n",
    "    return combinacion\n",
    "\n",
    "def hipergeometrica (N, K, n, x):\n",
    "    '''\n",
    "    N: tamaño de la población\n",
    "    K: exitos de la población\n",
    "    n: tamaño de la muestra\n",
    "    x: exitos de la muestra\n",
    "    '''\n",
    "    Px = (combinacion (K,x) * combinacion ((N-K),(n-x))) / combinacion (N,n)\n",
    "    return Px\n",
    "\n",
    "# a. Probabilidad de que dos prefieran futbol\n",
    "print(hipergeometrica (10, 7, 3, 2))\n",
    "\n",
    "# b. Probabilidad de que la mayoria (2 o 3) prefieran futbol\n",
    "print(hipergeometrica (10, 7, 3, 2) + hipergeometrica (10, 7, 3, 3))"
   ]
  },
  {
   "attachments": {},
   "cell_type": "markdown",
   "metadata": {},
   "source": [
    "6. La probabilidad de que a un estudiante le guste este modulo es de 0.7 (en Henry somos optimistas), cual es la probabilidad de que les guste este módulo a 6 de los 10 estudiantes.<br>\n"
   ]
  },
  {
   "cell_type": "code",
   "execution_count": 6,
   "metadata": {},
   "outputs": [
    {
     "data": {
      "text/plain": [
       "0.20012094899999994"
      ]
     },
     "execution_count": 6,
     "metadata": {},
     "output_type": "execute_result"
    }
   ],
   "source": [
    "# binomial (2 posibles resultados)\n",
    "binomial(10, 6, 0.7, 0.3)"
   ]
  },
  {
   "attachments": {},
   "cell_type": "markdown",
   "metadata": {},
   "source": [
    "7. De todos los push a Git en un Henry Challenge, el 90% lo envía a término. Si se envían 9 ¿cuál es la probabilidad de que 7 lleguen a término?.<br>\n"
   ]
  },
  {
   "cell_type": "code",
   "execution_count": 7,
   "metadata": {},
   "outputs": [
    {
     "data": {
      "text/plain": [
       "0.17218688400000004"
      ]
     },
     "execution_count": 7,
     "metadata": {},
     "output_type": "execute_result"
    }
   ],
   "source": [
    "# binomial (2 posibles resultados)\n",
    "binomial (9, 7, 0.9, 0.1)"
   ]
  },
  {
   "attachments": {},
   "cell_type": "markdown",
   "metadata": {},
   "source": [
    "8. En relación con el enunciado anterior cálcule la probabilidad de que 7 o más lleguen a término.<br>\n",
    "Distribución de Poisson:<br>\n"
   ]
  },
  {
   "cell_type": "code",
   "execution_count": 8,
   "metadata": {},
   "outputs": [
    {
     "data": {
      "text/plain": [
       "0.9470278620000003"
      ]
     },
     "execution_count": 8,
     "metadata": {},
     "output_type": "execute_result"
    }
   ],
   "source": [
    "# binomial (2 posibles resultados) con suma de probabilidades\n",
    "probabilidad = 0\n",
    "for i in range (7,10):\n",
    "    probabilidad += binomial(9, i, 0.9, 0.1)\n",
    "probabilidad"
   ]
  },
  {
   "attachments": {},
   "cell_type": "markdown",
   "metadata": {},
   "source": [
    "9. La cantidad de alumnos promedio que se ausentan en un día de clases en la carrera de Data Science es de 10. Calcular cual es la probabilidad de que se ausenten 7 alumnos.<br>\n"
   ]
  },
  {
   "cell_type": "code",
   "execution_count": null,
   "metadata": {},
   "outputs": [],
   "source": []
  },
  {
   "attachments": {},
   "cell_type": "markdown",
   "metadata": {},
   "source": [
    "10. Cuando inicia una clase, los estudiantes ingresan a un ritmo de 5 estudiantes por minuto. Calcular cual es la probabilidad de que ingresen 7 estudiantes por minuto.<br>\n",
    "\n"
   ]
  },
  {
   "cell_type": "code",
   "execution_count": 11,
   "metadata": {},
   "outputs": [
    {
     "data": {
      "text/plain": [
       "0.10444521423324946"
      ]
     },
     "execution_count": 11,
     "metadata": {},
     "output_type": "execute_result"
    }
   ],
   "source": [
    "# poisson por intervalo de tiempo\n",
    "poisson(5, 7)"
   ]
  },
  {
   "attachments": {},
   "cell_type": "markdown",
   "metadata": {},
   "source": [
    "## Ejercicios complementarios <br>\n",
    "\n",
    "11. Cada 3 días ingresan 10 estudiantes nuevos al Prep Course de Henry, calcule la probabilidad de que ingresen 15 nuevos estudiantes en un período de 6 días.<br>\n"
   ]
  },
  {
   "cell_type": "code",
   "execution_count": 12,
   "metadata": {},
   "outputs": [
    {
     "data": {
      "text/plain": [
       "0.051649548371266375"
      ]
     },
     "execution_count": 12,
     "metadata": {},
     "output_type": "execute_result"
    }
   ],
   "source": [
    "# poisson por periodo de tiempo\n",
    "\n",
    "'''\n",
    "espacio muestral = 10                               ---> cada 3 dias\n",
    "nuevo espacio muestral en relacón al anterior       ---> cada 6 dias = 6*10/3 = 20      (regla de 3)\n",
    "'''\n",
    "poisson(20, 15)"
   ]
  },
  {
   "attachments": {},
   "cell_type": "markdown",
   "metadata": {},
   "source": [
    "12. En una distribución de Poisson de lamba_np=3, cual es la probabilidad de x>=1.<br>\n",
    "Distribución Normal:<br>\n"
   ]
  },
  {
   "cell_type": "code",
   "execution_count": null,
   "metadata": {},
   "outputs": [],
   "source": []
  },
  {
   "attachments": {},
   "cell_type": "markdown",
   "metadata": {},
   "source": [
    "13. La calificación promedio de los estudiantes de Henry es de 78 con una desviación estandar de 25. Cual es la probabilidad de tener estudiantes con calificaciones mayores o iguales 90.\n",
    "\n"
   ]
  },
  {
   "cell_type": "code",
   "execution_count": null,
   "metadata": {},
   "outputs": [],
   "source": []
  },
  {
   "attachments": {},
   "cell_type": "markdown",
   "metadata": {},
   "source": [
    "Tablas de Distribución [tablas](https://github.com/soyHenry/DS-M2/blob/3aae1f7b63bf723a96a8094a2e1598e69bb10b34/Clase%2006/Tablas%20Distribuci%C3%B3n.pdf)\n"
   ]
  },
  {
   "cell_type": "code",
   "execution_count": null,
   "metadata": {},
   "outputs": [],
   "source": []
  }
 ],
 "metadata": {
  "kernelspec": {
   "display_name": "Python 3",
   "language": "python",
   "name": "python3"
  },
  "language_info": {
   "codemirror_mode": {
    "name": "ipython",
    "version": 3
   },
   "file_extension": ".py",
   "mimetype": "text/x-python",
   "name": "python",
   "nbconvert_exporter": "python",
   "pygments_lexer": "ipython3",
   "version": "3.11.2"
  },
  "orig_nbformat": 4
 },
 "nbformat": 4,
 "nbformat_minor": 2
}

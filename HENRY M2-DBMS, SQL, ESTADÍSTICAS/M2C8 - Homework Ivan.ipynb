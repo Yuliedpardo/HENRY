{
 "cells": [
  {
   "cell_type": "code",
   "execution_count": 2,
   "metadata": {},
   "outputs": [],
   "source": [
    "import pymysql"
   ]
  },
  {
   "cell_type": "code",
   "execution_count": 34,
   "metadata": {},
   "outputs": [],
   "source": [
    "# Establecer la conexion (pasar host dir, puerto, user)\n",
    "conexion = pymysql.connect(\n",
    "    host='localhost',\n",
    "    user='root',\n",
    "    password='IDrojas-88',\n",
    "    database='henry'\n",
    ")\n",
    "\n",
    "cursor = conexion.cursor()"
   ]
  },
  {
   "attachments": {},
   "cell_type": "markdown",
   "metadata": {},
   "source": [
    "Traer información"
   ]
  },
  {
   "cell_type": "code",
   "execution_count": 35,
   "metadata": {},
   "outputs": [
    {
     "name": "stdout",
     "output_type": "stream",
     "text": [
      "(1, 'Candice', 'Rojas')\n",
      "(2, 'Beverly', 'Gardner')\n",
      "(3, 'Carlos', 'Frank')\n",
      "(4, 'Callum', 'Velazquez')\n",
      "(5, 'Kelly', 'Strickland')\n"
     ]
    }
   ],
   "source": [
    "cursor.execute('''  SELECT alumnoID, nombre, apellido\n",
    "                    FROM alumno\n",
    "                    LIMIT 5''')\n",
    "#alumnos = cursor.fetchall()\n",
    "#alumnos = cursor.fetchone()\n",
    "alumnos = cursor.fetchmany(5)\n",
    "\n",
    "#alumnos\n",
    "#type(alumnos)\n",
    "#alumnos[0]\n",
    "\n",
    "for alumno in alumnos:\n",
    "    print(alumno)"
   ]
  },
  {
   "attachments": {},
   "cell_type": "markdown",
   "metadata": {},
   "source": [
    "Insertar datos"
   ]
  },
  {
   "cell_type": "code",
   "execution_count": 36,
   "metadata": {},
   "outputs": [
    {
     "data": {
      "text/plain": [
       "1"
      ]
     },
     "execution_count": 36,
     "metadata": {},
     "output_type": "execute_result"
    }
   ],
   "source": [
    "cursor.execute  (\"\"\"INSERT INTO alumno\n",
    "                    VALUES (181, '32547891', 'Pablo', 'Gonzalez', '1998-06-06', '2022-05-06', 1243)\"\"\")"
   ]
  },
  {
   "cell_type": "code",
   "execution_count": 37,
   "metadata": {},
   "outputs": [],
   "source": [
    "conexion.commit()"
   ]
  },
  {
   "cell_type": "code",
   "execution_count": 38,
   "metadata": {},
   "outputs": [],
   "source": [
    "conexion.close()"
   ]
  },
  {
   "cell_type": "code",
   "execution_count": 3,
   "metadata": {},
   "outputs": [],
   "source": [
    "# Establecer la conexion (pasar host dir, puerto, user)\n",
    "\n",
    "conexion = pymysql.connect(\n",
    "    host='localhost',\n",
    "    user='root',\n",
    "    password='IDrojas-88',\n",
    "    database='test'\n",
    ")\n",
    "\n",
    "cursor = conexion.cursor()"
   ]
  },
  {
   "cell_type": "code",
   "execution_count": 42,
   "metadata": {},
   "outputs": [],
   "source": [
    "#ingresar valor por valor\n",
    "\n",
    "nombre = 'Gonzalo'\n",
    "edad = 34\n",
    "\n",
    "cursor.execute(\"INSERT INTO persona (Nombre, Edad) VALUES(%s,%s)\", (nombre, edad))\n",
    "\n",
    "conexion.commit()"
   ]
  },
  {
   "cell_type": "code",
   "execution_count": 4,
   "metadata": {},
   "outputs": [],
   "source": [
    "personas = [\n",
    "    ('Jimena', 33),\n",
    "    ('Carlos', 25),\n",
    "    ('Ana', 31)\n",
    "]\n",
    "\n",
    "cursor.executemany(\"INSERT INTO persona (Nombre, Edad) VALUES(%s,%s)\", personas)\n",
    "\n",
    "conexion.commit()"
   ]
  },
  {
   "cell_type": "code",
   "execution_count": 5,
   "metadata": {},
   "outputs": [],
   "source": [
    "conexion.close()"
   ]
  },
  {
   "attachments": {},
   "cell_type": "markdown",
   "metadata": {},
   "source": [
    "# BONUS TRACK\n",
    "Como bajar desde la web"
   ]
  },
  {
   "cell_type": "code",
   "execution_count": 13,
   "metadata": {},
   "outputs": [],
   "source": [
    "import requests\n",
    "import pymysql\n",
    "from io import StringIO\n",
    "import csv"
   ]
  },
  {
   "cell_type": "code",
   "execution_count": 11,
   "metadata": {},
   "outputs": [],
   "source": [
    "respuesta = requests.get('https://cdn.buenosaires.gob.ar/datosabiertos/datasets/ente-de-turismo/oferta-establecimientos-gastronomicos/oferta_gastronomica.csv')\n",
    "# print(respuesta.text)\n",
    "\n",
    "respuesta.encoding = 'utf-8'\n",
    "respuesta = respuesta.text\n",
    "documento = csv.reader(StringIO(respuesta))\n",
    "next(documento)\n",
    "locales = [(linea[3], linea[4], linea[13], linea[14], linea[15][7:]) for linea in documento]"
   ]
  },
  {
   "cell_type": "code",
   "execution_count": 16,
   "metadata": {},
   "outputs": [],
   "source": [
    "conexion = pymysql.connect(\n",
    "    host='localhost',\n",
    "    user='root',\n",
    "    password='IDrojas-88',\n",
    "    database='test'\n",
    ")\n",
    "\n",
    "cursor = conexion.cursor()\n",
    "cursor.execute(\"TRUNCATE TABLE oferta_gastronomica\")\n",
    "query = 'INSERT INTO oferta_gastronomica (nombre, categoria, direccion, barrio, comuna) VALUES(%s,%s,%s,%s,%s)'\n",
    "cursor.executemany(query, locales)\n",
    "conexion.commit()\n",
    "conexion.close()"
   ]
  }
 ],
 "metadata": {
  "kernelspec": {
   "display_name": "Python 3",
   "language": "python",
   "name": "python3"
  },
  "language_info": {
   "codemirror_mode": {
    "name": "ipython",
    "version": 3
   },
   "file_extension": ".py",
   "mimetype": "text/x-python",
   "name": "python",
   "nbconvert_exporter": "python",
   "pygments_lexer": "ipython3",
   "version": "3.11.2"
  },
  "orig_nbformat": 4
 },
 "nbformat": 4,
 "nbformat_minor": 2
}

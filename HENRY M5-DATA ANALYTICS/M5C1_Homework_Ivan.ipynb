{
  "nbformat": 4,
  "nbformat_minor": 0,
  "metadata": {
    "colab": {
      "provenance": [],
      "authorship_tag": "ABX9TyOMC6dVBPk+Ni8ReF16y57n",
      "include_colab_link": true
    },
    "kernelspec": {
      "name": "python3",
      "display_name": "Python 3"
    },
    "language_info": {
      "name": "python"
    }
  },
  "cells": [
    {
      "cell_type": "markdown",
      "metadata": {
        "id": "view-in-github",
        "colab_type": "text"
      },
      "source": [
        "<a href=\"https://colab.research.google.com/github/idaroga/M5/blob/main/M5C1_Homework_Ivan.ipynb\" target=\"_parent\"><img src=\"https://colab.research.google.com/assets/colab-badge.svg\" alt=\"Open In Colab\"/></a>"
      ]
    },
    {
      "cell_type": "markdown",
      "source": [
        "\n",
        "1. **Desde la gerencia de ventas nos comentan que es necesario aumentar el volumen de facturación y cobertura de regiones ( tener clientes en la mayor cantidad posible de zonas) como también evitar la pérdida de clientes, hoy por hoy se manejan con un Excel que alguien armo en algún momento, pero no confían en esa data para seguir este nuevo objetivo, de manera tal que no se conoce realmente el estado de situación actual. Por lo tanto como departamento de data analytics tenemos que presentarles una propuesta basadas en datos para acompañar este proceso de negocio.\n",
        "En base al modelo de datos utilizado en M3 generar una un propuesta analítico de cada tipo según lo visto en clase:**\n",
        "\n",
        "  a) Descriptivo\n",
        "  \n",
        "  b) Dashboard\n",
        "\n",
        "  c) Predictivo\n",
        "\n",
        "  d) Prescriptivo\n",
        "\n",
        "2. **Relaciona cada situación con algún tipo de gráfico:**\n",
        "\n",
        "  a) Velocidad de frenado promedio de 5 modelos distintos de vehículos.\n",
        "  Gráfico de columnas:\n",
        "  Eje x = modelos de vehículos.\n",
        "  Eje y = Velocidad promedio de frenado.\n",
        "\n",
        "  b) Costo de una llamada por segundos.\n",
        "  Gráfico de líneas: Eje x = Csoto de la llamada.\n",
        "  Eje y = Segundos de duración.\n",
        "\n",
        "  c) El recorrido del equipo de ventas de una distribuidora con 4 paradas y las sumas vendidas en cada una.\n",
        "  Mapa georeferenciado:\n",
        "  Latiud y longitud de cada parada.\n",
        "  Importe de ventas totales en cada punto.\n",
        "\n",
        "  d) Cantidad de edificios y casas que conforman un barrio. Gráfico circular:\n",
        "  Dos categorias.\n",
        "  Cantidad total por categoría.\n",
        "\n",
        "3. **El siguiente gráfico representa el movimiento vehículo desde un punto. Interprétala y responde a las siguientes preguntas:**\n",
        "\n",
        "  a) ¿Cuánto tiempo ha estado andando?\n",
        "\n",
        "  b) ¿Hasta que distancia máxima del recorrido pudo realizar?\n",
        "\n",
        "  c) ¿Ha hecho alguna parada?\n",
        "\n",
        "  d) ¿Que sucede luego del pico de mts recorrido?\n",
        "\n",
        "  e) ¿Cuantos metros recorrio en total?\n",
        "\n",
        "4. **Se decide presentar el volumen de ventas de 5 productos correspondientes a una distribuidora de alimentos. Los productos van de A = 100 un., B = 95 un., C =90 un., D = 88 un., E = 105 un.**\n",
        "\n",
        "  a) ¿Que gráfico utilizaría?.\n",
        "\n",
        "  b) ¿Sería correcto utilizar un gráfico de lineas? ¿Por qué?.\n",
        "\n",
        "  c) ¿Sería correcto utilizar un gráfico circular? ¿Por qué?.\n",
        "  \n",
        "  d) ¿Que tipo de tematicas estarían relacionadas a la variable presentada?\n",
        "\n",
        "5. **Se presenta el siguiente gráfico.**\n",
        "\n",
        "  a) ¿Es correcta su utilización?\n",
        "\n",
        "  b) ¿Que inconveniente presenta a la hora de reconocer patrones?\n",
        "\n",
        "  c) ¿Qué otros tipos de gráficos utilizaría?\n",
        "\n",
        "  d) ¿Que tipo de tematicas estarían relacionadas a la variable presentada?"
      ],
      "metadata": {
        "id": "QKhHp_EJvCBM"
      }
    },
    {
      "cell_type": "code",
      "source": [
        "# 1\n",
        "'''\n",
        "a. Descriptivo:\n",
        "    conocer la proporcion de venta entre volumen de ventas, productos y clientes.\n",
        "    revisar este analisis para los productos mas vendidos y menos vendidos comparando los mas costosos y menos costosos.\n",
        "b. Dashboard interactivo:\n",
        "    MISMO ANALISIS DESCRIPTIVO PERO SE PUEDEN USAR FILTROS Y BOTONES PARA SEGMENTACION\n",
        "    analisis por zona, a traves del tiempo y por zonas a traves del tiempo\n",
        "c. Predictivo:\n",
        "    ENFOCADO A FUTURO\n",
        "    Descubrir los productos mas vendidos de acuerdo a determinadas temporadas segun la zona\n",
        "d. Prescriptivo:\n",
        "    COMO GENERAR ESTRATEGIAS A PARTIR DEL ANALISIS PREDICTIVO\n",
        "    descubrir si hay algun patron de compra entre las zonas y los productos vendidos\n",
        "    descubrir si hay patron de compra entre las zonas y los productos mas y menos vendidos de acuerdo a su precio de venta\n",
        "'''"
      ],
      "metadata": {
        "id": "tx0DYklNzWN8"
      },
      "execution_count": null,
      "outputs": []
    },
    {
      "cell_type": "code",
      "source": [
        "# 2\n",
        "'''\n",
        "a. barras: Eje x = modelos de vehículos. Eje y = Velocidad promedio de frenado.\n",
        "b. Para una llamada lineas, para varias llamadas dispersion: Eje x = Csoto de la llamada. Eje y = Segundos de duración.\n",
        "c. burbujas: Mapa georeferenciado: Latiud y longitud de cada parada. Importe de ventas totales en cada punto.\n",
        "d. torta: Dos categorias. Cantidad total por categoría.\n",
        "\n",
        "'''"
      ],
      "metadata": {
        "id": "feUDIYt4zW0G"
      },
      "execution_count": null,
      "outputs": []
    },
    {
      "cell_type": "code",
      "source": [
        "# 3\n",
        "'''\n",
        "a. 14 min\n",
        "b. 80 m\n",
        "c. cuando se detuvo\n",
        "d. desacelera rapidamente hasta detenerse.\n",
        "e. 150 m\n",
        "\n",
        "'''"
      ],
      "metadata": {
        "id": "HxUkEpybzXjm"
      },
      "execution_count": null,
      "outputs": []
    },
    {
      "cell_type": "code",
      "source": [
        "# 5\n",
        "'''\n",
        "a. columnas o Barras\n",
        "b. No porque no hay relacion de los productos. El grafico de lineas se utiliza principalmente cuando se compara la misma variable a traves el tiempo.\n",
        "c. Es posible pero la informacion no seria tan clara al comparar 5 productos con cantidades tan similares. Además no se necesita la relacion respecto del total.\n",
        "d. unidades: cantidades de personas, animales, productos, acciones ejecutadas...\n",
        "\n",
        "'''"
      ],
      "metadata": {
        "id": "gYplYX6uzYsH"
      },
      "execution_count": null,
      "outputs": []
    },
    {
      "cell_type": "code",
      "source": [
        "# 6\n",
        "'''\n",
        "a. no porque no se evidencian las diferencias\n",
        "b. graficamente no se resalta tan claramente la diferencia. No son patrones, es composición respecto a un total.\n",
        "    ESE NO ES UN GRAFICO PARA RECONOCER PATRONES SINO RECONOCER COMPOSICION\n",
        "c. barras, columnas\n",
        "    ESCALA DE CATEGORIAS ORDINALES\n",
        "d. calidad de servicio, calidad, aceptacion de un producto o servicio por parte de los usuarios.\n",
        "\n",
        "'''"
      ],
      "metadata": {
        "id": "GMa3VwucyIuX"
      },
      "execution_count": null,
      "outputs": []
    }
  ]
}
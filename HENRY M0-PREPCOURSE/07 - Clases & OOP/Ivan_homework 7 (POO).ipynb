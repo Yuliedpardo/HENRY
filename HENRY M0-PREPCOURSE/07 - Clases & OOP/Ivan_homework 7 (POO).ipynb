{
 "cells": [
  {
   "cell_type": "code",
   "execution_count": null,
   "metadata": {},
   "outputs": [],
   "source": [
    "class Animal:\n",
    "    '''en esta clase se crean los animales'''\n",
    "\n",
    "    def __init__(self,especie,edad,color):\n",
    "        self.especie = especie\n",
    "        self.edad = edad\n",
    "        self.color = color\n",
    "\n",
    "    def hablar (self):\n",
    "        pass\n",
    "\n",
    "    def moverse (self):\n",
    "        pass\n",
    "\n",
    "    def me_presento (self):\n",
    "        print('Hola, soy un ',self.especie,', tengo ',self.edad,'años y mi color es ',self.color)\n",
    "\n",
    "    def cumplir_años (self):\n",
    "        self.edad += 1\n",
    "\n",
    "class perros (Animal):\n",
    "    '''subclase de clase animal'''\n",
    "    \n",
    "    def hablar (self):\n",
    "        print(\"GUAU !!\")\n",
    "\n",
    "    def moverse (self):\n",
    "        print(\"caminando en 4 patas\")"
   ]
  },
  {
   "cell_type": "code",
   "execution_count": null,
   "metadata": {},
   "outputs": [],
   "source": [
    "perro = Animal ('canino',2,'café')\n",
    "perro.me_presento ()\n",
    "\n",
    "conejo = Animal ('mamifero',1,'blanco')\n",
    "conejo.me_presento ()"
   ]
  },
  {
   "cell_type": "code",
   "execution_count": null,
   "metadata": {},
   "outputs": [],
   "source": [
    "perro = perros(\"canino\",3,\"negro\")\n",
    "perro.me_presento()\n",
    "perro.moverse()\n",
    "perro.hablar()"
   ]
  },
  {
   "cell_type": "code",
   "execution_count": null,
   "metadata": {},
   "outputs": [],
   "source": [
    "class Animal:\n",
    "\n",
    "    def __init__ (self,especie,edad)-> None:\n",
    "        self.especie = especie\n",
    "        self.edad = edad\n",
    "        pass\n",
    "    \n",
    "    def hablar (self):\n",
    "        pass\n",
    "\n",
    "    def moverse (self):\n",
    "        pass\n",
    "\n",
    "    def descríbeme(self):\n",
    "        #print (\"soy un animal conocido como \", self.tipo, \" de la especie \", self.especie, \"\")\n",
    "        print(\"soy un animal del tipo\", type(self).__name__,\" especie \",self.especie,\" tengo \", self.edad, \" años y \",self.hablar() )\n",
    "\n",
    "class Perro (Animal):\n",
    "\n",
    "    def __init__(self, especie, edad,dueño):\n",
    "        super().__init__(especie, edad)\n",
    "        self.dueño = dueño\n",
    "    \n",
    "    def hablar (self):\n",
    "        print(\"se ladrar así: GUAU !!\")\n",
    "\n"
   ]
  },
  {
   "cell_type": "code",
   "execution_count": null,
   "metadata": {},
   "outputs": [],
   "source": [
    "mi_perro = Perro(\"mamifero\",2,\"Laura\")\n",
    "mi_perro.descríbeme()"
   ]
  },
  {
   "attachments": {},
   "cell_type": "markdown",
   "metadata": {},
   "source": [
    "## Clases y Programación Orientada a Objetos"
   ]
  },
  {
   "attachments": {},
   "cell_type": "markdown",
   "metadata": {},
   "source": [
    "1) Crear la clase vehículo que contenga los atributos:<br>\n",
    "Color<br>\n",
    "Si es moto, auto, camioneta ó camión<br>\n",
    "Cilindrada del motor"
   ]
  },
  {
   "cell_type": "code",
   "execution_count": null,
   "metadata": {},
   "outputs": [],
   "source": [
    "class vechiculo ():\n",
    "\n",
    "    def __init__(self,color,tipo,cilindrada) -> None:\n",
    "        self.color = color\n",
    "        self.tipo = tipo\n",
    "        self.cilindrada = cilindrada\n",
    "\n",
    "        pass"
   ]
  },
  {
   "attachments": {},
   "cell_type": "markdown",
   "metadata": {},
   "source": [
    "2) A la clase Vehiculo creada en el punto 1, agregar los siguientes métodos:<br>\n",
    "Acelerar<br>\n",
    "Frenar<br>\n",
    "Doblar<br>\n"
   ]
  },
  {
   "cell_type": "code",
   "execution_count": null,
   "metadata": {},
   "outputs": [],
   "source": [
    "\n",
    "class vechiculo ():\n",
    "\n",
    "    def __init__(self,color,tipo,cilindrada) -> None:\n",
    "        self.color = color\n",
    "        self.tipo = tipo\n",
    "        self.cilindrada = cilindrada\n",
    "        self.velocidad = 0\n",
    "        self.sentido = ''\n",
    "        pass\n",
    "\n",
    "    def acelerar (self,vel):\n",
    "        self.velocdad = vel\n",
    "\n",
    "        \n",
    "    def frenar (self):\n",
    "        self.velocidad = 0\n",
    "\n",
    "    def doblar (self,direccion):\n",
    "        self.sentido = direccion"
   ]
  },
  {
   "attachments": {},
   "cell_type": "markdown",
   "metadata": {},
   "source": [
    "4) Agregar a la clase Vehiculo, un método que muestre su estado, es decir, a que velocidad se encuentra y su dirección. Y otro método que muestre color, tipo y cilindrada"
   ]
  },
  {
   "cell_type": "code",
   "execution_count": null,
   "metadata": {},
   "outputs": [],
   "source": [
    "\n",
    "class vehiculo ():\n",
    "\n",
    "    def __init__(self,color,tipo,cilindrada) -> None:\n",
    "        self.color = color\n",
    "        self.tipo = tipo\n",
    "        self.cilindrada = cilindrada\n",
    "        self.velocidad = 0\n",
    "        self.sentido = ''\n",
    "        pass\n",
    "\n",
    "    def acelerar (self,vel):\n",
    "        self.velocidad = vel\n",
    "\n",
    "        \n",
    "    def frenar (self):\n",
    "        self.velocidad = 0\n",
    "\n",
    "    def doblar (self,direccion):\n",
    "        self.sentido = direccion\n",
    "    \n",
    "    def estado (self):\n",
    "        print ('se dirige al', self.sentido,'a una velocidad de',self.velocidad,'km/h')\n",
    "\n",
    "    def caracteristicas (self):\n",
    "        print ('el vehiculo es de tipo',self.tipo, ', cilindraje',self.cilindrada, 'cc y tiene color',self.color)"
   ]
  },
  {
   "cell_type": "code",
   "execution_count": null,
   "metadata": {},
   "outputs": [],
   "source": [
    "mi_vehiculo = vehiculo('rojo','camioneta',1600)\n",
    "mi_vehiculo.acelerar(120)\n",
    "mi_vehiculo.doblar('oriente')\n",
    "mi_vehiculo.caracteristicas()\n",
    "mi_vehiculo.estado()"
   ]
  },
  {
   "attachments": {},
   "cell_type": "markdown",
   "metadata": {},
   "source": [
    "5) Crear una clase que permita utilizar las funciones creadas en la práctica del módulo 6<br>\n",
    "Verificar Primo<br>\n",
    "Valor modal<br>\n",
    "Conversión grados<br>\n",
    "Factorial<br>"
   ]
  },
  {
   "cell_type": "code",
   "execution_count": 72,
   "metadata": {},
   "outputs": [],
   "source": [
    "class funciones_mod6 ():\n",
    "    \n",
    "    def __init__(self,mi_lista) -> None:\n",
    "        self.mi_lista = mi_lista\n",
    "        pass\n",
    "\n",
    "    def verifica_primo(self, nro):\n",
    "        es_primo = True\n",
    "        for i in range(2, nro):\n",
    "            if nro % i == 0:\n",
    "                es_primo = False\n",
    "                break\n",
    "        return es_primo\n",
    "    \n",
    "    def verifica_primo_lista(self):\n",
    "        for i in self.mi_lista:\n",
    "            if self.verifica_primo(i):\n",
    "                print(i,\" primo\")\n",
    "            else:\n",
    "                print(i,\" NO primo\")\n",
    "    \n",
    "    def valor_modal(self, menor):\n",
    "        '''\n",
    "        Esta función devuelve el valor modal y recibe de parámetros dos valores:\n",
    "        1-Una lista de números\n",
    "        2-Verdadero (por defecto) por si se requiere el mínimo de los más repetidos, o Falso si se requiere el máximo\n",
    "        '''\n",
    "        lista_unicos = []\n",
    "        lista_repeticiones = []\n",
    "        if len(self.mi_lista) == 0:\n",
    "            return None\n",
    "        if (menor):\n",
    "            self.mi_lista.sort()\n",
    "        else:\n",
    "            self.mi_lista.sort(reverse=True)\n",
    "        for elemento in self.mi_lista:\n",
    "            if elemento in lista_unicos:\n",
    "                i = lista_unicos.index(elemento)\n",
    "                lista_repeticiones[i] += 1\n",
    "            else:\n",
    "                lista_unicos.append(elemento)\n",
    "                lista_repeticiones.append(1)\n",
    "        moda = lista_unicos[0]\n",
    "        maximo = lista_repeticiones[0]\n",
    "        for i, elemento in enumerate(lista_unicos):\n",
    "            if lista_repeticiones[i] > maximo:\n",
    "                moda = lista_unicos[i]\n",
    "                maximo = lista_repeticiones[i]\n",
    "        return moda, maximo\n",
    "    \n",
    "    def conversion_grados(self, valor, origen, destino):\n",
    "        if (origen == 'celsius'):\n",
    "            if (destino == 'celsius'):\n",
    "                valor_destino = valor\n",
    "            elif (destino == 'farenheit'):\n",
    "                valor_destino = (valor * 9 / 5) + 32\n",
    "            elif (destino == 'kelvin'):\n",
    "                valor_destino = valor + 273.15\n",
    "            else:\n",
    "                print('Parámetro de Destino incorrecto')\n",
    "        elif (origen == 'farenheit'):\n",
    "            if (destino == 'celsius'):\n",
    "                valor_destino = (valor - 32) * 5 / 9\n",
    "            elif (destino == 'farenheit'):\n",
    "                valor_destino = valor\n",
    "            elif (destino == 'kelvin'):\n",
    "                valor_destino = ((valor - 32) * 5 / 9) + 273.15\n",
    "            else:\n",
    "                print('Parámetro de Destino incorrecto')\n",
    "        elif (origen == 'kelvin'):\n",
    "            if (destino == 'celsius'):\n",
    "                valor_destino = valor - 273.15\n",
    "            elif (destino == 'farenheit'):\n",
    "                valor_destino = ((valor - 273.15) * 9 / 5) + 32\n",
    "            elif (destino == 'kelvin'):\n",
    "                valor_destino = valor\n",
    "            else:\n",
    "                print('Parámetro de Destino incorrecto')\n",
    "        else:\n",
    "            print('Parámetro de Origen incorrecto')\n",
    "        return valor_destino\n",
    "    \n",
    "    def conversion_grados_lista (self,ori,dest):\n",
    "        for i in self.mi_lista:\n",
    "            print(i,' grado(s) ', ori, ' a ', dest, ': ', self.conversion_grados(i,ori,dest))\n",
    "\n",
    "     \n",
    "    def factorial (self, numero):\n",
    "        if(type(numero) != int):\n",
    "            return 'El numero debe ser un entero'\n",
    "        if(numero < 0):\n",
    "            return 'El numero debe ser positivo'\n",
    "        if (numero > 1):\n",
    "            numero = numero * self.factorial(numero - 1)\n",
    "        return numero\n",
    "    \n",
    "    def factorial_lista (self):\n",
    "        for i in self.mi_lista:\n",
    "            print(\"factorial de \", i, \" --> \", self.factorial(i))\n",
    "\n"
   ]
  },
  {
   "cell_type": "code",
   "execution_count": null,
   "metadata": {},
   "outputs": [],
   "source": [
    "objeto = funciones_mod6()"
   ]
  },
  {
   "attachments": {},
   "cell_type": "markdown",
   "metadata": {},
   "source": [
    "6) Probar las funciones incorporadas en la clase del punto 5"
   ]
  },
  {
   "cell_type": "code",
   "execution_count": null,
   "metadata": {},
   "outputs": [],
   "source": [
    "lis = [10,1,5,6,8,10,22,5,6,4,11,10,9,5]\n",
    "moda, repite = objeto.valor_modal(lis, True)\n",
    "print('El valor modal es', moda, 'y se repite', repite, 'veces.')\n",
    "moda, repite = objeto.valor_modal(lis, False)\n",
    "print('El valor modal es', moda, 'y se repite', repite, 'veces.')"
   ]
  },
  {
   "cell_type": "code",
   "execution_count": null,
   "metadata": {},
   "outputs": [],
   "source": [
    "print('1 grado Celsius a Celsius:', objeto.conversion_grados(1, 'celsius', 'celsius'))\n",
    "print('1 grado Celsius a Kelvin:', objeto.conversion_grados(1, 'celsius', 'kelvin'))\n",
    "print('1 grado Celsius a Farenheit:', objeto.conversion_grados(1, 'celsius', 'farenheit'))\n",
    "print('1 grado Kelvin a Celsius:', objeto.conversion_grados(1, 'kelvin', 'celsius'))\n",
    "print('1 grado Kelvin a Kelvin:', objeto.conversion_grados(1, 'kelvin', 'kelvin'))\n",
    "print('1 grado Kelvin a Farenheit:', objeto.conversion_grados(1, 'kelvin', 'farenheit'))\n",
    "print('1 grado Farenheit a Celsius:', objeto.conversion_grados(1, 'farenheit', 'celsius'))\n",
    "print('1 grado Farenheit a Kelvin:', objeto.conversion_grados(1, 'farenheit', 'kelvin'))\n",
    "print('1 grado Farenheit a Farenheit:', objeto.conversion_grados(1, 'farenheit', 'farenheit'))"
   ]
  },
  {
   "cell_type": "code",
   "execution_count": 71,
   "metadata": {},
   "outputs": [
    {
     "name": "stdout",
     "output_type": "stream",
     "text": [
      "6\n",
      "El numero debe ser positivo\n",
      "El numero debe ser un entero\n",
      "El numero debe ser un entero\n"
     ]
    }
   ],
   "source": [
    "print(objeto.factorial(3))\n",
    "print(objeto.factorial(-2))\n",
    "print(objeto.factorial(1.23))\n",
    "print(objeto.factorial('6'))"
   ]
  },
  {
   "attachments": {},
   "cell_type": "markdown",
   "metadata": {},
   "source": [
    "7) Es necesario que la clase creada en el punto 5 contenga una lista, sobre la cual se aplquen las funciones incorporadas"
   ]
  },
  {
   "cell_type": "code",
   "execution_count": 73,
   "metadata": {},
   "outputs": [],
   "source": [
    "lis = [10,1,5,6,8,10,22,5,6,4,11,10,9,5]\n",
    "objeto = funciones_mod6 (lis)"
   ]
  },
  {
   "cell_type": "code",
   "execution_count": null,
   "metadata": {},
   "outputs": [],
   "source": [
    "objeto.verifica_primo_lista()"
   ]
  },
  {
   "cell_type": "code",
   "execution_count": 76,
   "metadata": {},
   "outputs": [
    {
     "name": "stdout",
     "output_type": "stream",
     "text": [
      "El valor modal es 5 y se repite 3 veces.\n",
      "El valor modal es 10 y se repite 3 veces.\n"
     ]
    }
   ],
   "source": [
    "moda, repite = objeto.valor_modal(True)\n",
    "print('El valor modal es', moda, 'y se repite', repite, 'veces.')\n",
    "\n",
    "moda, repite = objeto.valor_modal(False)\n",
    "print('El valor modal es', moda, 'y se repite', repite, 'veces.')"
   ]
  },
  {
   "cell_type": "code",
   "execution_count": null,
   "metadata": {},
   "outputs": [],
   "source": [
    "objeto.conversion_grados_lista(\"celsius\",\"kelvin\")"
   ]
  },
  {
   "cell_type": "code",
   "execution_count": null,
   "metadata": {},
   "outputs": [],
   "source": [
    "objeto.factorial_lista()"
   ]
  },
  {
   "attachments": {},
   "cell_type": "markdown",
   "metadata": {},
   "source": [
    "8) Crear un archivo .py aparte y ubicar allí la clase generada en el punto anterior. Luego realizar la importación del módulo y probar alguna de sus funciones"
   ]
  },
  {
   "cell_type": "code",
   "execution_count": 1,
   "metadata": {},
   "outputs": [
    {
     "name": "stdout",
     "output_type": "stream",
     "text": [
      "0 c:\\Users\\Ivan Rojas\\Desktop\\Estudio\\Programacion\\Henry\\Homeworks\n",
      "1 c:\\Users\\Ivan Rojas\\AppData\\Local\\Programs\\Python\\Python311\\python311.zip\n",
      "2 c:\\Users\\Ivan Rojas\\AppData\\Local\\Programs\\Python\\Python311\\DLLs\n",
      "3 c:\\Users\\Ivan Rojas\\AppData\\Local\\Programs\\Python\\Python311\\Lib\n",
      "4 c:\\Users\\Ivan Rojas\\AppData\\Local\\Programs\\Python\\Python311\n",
      "5 \n",
      "6 C:\\Users\\Ivan Rojas\\AppData\\Roaming\\Python\\Python311\\site-packages\n",
      "7 C:\\Users\\Ivan Rojas\\AppData\\Roaming\\Python\\Python311\\site-packages\\win32\n",
      "8 C:\\Users\\Ivan Rojas\\AppData\\Roaming\\Python\\Python311\\site-packages\\win32\\lib\n",
      "9 C:\\Users\\Ivan Rojas\\AppData\\Roaming\\Python\\Python311\\site-packages\\Pythonwin\n",
      "10 c:\\Users\\Ivan Rojas\\AppData\\Local\\Programs\\Python\\Python311\\Lib\\site-packages\n"
     ]
    }
   ],
   "source": [
    "import sys\n",
    "for i,j in enumerate(sys.path):\n",
    "    print(i,j)"
   ]
  },
  {
   "cell_type": "code",
   "execution_count": 2,
   "metadata": {},
   "outputs": [],
   "source": [
    "import homework_7_herramientas"
   ]
  },
  {
   "cell_type": "code",
   "execution_count": 80,
   "metadata": {},
   "outputs": [],
   "source": [
    "#importar todas las clases de un archivo\n",
    "from homework_7_herramientas import *"
   ]
  },
  {
   "cell_type": "code",
   "execution_count": 85,
   "metadata": {},
   "outputs": [],
   "source": [
    "#importa una clase de un archivo\n",
    "from homework_7_herramientas import funciones_mod6"
   ]
  },
  {
   "cell_type": "code",
   "execution_count": 3,
   "metadata": {},
   "outputs": [],
   "source": [
    "#importar todo un archivo y asignarle un nombre más corto\n",
    "import homework_7_herramientas as hm7"
   ]
  },
  {
   "cell_type": "code",
   "execution_count": 4,
   "metadata": {},
   "outputs": [],
   "source": [
    "objeto_2 = hm7.funciones_mod6([4,6,2,4,8,9,10,2])"
   ]
  },
  {
   "cell_type": "code",
   "execution_count": 5,
   "metadata": {},
   "outputs": [
    {
     "name": "stdout",
     "output_type": "stream",
     "text": [
      "factorial de  4  -->  24\n",
      "factorial de  6  -->  720\n",
      "factorial de  2  -->  2\n",
      "factorial de  4  -->  24\n",
      "factorial de  8  -->  40320\n",
      "factorial de  9  -->  362880\n",
      "factorial de  10  -->  3628800\n",
      "factorial de  2  -->  2\n"
     ]
    }
   ],
   "source": [
    "objeto_2.factorial_lista()"
   ]
  }
 ],
 "metadata": {
  "kernelspec": {
   "display_name": "Python 3",
   "language": "python",
   "name": "python3"
  },
  "language_info": {
   "codemirror_mode": {
    "name": "ipython",
    "version": 3
   },
   "file_extension": ".py",
   "mimetype": "text/x-python",
   "name": "python",
   "nbconvert_exporter": "python",
   "pygments_lexer": "ipython3",
   "version": "3.11.2"
  },
  "orig_nbformat": 4,
  "vscode": {
   "interpreter": {
    "hash": "9cbf1bec53d28b1a48438dc4b476533a3ab32d377f1f5ec057cb8dc6c54a1b5c"
   }
  }
 },
 "nbformat": 4,
 "nbformat_minor": 2
}

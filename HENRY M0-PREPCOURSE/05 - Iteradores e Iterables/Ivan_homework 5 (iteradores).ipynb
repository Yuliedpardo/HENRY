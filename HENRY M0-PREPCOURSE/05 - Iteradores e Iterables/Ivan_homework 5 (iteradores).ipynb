{
 "cells": [
  {
   "cell_type": "code",
   "execution_count": 4,
   "metadata": {},
   "outputs": [
    {
     "name": "stdout",
     "output_type": "stream",
     "text": [
      "a b c d e "
     ]
    }
   ],
   "source": [
    "listongo=[\"a\",\"b\",\"c\",\"d\",\"e\"]\n",
    "for elemento in listongo:\n",
    "    print (elemento, end=\" \")"
   ]
  },
  {
   "cell_type": "code",
   "execution_count": 5,
   "metadata": {},
   "outputs": [
    {
     "name": "stdout",
     "output_type": "stream",
     "text": [
      "i v a n "
     ]
    }
   ],
   "source": [
    "nombre=\"ivan\"\n",
    "for letra in nombre:\n",
    "    print(letra, end=\" \")"
   ]
  },
  {
   "cell_type": "code",
   "execution_count": 8,
   "metadata": {},
   "outputs": [
    {
     "name": "stdout",
     "output_type": "stream",
     "text": [
      "0 a\n",
      "1 b\n",
      "2 c\n",
      "3 d\n",
      "4 e\n"
     ]
    }
   ],
   "source": [
    "listongo=[\"a\",\"b\",\"c\",\"d\",\"e\"]\n",
    "for nro, elemento in enumerate(listongo):\n",
    "    print (nro, elemento)"
   ]
  },
  {
   "cell_type": "code",
   "execution_count": 16,
   "metadata": {},
   "outputs": [
    {
     "name": "stdout",
     "output_type": "stream",
     "text": [
      "a\n",
      "b\n",
      "c\n"
     ]
    }
   ],
   "source": [
    "mi_dict={\"a\":1,\"b\":2,\"c\":3}\n",
    "for i in mi_dict:\n",
    "    #i=mi_dict.values\n",
    "    print (i)"
   ]
  },
  {
   "cell_type": "code",
   "execution_count": 18,
   "metadata": {},
   "outputs": [
    {
     "name": "stdout",
     "output_type": "stream",
     "text": [
      "pagina1\n",
      "pagina2\n",
      "pagina3\n"
     ]
    }
   ],
   "source": [
    "libro=[\"pagina1\",\"pagina2\",\"pagina3\",\"pagina4\"]\n",
    "marcapaginas = iter(libro)\n",
    "print(next(marcapaginas))\n",
    "print(next(marcapaginas))\n",
    "print(next(marcapaginas))"
   ]
  },
  {
   "attachments": {},
   "cell_type": "markdown",
   "metadata": {},
   "source": [
    "1) A partir de una lista vacía, utilizar un ciclo while para cargar allí números negativos del -15 al -1"
   ]
  },
  {
   "cell_type": "code",
   "execution_count": 24,
   "metadata": {},
   "outputs": [
    {
     "name": "stdout",
     "output_type": "stream",
     "text": [
      "[-15, -14, -13, -12, -11, -10, -9, -8, -7, -6, -5, -4, -3, -2, -1]\n"
     ]
    }
   ],
   "source": [
    "negativos=[]\n",
    "i=-15\n",
    "while i<0:\n",
    "    negativos.append(i)\n",
    "    i+=1\n",
    "print(negativos)"
   ]
  },
  {
   "attachments": {},
   "cell_type": "markdown",
   "metadata": {},
   "source": [
    "2) ¿Con un ciclo while sería posible recorrer la lista para imprimir sólo los números pares?"
   ]
  },
  {
   "cell_type": "code",
   "execution_count": 33,
   "metadata": {},
   "outputs": [
    {
     "name": "stdout",
     "output_type": "stream",
     "text": [
      "-14\n",
      "-12\n",
      "-10\n",
      "-8\n",
      "-6\n",
      "-4\n",
      "-2\n"
     ]
    }
   ],
   "source": [
    "i=0\n",
    "while i<len(negativos):\n",
    "    if negativos[i]%2==0:\n",
    "        print(negativos[i])\n",
    "    i+=1"
   ]
  },
  {
   "attachments": {},
   "cell_type": "markdown",
   "metadata": {},
   "source": [
    "3) Resolver el punto anterior sin utilizar un ciclo while"
   ]
  },
  {
   "cell_type": "code",
   "execution_count": 34,
   "metadata": {},
   "outputs": [
    {
     "name": "stdout",
     "output_type": "stream",
     "text": [
      "-14\n",
      "-12\n",
      "-10\n",
      "-8\n",
      "-6\n",
      "-4\n",
      "-2\n"
     ]
    }
   ],
   "source": [
    "for i in negativos:\n",
    "    if i%2==0:\n",
    "        print(i)"
   ]
  },
  {
   "attachments": {},
   "cell_type": "markdown",
   "metadata": {},
   "source": [
    "4) Utilizar el iterable para recorrer sólo los primeros 3 elementos"
   ]
  },
  {
   "cell_type": "code",
   "execution_count": 35,
   "metadata": {},
   "outputs": [
    {
     "name": "stdout",
     "output_type": "stream",
     "text": [
      "-15\n",
      "-14\n",
      "-13\n"
     ]
    }
   ],
   "source": [
    "for i in negativos[:3]:\n",
    "    print(negativos[i])"
   ]
  },
  {
   "attachments": {},
   "cell_type": "markdown",
   "metadata": {},
   "source": [
    "5) Utilizar la función **enumerate** para obtener dentro del iterable, tambien el índice al que corresponde el elemento"
   ]
  },
  {
   "cell_type": "code",
   "execution_count": 37,
   "metadata": {},
   "outputs": [
    {
     "name": "stdout",
     "output_type": "stream",
     "text": [
      "0 -15\n",
      "1 -14\n",
      "2 -13\n"
     ]
    }
   ],
   "source": [
    "for num, i in enumerate(negativos[:3]):\n",
    "    print(num, negativos[i])"
   ]
  },
  {
   "attachments": {},
   "cell_type": "markdown",
   "metadata": {},
   "source": [
    "6) Dada la siguiente lista de números enteros entre 1 y 20, crear un ciclo donde se completen los valores faltantes: lista = [1,2,5,7,8,10,13,14,15,17,20]"
   ]
  },
  {
   "cell_type": "code",
   "execution_count": null,
   "metadata": {},
   "outputs": [],
   "source": [
    "'''\n",
    "list_num=[1,2,5,7,8,10,13,14,15,17,20]\n",
    "list_num.sort()\n",
    "\n",
    "pos=0\n",
    "i=list_num[pos]\n",
    "j=0\n",
    "longitud=len(list_num)\n",
    "k=list_num[longitud-1]\n",
    "while j<k:\n",
    "    pos+=1\n",
    "    j=list_num[pos]\n",
    "    print(\"posición:\",pos+1,\" // i=\",i,\" // j=\",j,\" // casillas actuales:\",longitud)\n",
    "    if (list_num[pos]!=i+1):\n",
    "        list_num.insert(pos,i+1)\n",
    "        longitud=len(list_num)\n",
    "        print(\"valor\",i+1,\"agregado // nueva cant. casillas:\",longitud)\n",
    "    i=list_num[pos]\n",
    "    print()\n",
    "print(list_num)\n",
    "'''"
   ]
  },
  {
   "cell_type": "code",
   "execution_count": 162,
   "metadata": {},
   "outputs": [
    {
     "name": "stdout",
     "output_type": "stream",
     "text": [
      "lista original:  [10, 5, 2, 7, 8, 1, 13, 17, 15, 14, 20]\n",
      "lista ordenada:  [1, 2, 5, 7, 8, 10, 13, 14, 15, 17, 20] \n",
      "\n",
      "# 3  agregado\n",
      "# 4  agregado\n",
      "# 6  agregado\n",
      "# 9  agregado\n",
      "# 11  agregado\n",
      "# 12  agregado\n",
      "# 16  agregado\n",
      "# 18  agregado\n",
      "# 19  agregado\n",
      "\n",
      " [1, 2, 3, 4, 5, 6, 7, 8, 9, 10, 11, 12, 13, 14, 15, 16, 17, 18, 19, 20]\n"
     ]
    }
   ],
   "source": [
    "list_num=[10,5,2,7,8,1,13,17,15,14,20]\n",
    "print(\"lista original: \", list_num)\n",
    "list_num.sort()\n",
    "pos=0\n",
    "nro=list_num[pos]\n",
    "longitud=len(list_num)\n",
    "final=list_num[longitud-1]\n",
    "print(\"lista ordenada: \",list_num,\"\\n\")\n",
    "while (nro<=final):\n",
    "    if(not(nro in list_num)):\n",
    "        list_num.insert(pos,nro)\n",
    "        print(\"#\",nro,\" agregado\")\n",
    "    nro+=1\n",
    "    pos+=1\n",
    "print(\"\\n\",list_num)"
   ]
  },
  {
   "cell_type": "code",
   "execution_count": 159,
   "metadata": {},
   "outputs": [
    {
     "name": "stdout",
     "output_type": "stream",
     "text": [
      "[1, 2, 3, 4, 5, 6, 7, 8, 9, 10, 11, 12, 13, 14, 15, 16, 17, 18, 19, 20]\n"
     ]
    }
   ],
   "source": [
    "lista = [1,2,5,7,8,10,13,14,15,17,20]\n",
    "n = 1\n",
    "while(n <= 20):\n",
    "    if (not(n in lista)):\n",
    "        lista.insert((n-1), n)\n",
    "    n += 1\n",
    "print(lista)"
   ]
  },
  {
   "attachments": {},
   "cell_type": "markdown",
   "metadata": {},
   "source": [
    "7) La sucesión de Fibonacci es un listado de números que sigue la fórmula: <br>\n",
    "n<sub>0</sub> = 0<br>\n",
    "n<sub>1</sub> = 1<br>\n",
    "n<sub>i</sub> = n<sub>i-1</sub> + n<sub>i-2</sub><br>\n",
    "Crear una lista con los primeros treinta números de la sucesión.<br>"
   ]
  },
  {
   "cell_type": "code",
   "execution_count": 104,
   "metadata": {},
   "outputs": [
    {
     "name": "stdout",
     "output_type": "stream",
     "text": [
      "[0, 1, 1, 2, 3, 5, 8, 13, 21, 34, 55, 89, 144, 233, 377, 610, 987, 1597, 2584, 4181, 6765, 10946, 17711, 28657, 46368, 75025, 121393, 196418, 317811, 514229]\n"
     ]
    }
   ],
   "source": [
    "fibo=[0,1]\n",
    "pos=len(fibo)\n",
    "while (pos<30):\n",
    "    sumar=fibo[pos-1]+fibo[pos-2]\n",
    "    fibo.append(sumar)\n",
    "    pos+=1\n",
    "print(fibo)"
   ]
  },
  {
   "attachments": {},
   "cell_type": "markdown",
   "metadata": {},
   "source": [
    "8) Realizar la suma de todos elementos de la lista del punto anterior"
   ]
  },
  {
   "cell_type": "code",
   "execution_count": 105,
   "metadata": {},
   "outputs": [
    {
     "data": {
      "text/plain": [
       "1346268"
      ]
     },
     "execution_count": 105,
     "metadata": {},
     "output_type": "execute_result"
    }
   ],
   "source": [
    "del sum\n",
    "sum(fibo)"
   ]
  },
  {
   "cell_type": "code",
   "execution_count": 103,
   "metadata": {},
   "outputs": [
    {
     "name": "stdout",
     "output_type": "stream",
     "text": [
      " - total:  1346268\n"
     ]
    }
   ],
   "source": [
    "suma=0\n",
    "for i in fibo:\n",
    "    #print(\"acumulado: \",suma,\" - sumar: \",i,end=\"\")\n",
    "    suma=suma+i\n",
    "    #print(\" - total: \",suma)\n",
    "print(\" - total: \",suma)"
   ]
  },
  {
   "attachments": {},
   "cell_type": "markdown",
   "metadata": {},
   "source": [
    "9) La proporción aurea se expresa con una proporción matemática que nace el número irracional Phi= 1,618… que los griegos llamaron número áureo. El cuál se puede aproximar con la sucesión de Fibonacci. Con la lista del ejercicio anterior, imprimir el cociente de los últimos 5 pares de dos números contiguos:<br>\n",
    "Donde i es la cantidad total de elementos<br>\n",
    "n<sub>i-1</sub> / n<sub>i</sub><br>\n",
    "n<sub>i-2</sub> / n<sub>i-1</sub><br>\n",
    "n<sub>i-3</sub> / n<sub>i-2</sub><br>\n",
    "n<sub>i-4</sub> / n<sub>i-3</sub><br>\n",
    "n<sub>i-5</sub> / n<sub>i-4</sub><br>"
   ]
  },
  {
   "cell_type": "code",
   "execution_count": 85,
   "metadata": {},
   "outputs": [
    {
     "name": "stdout",
     "output_type": "stream",
     "text": [
      "posición: 30 // cociente: 1.6180339887543225\n",
      "posición: 29 // cociente: 1.618033988738303\n",
      "posición: 28 // cociente: 1.6180339887802426\n",
      "posición: 27 // cociente: 1.6180339886704431\n",
      "posición: 26 // cociente: 1.618033988957902\n",
      "posición: 25 // cociente: 1.618033988205325\n"
     ]
    }
   ],
   "source": [
    "pos=len(fibo)-1\n",
    "i=0\n",
    "while i<=5:\n",
    "    print(\"posición:\", pos+1,end=\" // \")\n",
    "    nro=fibo[pos]/fibo[pos-1]\n",
    "    print(\"cociente:\",nro)\n",
    "    pos-=1\n",
    "    i+=1"
   ]
  },
  {
   "attachments": {},
   "cell_type": "markdown",
   "metadata": {},
   "source": [
    "10) A partir de la variable cadena ya dada, mostrar en qué posiciones aparece la letra \"n\"<br>\n",
    "cadena = 'Hola Mundo. Esto es una practica del lenguaje de programación Python'"
   ]
  },
  {
   "cell_type": "code",
   "execution_count": 163,
   "metadata": {},
   "outputs": [
    {
     "name": "stdout",
     "output_type": "stream",
     "text": [
      "7 n\n",
      "21 n\n",
      "39 n\n",
      "60 n\n",
      "67 n\n"
     ]
    }
   ],
   "source": [
    "cadena = 'Hola Mundo. Esto es una practica del lenguaje de programación Python'\n",
    "for i,j in enumerate(cadena):\n",
    "    if (j==\"n\"):\n",
    "        print(i,j)\n",
    "        "
   ]
  },
  {
   "attachments": {},
   "cell_type": "markdown",
   "metadata": {},
   "source": [
    "11) Crear un diccionario e imprimir sus claves utilizando un iterador"
   ]
  },
  {
   "cell_type": "code",
   "execution_count": 167,
   "metadata": {},
   "outputs": [
    {
     "name": "stdout",
     "output_type": "stream",
     "text": [
      "frutas\n",
      "verduras\n",
      "tubérculos\n",
      "legumbres\n",
      "\n",
      "frutas\n",
      "verduras\n",
      "tubérculos\n",
      "legumbres\n"
     ]
    }
   ],
   "source": [
    "diccionario_11={\"frutas\":[\"manzana\",\"durazno\",\"pera\"],\n",
    "                \"verduras\":[\"lechuga\",\"tomate\",\"zanahoria\"],\n",
    "                \"tubérculos\":[\"papa\",\"yuca\",\"rábano\"],\n",
    "                \"legumbres\":[\"frijol\",\"lenteja\",\"garbanzo\"]}\n",
    "alimento=iter(diccionario_11)\n",
    "pos=0\n",
    "while pos < len(diccionario_11):\n",
    "    print(next(alimento))\n",
    "    pos+=1\n",
    "print(\"\")\n",
    "for j in diccionario_11:\n",
    "    print(j)"
   ]
  },
  {
   "attachments": {},
   "cell_type": "markdown",
   "metadata": {},
   "source": [
    "12) Convertir en una lista la variable \"cadena\" del punto 10 y luego recorrerla con un iterador "
   ]
  },
  {
   "cell_type": "code",
   "execution_count": 127,
   "metadata": {},
   "outputs": [
    {
     "name": "stdout",
     "output_type": "stream",
     "text": [
      "<class 'str'>\n",
      "<class 'list'>\n",
      "0 H1 o2 l3 a4  5 M6 u7 n8 d9 o10 .11  12 E13 s14 t15 o16  17 e18 s19  20 u21 n22 a23  24 p25 r26 a27 c28 t29 i30 c31 a32  33 d34 e35 l36  37 l38 e39 n40 g41 u42 a43 j44 e45  46 d47 e48  49 p50 r51 o52 g53 r54 a55 m56 a57 c58 i59 ó60 n61  62 P63 y64 t65 h66 o67 n\n",
      "H-o-l-a- -M-u-n-d-o-.- -E-s-t-o- -e-s- -u-n-a- -p-r-a-c-t-i-c-a- -d-e-l- -l-e-n-g-u-a-j-e- -d-e- -p-r-o-g-r-a-m-a-c-i-ó-n- -P-y-t-h-o-n-\n",
      "H--o--l--a-- --M--u--n--d--o--.-- --E--s--t--o-- --e--s-- --u--n--a-- --p--r--a--c--t--i--c--a-- --d--e--l-- --l--e--n--g--u--a--j--e-- --d--e-- --p--r--o--g--r--a--m--a--c--i--ó--n-- --P--y--t--h--o--n--"
     ]
    }
   ],
   "source": [
    "print(type(cadena))\n",
    "lista_cad=list(cadena)\n",
    "print(type(lista_cad))\n",
    "for m,n in enumerate(lista_cad):\n",
    "    print(m,n,end=\"\")\n",
    "print(\"\")\n",
    "for x in lista_cad:\n",
    "    print(x,end=\"-\")\n",
    "print(\"\")\n",
    "recorre=iter(lista_cad)\n",
    "for x in range(0,len(lista_cad)):\n",
    "    print(next(recorre),end=\"--\")\n"
   ]
  },
  {
   "attachments": {},
   "cell_type": "markdown",
   "metadata": {},
   "source": [
    "13) Crear dos listas y unirlas en una tupla utilizando la función zip"
   ]
  },
  {
   "cell_type": "code",
   "execution_count": 132,
   "metadata": {},
   "outputs": [
    {
     "name": "stdout",
     "output_type": "stream",
     "text": [
      "<class 'zip'>\n",
      "<zip object at 0x00000187CB6A9DC0>\n",
      "[(1, 'a'), (2, 'b'), (3, 'c'), (4, 'd'), (5, 'e'), (6, 'f'), (7, 'g'), (8, 'h'), (9, 'i'), (0, 'j')]\n"
     ]
    }
   ],
   "source": [
    "lista_A=[1,2,3,4,5,6,7,8,9,0]\n",
    "lista_B=['a','b','c','d','e','f','g','h','i','j','k','l']\n",
    "lista_C=zip(lista_A,lista_B)\n",
    "print( type(lista_C))\n",
    "print(lista_C)\n",
    "print(list(lista_C))"
   ]
  },
  {
   "attachments": {},
   "cell_type": "markdown",
   "metadata": {},
   "source": [
    "14) A partir de la siguiente lista de números, crear una nueva sólo si el número es divisible por 7<br>\n",
    "lis = [18,21,29,32,35,42,56,60,63,71,84,90,91,100]"
   ]
  },
  {
   "cell_type": "code",
   "execution_count": 136,
   "metadata": {},
   "outputs": [
    {
     "name": "stdout",
     "output_type": "stream",
     "text": [
      "lista 1: [18, 21, 29, 32, 35, 42, 56, 60, 63, 71, 84, 90, 91, 100]\n",
      "lista 2: [21, 35, 42, 56, 63, 84, 91]\n",
      "\n",
      "lista 3: [21, 35, 42, 56, 63, 84, 91]\n"
     ]
    }
   ],
   "source": [
    "lis = [18,21,29,32,35,42,56,60,63,71,84,90,91,100]\n",
    "lis_7=[]\n",
    "for i in lis:\n",
    "    if (i % 7 == 0):\n",
    "        lis_7.append(i)\n",
    "print(f'lista 1: {lis}\\nlista 2: {lis_7} \\n')\n",
    "lis_7_2=[j for j in lis if j % 7 == 0]\n",
    "print(f'lista 3: {lis_7_2}')"
   ]
  },
  {
   "attachments": {},
   "cell_type": "markdown",
   "metadata": {},
   "source": [
    "15) A partir de la lista de a continuación, contar la cantidad total de elementos que contiene, teniendo en cuenta que un elemento de la lista podría ser otra lista:<br>\n",
    "lis = [[1,2,3,4],'rojo','verde',[True,False,False],['uno','dos','tres']]"
   ]
  },
  {
   "cell_type": "code",
   "execution_count": 169,
   "metadata": {},
   "outputs": [
    {
     "name": "stdout",
     "output_type": "stream",
     "text": [
      "[[1, 2, 3, 4], 'rojo', 'verde', [True, False, False], ['uno', 'dos', 'tres']] \n",
      "\n",
      "<class 'list'> 4: [1, 2, 3, 4]\n",
      "<class 'str'> 4: rojo\n",
      "<class 'str'> 5: verde\n",
      "<class 'list'> 3: [True, False, False]\n",
      "<class 'list'> 3: ['uno', 'dos', 'tres']\n",
      "\n",
      "elementos en lista: 5\n",
      "total de elementos contenidos: 12\n"
     ]
    }
   ],
   "source": [
    "lis = [[1,2,3,4],'rojo','verde',[True,False,False],['uno','dos','tres']]\n",
    "print(lis,'\\n')\n",
    "elemen=0\n",
    "for i in lis:\n",
    "    print(f'{type(i)} {len(i)}: {i}')\n",
    "    if type(i) == list:\n",
    "        elemen += len(i)\n",
    "    else:\n",
    "        elemen +=1\n",
    "print(f'\\nelementos en lista: {len(lis)}\\ntotal de elementos contenidos: {elemen}')"
   ]
  },
  {
   "attachments": {},
   "cell_type": "markdown",
   "metadata": {},
   "source": [
    "16) Tomar la lista del punto anterior y convertir cada elemento en una lista si no lo es"
   ]
  },
  {
   "cell_type": "code",
   "execution_count": 172,
   "metadata": {},
   "outputs": [
    {
     "name": "stdout",
     "output_type": "stream",
     "text": [
      "[[1, 2, 3, 4], ['rojo'], ['verde'], [True, False, False], ['uno', 'dos', 'tres']]\n"
     ]
    }
   ],
   "source": [
    "for i,j in enumerate(lis):\n",
    "    if (type(j)!=list):\n",
    "        lis[i]=[j]\n",
    "print(lis)\n"
   ]
  }
 ],
 "metadata": {
  "kernelspec": {
   "display_name": "Python 3",
   "language": "python",
   "name": "python3"
  },
  "language_info": {
   "codemirror_mode": {
    "name": "ipython",
    "version": 3
   },
   "file_extension": ".py",
   "mimetype": "text/x-python",
   "name": "python",
   "nbconvert_exporter": "python",
   "pygments_lexer": "ipython3",
   "version": "3.11.2"
  },
  "orig_nbformat": 4,
  "vscode": {
   "interpreter": {
    "hash": "9cbf1bec53d28b1a48438dc4b476533a3ab32d377f1f5ec057cb8dc6c54a1b5c"
   }
  }
 },
 "nbformat": 4,
 "nbformat_minor": 2
}

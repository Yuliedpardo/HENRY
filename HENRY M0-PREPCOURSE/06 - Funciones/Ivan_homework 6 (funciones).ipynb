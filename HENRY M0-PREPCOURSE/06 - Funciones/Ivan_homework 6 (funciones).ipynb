{
 "cells": [
  {
   "attachments": {},
   "cell_type": "markdown",
   "metadata": {},
   "source": [
    "1) Crear una función que reciba un número como parámetro y devuelva si True si es primo y False si no lo es"
   ]
  },
  {
   "cell_type": "code",
   "execution_count": null,
   "metadata": {},
   "outputs": [],
   "source": [
    "# ctrl + enter = run\n",
    "\n",
    "def primo (x):\n",
    "    if (x==1) and (x==2):\n",
    "        resul=True\n",
    "    else:\n",
    "        for i in range(2,x):\n",
    "            if x % i == 0:\n",
    "                resul=False\n",
    "                break\n",
    "            else:\n",
    "                resul=True\n",
    "    print(x,\": \",resul)\n",
    "    return(resul)"
   ]
  },
  {
   "cell_type": "code",
   "execution_count": null,
   "metadata": {},
   "outputs": [],
   "source": [
    "'''def verifica_primo(nro):\n",
    "    es_primo = True\n",
    "    for i in range(2, nro):\n",
    "        if nro % i == 0:\n",
    "            es_primo = False\n",
    "            break\n",
    "    return es_primo'''"
   ]
  },
  {
   "cell_type": "code",
   "execution_count": null,
   "metadata": {},
   "outputs": [],
   "source": [
    "num=int(input(\"ingrese un número mayor a 0: \"))\n",
    "primo(num)"
   ]
  },
  {
   "attachments": {},
   "cell_type": "markdown",
   "metadata": {},
   "source": [
    "2) Utilizando la función del punto 1, realizar otra función que reciba de parámetro una lista de números y devuelva sólo aquellos que son primos en otra lista"
   ]
  },
  {
   "cell_type": "code",
   "execution_count": 75,
   "metadata": {},
   "outputs": [],
   "source": [
    "def lista_prim(lista_1):\n",
    "    print(lista_1,\"\\n\")\n",
    "    lista_2=[]\n",
    "    for i in lista_1:\n",
    "        if primo(i) == True:\n",
    "            lista_2.append(i)\n",
    "    print(\"\\n\",lista_2)"
   ]
  },
  {
   "cell_type": "code",
   "execution_count": 78,
   "metadata": {},
   "outputs": [
    {
     "name": "stdout",
     "output_type": "stream",
     "text": [
      "[2, 3, 4, 5, 6, 7, 8, 9, 10, 11, 12, 13] \n",
      "\n",
      "2 :  True\n",
      "3 :  True\n",
      "4 :  False\n",
      "5 :  True\n",
      "6 :  False\n",
      "7 :  True\n",
      "8 :  False\n",
      "9 :  False\n",
      "10 :  False\n",
      "11 :  True\n",
      "12 :  False\n",
      "13 :  True\n",
      "\n",
      " [2, 3, 5, 7, 11, 13]\n"
     ]
    }
   ],
   "source": [
    "m=[2,3,4,5,6,7,8,9,10,11,12,13]\n",
    "lista_prim(m)"
   ]
  },
  {
   "attachments": {},
   "cell_type": "markdown",
   "metadata": {},
   "source": [
    "3) Crear una función que al recibir una lista de números, devuelva el que más se repite y cuántas veces lo hace. Si hay más de un \"más repetido\", que devuelva cualquiera"
   ]
  },
  {
   "cell_type": "code",
   "execution_count": 103,
   "metadata": {},
   "outputs": [],
   "source": [
    "def contador (lista,valor):\n",
    "    pos=0\n",
    "    lista_1=[] #lista de números más repetidos\n",
    "    lista_2=[] #lista numeros evaluados\n",
    "    repeticiones=0\n",
    "    for i in lista:\n",
    "        if(i in lista_2):\n",
    "            continue\n",
    "        else:\n",
    "            if lista.count(i) > repeticiones:\n",
    "                lista_1=[]\n",
    "                pos=0\n",
    "                lista_1.insert(pos,i)\n",
    "                repeticiones=lista.count(i)\n",
    "            elif lista.count(i) == repeticiones:\n",
    "                pos+=1\n",
    "                lista_1.append(i)\n",
    "            lista_2.append(i)\n",
    "            #print(repeticiones,\" rep: \",lista_1)\n",
    "    print(repeticiones,\" repeticiones: \",(lista_1))\n",
    "    #print(\"evaluados: \", lista_2)\n",
    "\n",
    "    for i in range (1,len(lista_1)):\n",
    "        nro=lista_1[0]\n",
    "        if (valor == \"mayor\") and (lista_1[i] > lista_1[i-1]):\n",
    "            nro=lista_1[i]\n",
    "        elif ((valor == \"menor\") and (lista_1[i] < lista_1[i-1])):\n",
    "            nro=lista_1[i]\n",
    "    return (nro,repeticiones)\n"
   ]
  },
  {
   "cell_type": "code",
   "execution_count": 109,
   "metadata": {},
   "outputs": [
    {
     "name": "stdout",
     "output_type": "stream",
     "text": [
      "3  repeticiones:  [1, 2, 3, 4, 7]\n",
      "el número menor que más se repite es 1 y se repite 3 veces en la lista \n",
      " [12, 1, 2, 2, 2, 3, 3, 3, 4, 4, 4, 5, 6, 6, 7, 7, 7, 8, 8, 9, 0, 1, 1]\n"
     ]
    }
   ],
   "source": [
    "c=[12,1,2,2,2,3,3,3,4,4,4,5,6,6,7,7,7,8,8,9,0,1,1]\n",
    "condicion=\"menor\"\n",
    "numero, repeticiones=contador(c,condicion)\n",
    "print(f'el número {condicion} que más se repite es {numero} y se repite {repeticiones} veces en la lista \\n {c}')"
   ]
  },
  {
   "attachments": {},
   "cell_type": "markdown",
   "metadata": {},
   "source": [
    "4) A la función del punto 3, agregar un parámetro más, que permita elegir si se requiere el menor o el mayor de los mas repetidos."
   ]
  },
  {
   "attachments": {},
   "cell_type": "markdown",
   "metadata": {},
   "source": [
    "5) Crear una función que convierta entre grados Celsius, Farenheit y Kelvin<br>\n",
    "Fórmula 1\t: (°C × 9/5) + 32 = °F<br>\n",
    "Fórmula 2\t: °C + 273.15 = °K<br>\n",
    "Debe recibir 3 parámetros: el valor, la medida de orígen y la medida de destino"
   ]
  },
  {
   "cell_type": "code",
   "execution_count": 111,
   "metadata": {},
   "outputs": [],
   "source": [
    "def convert_grados (orig,dest,vlr):\n",
    "    if orig == \"C\":\n",
    "        if dest == \"C\":\n",
    "            convert=vlr\n",
    "        elif dest == \"F\":\n",
    "            convert=(vlr*(9/5))+32\n",
    "        elif dest == \"K\":\n",
    "            convert=(vlr+273.15)\n",
    "        else:\n",
    "            print (\"medida destino incorrecta\")\n",
    "    elif orig == \"F\":\n",
    "        if dest == \"C\":\n",
    "            convert=(vlr-32)/(9/5)\n",
    "        elif dest == \"F\":\n",
    "            convert=vlr\n",
    "        elif dest == \"K\":\n",
    "            convert=((vlr-32)/(9/5))+273.15\n",
    "        else:\n",
    "            print (\"medida destino incorrecta\")\n",
    "    elif orig == \"K\":\n",
    "        if dest == \"C\":\n",
    "            convert=vlr-273.15\n",
    "        elif dest == \"F\":\n",
    "            convert=((vlr-273.15)*(9/5))+32\n",
    "        elif dest == \"K\":\n",
    "            convert=vlr\n",
    "        else:\n",
    "            print (\"medida destino incorrecta\")\n",
    "    else:\n",
    "        print (\"medida origen incorrecta\")\n",
    "    print(f'{vlr, orig} = {convert, dest}')\n",
    "    #return(convert)"
   ]
  },
  {
   "cell_type": "code",
   "execution_count": 117,
   "metadata": {},
   "outputs": [
    {
     "name": "stdout",
     "output_type": "stream",
     "text": [
      "(20.0, 'C') = (68.0, 'F')\n",
      "(68.0, 'F') = (20.0, 'C')\n",
      "(20.0, 'C') = (293.15, 'K')\n",
      "(293.15, 'K') = (20.0, 'C')\n"
     ]
    }
   ],
   "source": [
    "otro=1\n",
    "while otro == 1:\n",
    "    origen=(input(\"ingrese la medida de origen: Centigrados(C) Farenheit (F) Kelvin (K)\"))\n",
    "    destino=(input(\"ingrese la medida de destino: Centigrados(C) Farenheit (F) Kelvin (K)\"))\n",
    "    valor=float(input(\"ingrese el valor: \"))\n",
    "    convert_grados(origen,destino,valor)\n",
    "    otro=int(input(\"desea ingresar otro valor? 1.si 2.no \"))"
   ]
  },
  {
   "attachments": {},
   "cell_type": "markdown",
   "metadata": {},
   "source": [
    "6) Iterando una lista con los tres valores posibles de temperatura que recibe la función del punto 5, hacer un print para cada combinación de los mismos:"
   ]
  },
  {
   "cell_type": "code",
   "execution_count": 118,
   "metadata": {},
   "outputs": [
    {
     "name": "stdout",
     "output_type": "stream",
     "text": [
      "(1, 'C') = (1, 'C')\n",
      "(1, 'C') = (33.8, 'F')\n",
      "(1, 'C') = (274.15, 'K')\n",
      "(1, 'F') = (-17.22222222222222, 'C')\n",
      "(1, 'F') = (1, 'F')\n",
      "(1, 'F') = (255.92777777777775, 'K')\n",
      "(1, 'K') = (-272.15, 'C')\n",
      "(1, 'K') = (-457.86999999999995, 'F')\n",
      "(1, 'K') = (1, 'K')\n"
     ]
    }
   ],
   "source": [
    "medidas=[\"C\",\"F\",\"K\"]\n",
    "for i in medidas:\n",
    "    for j in medidas:\n",
    "        convert_grados(i,j,1)"
   ]
  },
  {
   "attachments": {},
   "cell_type": "markdown",
   "metadata": {},
   "source": [
    "7) Armar una función que devuelva el factorial de un número. Tener en cuenta que el usuario puede equivocarse y enviar de parámetro un número no entero o negativo"
   ]
  },
  {
   "cell_type": "code",
   "execution_count": 132,
   "metadata": {},
   "outputs": [
    {
     "name": "stdout",
     "output_type": "stream",
     "text": [
      "120\n",
      "el valor -5 debe ser un numero entero positivo\n",
      "el valor 5.3 debe ser un numero entero positivo\n",
      "el valor 5 debe ser un numero entero positivo\n"
     ]
    }
   ],
   "source": [
    "def factorial (nro):\n",
    "    if type(nro) != int or nro < 0:\n",
    "        return(f'el valor {nro} debe ser un numero entero positivo')\n",
    "    if nro > 1:\n",
    "        nro = nro * factorial(nro-1)\n",
    "    return nro\n",
    "\n",
    "print(factorial(5))\n",
    "print(factorial(-5))\n",
    "print(factorial(5.3))\n",
    "print(factorial(\"5\"))"
   ]
  }
 ],
 "metadata": {
  "kernelspec": {
   "display_name": "Python 3",
   "language": "python",
   "name": "python3"
  },
  "language_info": {
   "codemirror_mode": {
    "name": "ipython",
    "version": 3
   },
   "file_extension": ".py",
   "mimetype": "text/x-python",
   "name": "python",
   "nbconvert_exporter": "python",
   "pygments_lexer": "ipython3",
   "version": "3.11.2"
  },
  "orig_nbformat": 4,
  "vscode": {
   "interpreter": {
    "hash": "9cbf1bec53d28b1a48438dc4b476533a3ab32d377f1f5ec057cb8dc6c54a1b5c"
   }
  }
 },
 "nbformat": 4,
 "nbformat_minor": 2
}

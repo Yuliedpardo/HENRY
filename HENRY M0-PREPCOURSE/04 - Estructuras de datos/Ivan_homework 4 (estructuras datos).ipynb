{
 "cells": [
  {
   "attachments": {},
   "cell_type": "markdown",
   "metadata": {},
   "source": [
    "1) Crear una lista que contenga nombres de ciudades del mundo que contenga más de 5 elementos e imprimir por pantalla"
   ]
  },
  {
   "cell_type": "code",
   "execution_count": 76,
   "metadata": {},
   "outputs": [
    {
     "name": "stdout",
     "output_type": "stream",
     "text": [
      "ciudades del mundo ['bogota', 'lima', 'quito', 'buenos aires', 'asuncion', 'montevideo', 'la paz']\n"
     ]
    }
   ],
   "source": [
    "cities=[\"bogota\",\"lima\",\"quito\",\"buenos aires\",\"asuncion\",\"montevideo\",\"la paz\"]\n",
    "print(\"ciudades del mundo\", cities)"
   ]
  },
  {
   "cell_type": "code",
   "execution_count": 15,
   "metadata": {},
   "outputs": [
    {
     "name": "stdout",
     "output_type": "stream",
     "text": [
      "las ciudades que ingresó son:\n",
      "['bogota', 'cali', 'pereira']\n"
     ]
    }
   ],
   "source": [
    "ciudades=[]\n",
    "otra=1\n",
    "while (otra==1):\n",
    "    ciudad=input(f\"ingrese el nombre de la ciudad {len(ciudades)+1}\")\n",
    "    ciudades.append(ciudad)\n",
    "    otra=0\n",
    "    while(otra!=1)and(otra!=2):\n",
    "        otra=int(input(\"desea ingresar otra ciudad? 1.si - 2.no\"))\n",
    "print(f\"las ciudades que ingresó son:\\n{ciudades}\")"
   ]
  },
  {
   "attachments": {},
   "cell_type": "markdown",
   "metadata": {},
   "source": [
    "2) Imprimir por pantalla el segundo elemento de la lista"
   ]
  },
  {
   "cell_type": "code",
   "execution_count": 24,
   "metadata": {},
   "outputs": [
    {
     "name": "stdout",
     "output_type": "stream",
     "text": [
      "el segundo elemento de la lista es lima\n"
     ]
    }
   ],
   "source": [
    "print(f\"el segundo elemento de la lista es {cities[2-1]}\")"
   ]
  },
  {
   "cell_type": "code",
   "execution_count": 21,
   "metadata": {},
   "outputs": [
    {
     "name": "stdout",
     "output_type": "stream",
     "text": [
      "la ciudad # 1 es bogota\n",
      "la ciudad # 3 es pereira\n",
      "la ciudad # 2 es cali\n"
     ]
    }
   ],
   "source": [
    "continuar=1\n",
    "while(continuar==1):\n",
    "    pos=int(input(\"ingrese el # de la ciudad que desea ver: \"))\n",
    "    print(f\"la ciudad # {pos} es {ciudades[pos-1]}\")\n",
    "    continuar=0\n",
    "    while (continuar!=1)and(continuar!=2):\n",
    "        continuar=int(input(\"desea ver otra ciudad? 1.si - 2.no\"))"
   ]
  },
  {
   "attachments": {},
   "cell_type": "markdown",
   "metadata": {},
   "source": [
    "3) Imprimir por pantalla del segundo al cuarto elemento"
   ]
  },
  {
   "cell_type": "code",
   "execution_count": 27,
   "metadata": {},
   "outputs": [
    {
     "name": "stdout",
     "output_type": "stream",
     "text": [
      "De la segunda a la cuarta ciudad son: ['lima', 'quito', 'buenos aires']\n"
     ]
    }
   ],
   "source": [
    "print(f\"De la segunda a la cuarta ciudad son: {cities[1:4]}\")"
   ]
  },
  {
   "attachments": {},
   "cell_type": "markdown",
   "metadata": {},
   "source": [
    "4) Visualizar el tipo de dato de la lista"
   ]
  },
  {
   "cell_type": "code",
   "execution_count": 43,
   "metadata": {},
   "outputs": [
    {
     "name": "stdout",
     "output_type": "stream",
     "text": [
      "el tipo de dato del elemento 0 (bogota) es <class 'str'>\n",
      "el tipo de dato del elemento 1 (lima) es <class 'str'>\n",
      "el tipo de dato del elemento 2 (quito) es <class 'str'>\n",
      "el tipo de dato del elemento 3 (buenos aires) es <class 'str'>\n",
      "el tipo de dato del elemento 4 (asuncion) es <class 'str'>\n",
      "el tipo de dato del elemento 5 (montevideo) es <class 'str'>\n",
      "el tipo de dato del elemento 6 (la paz) es <class 'str'>\n",
      "el tipo de dato del elemento 7 (lima) es <class 'str'>\n",
      "el tipo de dato del elemento 8 (brasilia) es <class 'str'>\n",
      "el tipo de dato del elemento 9 (1) es <class 'int'>\n",
      "el tipo de dato del elemento 10 (2) es <class 'int'>\n",
      "el tipo de dato del elemento 11 (3) es <class 'int'>\n",
      "el tipo de dato del elemento 12 (4) es <class 'int'>\n",
      "el tipo de dato del elemento 13 (5) es <class 'int'>\n",
      "el tipo de dato del elemento 14 (6) es <class 'int'>\n"
     ]
    }
   ],
   "source": [
    "for i in range (0,len(cities)):\n",
    "    print(f\"el tipo de dato del elemento {i} ({cities[i]}) es {type(cities[i])}\")\n"
   ]
  },
  {
   "attachments": {},
   "cell_type": "markdown",
   "metadata": {},
   "source": [
    "5) Visualizar todos los elementos de la lista a partir del tercero de manera genérica, es decir, sin explicitar la posición del último elemento"
   ]
  },
  {
   "cell_type": "code",
   "execution_count": 35,
   "metadata": {},
   "outputs": [
    {
     "name": "stdout",
     "output_type": "stream",
     "text": [
      "los elementos de la lista a partir del #3 son\n",
      " ['quito', 'buenos aires', 'asuncion', 'montevideo', 'la paz']\n"
     ]
    }
   ],
   "source": [
    "print(\"los elementos de la lista a partir del #3 son\\n\",cities[2:])"
   ]
  },
  {
   "attachments": {},
   "cell_type": "markdown",
   "metadata": {},
   "source": [
    "6) Visualizar los primeros 4 elementos de la lista"
   ]
  },
  {
   "cell_type": "code",
   "execution_count": 38,
   "metadata": {},
   "outputs": [
    {
     "name": "stdout",
     "output_type": "stream",
     "text": [
      "los 4 primeros elementos de la lista son\n",
      " ['bogota', 'lima', 'quito', 'buenos aires']\n"
     ]
    }
   ],
   "source": [
    "print(f\"los 4 primeros elementos de la lista son\\n {cities[0:4]}\")"
   ]
  },
  {
   "attachments": {},
   "cell_type": "markdown",
   "metadata": {},
   "source": [
    "7) Agregar una ciudad más a la lista que ya exista y otra que no ¿Arroja algún tipo de error?"
   ]
  },
  {
   "cell_type": "code",
   "execution_count": 39,
   "metadata": {},
   "outputs": [
    {
     "name": "stdout",
     "output_type": "stream",
     "text": [
      "['bogota', 'lima', 'quito', 'buenos aires', 'asuncion', 'montevideo', 'la paz', 'lima']\n",
      "['bogota', 'lima', 'quito', 'buenos aires', 'asuncion', 'montevideo', 'la paz', 'lima', 'brasilia']\n"
     ]
    }
   ],
   "source": [
    "cities.append(\"lima\")\n",
    "print(cities)\n",
    "cities.append(\"brasilia\")\n",
    "print(cities)"
   ]
  },
  {
   "attachments": {},
   "cell_type": "markdown",
   "metadata": {},
   "source": [
    "8) Agregar otra ciudad, pero en la cuarta posición"
   ]
  },
  {
   "cell_type": "code",
   "execution_count": 44,
   "metadata": {},
   "outputs": [
    {
     "name": "stdout",
     "output_type": "stream",
     "text": [
      "['bogota', 'lima', 'quito', 'manzana', 'buenos aires', 'asuncion', 'montevideo', 'la paz', 'lima', 'brasilia', 1, 2, 3, 4, 5, 6]\n"
     ]
    }
   ],
   "source": [
    "cities.insert(3,\"manzana\")\n",
    "print(cities)"
   ]
  },
  {
   "attachments": {},
   "cell_type": "markdown",
   "metadata": {},
   "source": [
    "9) Concatenar otra lista a la ya creada"
   ]
  },
  {
   "cell_type": "code",
   "execution_count": 41,
   "metadata": {},
   "outputs": [
    {
     "name": "stdout",
     "output_type": "stream",
     "text": [
      "['bogota', 'lima', 'quito', 'buenos aires', 'asuncion', 'montevideo', 'la paz', 'lima', 'brasilia', 1, 2, 3, 4, 5, 6]\n"
     ]
    }
   ],
   "source": [
    "cities.extend([1,2,3,4,5,6])\n",
    "print(cities)"
   ]
  },
  {
   "attachments": {},
   "cell_type": "markdown",
   "metadata": {},
   "source": [
    "10) Encontrar el índice de la ciudad que en el punto 7 agregamos duplicada. ¿Se nota alguna particularidad?"
   ]
  },
  {
   "cell_type": "code",
   "execution_count": 46,
   "metadata": {},
   "outputs": [
    {
     "name": "stdout",
     "output_type": "stream",
     "text": [
      "1\n"
     ]
    }
   ],
   "source": [
    "print(cities.index('lima'))"
   ]
  },
  {
   "attachments": {},
   "cell_type": "markdown",
   "metadata": {},
   "source": [
    "11) ¿Qué pasa si se busca un elemento que no existe?"
   ]
  },
  {
   "cell_type": "code",
   "execution_count": 47,
   "metadata": {},
   "outputs": [
    {
     "ename": "ValueError",
     "evalue": "'nueva york' is not in list",
     "output_type": "error",
     "traceback": [
      "\u001b[1;31m---------------------------------------------------------------------------\u001b[0m",
      "\u001b[1;31mValueError\u001b[0m                                Traceback (most recent call last)",
      "Cell \u001b[1;32mIn[47], line 1\u001b[0m\n\u001b[1;32m----> 1\u001b[0m \u001b[39mprint\u001b[39m(cities\u001b[39m.\u001b[39;49mindex(\u001b[39m\"\u001b[39;49m\u001b[39mnueva york\u001b[39;49m\u001b[39m\"\u001b[39;49m))\n",
      "\u001b[1;31mValueError\u001b[0m: 'nueva york' is not in list"
     ]
    }
   ],
   "source": [
    "print(cities.index(\"nueva york\"))"
   ]
  },
  {
   "attachments": {},
   "cell_type": "markdown",
   "metadata": {},
   "source": [
    "12) Eliminar un elemento de la lista"
   ]
  },
  {
   "cell_type": "code",
   "execution_count": 95,
   "metadata": {},
   "outputs": [
    {
     "name": "stdout",
     "output_type": "stream",
     "text": [
      "la lista de ciudades es  ['bogota', 'quito', 'buenos aires', 'asuncion', 'montevideo', 'la paz', 'paris', 'lima', 'lima', 'lima']\n",
      "hay 10 ciudades registradas\n",
      "la lista de ciudades registradas es  ['bogota', 'quito', 'buenos aires', 'asuncion', 'montevideo', 'la paz', 'paris', 'lima', 'lima', 'lima']\n"
     ]
    }
   ],
   "source": [
    "ingreso=1\n",
    "print(\"la lista de ciudades es \",cities)\n",
    "while ingreso==1:\n",
    "    print(f'hay {len(cities)} ciudades registradas')\n",
    "    ingreso=int(input(\"desea ingresar otra ciudad? 1.si - 2.no\"))\n",
    "    if ingreso==2:\n",
    "        continue\n",
    "    posi=int(input(f\"en qué posición de 1 a {len(cities)+1} desea ingresarla\"))\n",
    "    city=input(\"ingrese el nombre de la ciudad \")\n",
    "    cities.insert(posi-1,city)\n",
    "print(\"la lista de ciudades registradas es \",cities)"
   ]
  },
  {
   "cell_type": "code",
   "execution_count": 81,
   "metadata": {},
   "outputs": [
    {
     "name": "stdout",
     "output_type": "stream",
     "text": [
      "1\n",
      "['bogota', 'lima', 'quito', 'buenos aires', 'asuncion', 'montevideo', 'la paz', 'paris']\n",
      "['bogota', 'quito', 'buenos aires', 'asuncion', 'montevideo', 'la paz', 'paris']\n"
     ]
    },
    {
     "ename": "ValueError",
     "evalue": "'lima' is not in list",
     "output_type": "error",
     "traceback": [
      "\u001b[1;31m---------------------------------------------------------------------------\u001b[0m",
      "\u001b[1;31mValueError\u001b[0m                                Traceback (most recent call last)",
      "Cell \u001b[1;32mIn[81], line 5\u001b[0m\n\u001b[0;32m      3\u001b[0m cities\u001b[39m.\u001b[39mremove(\u001b[39m'\u001b[39m\u001b[39mlima\u001b[39m\u001b[39m'\u001b[39m)\n\u001b[0;32m      4\u001b[0m \u001b[39mprint\u001b[39m(cities)\n\u001b[1;32m----> 5\u001b[0m cities\u001b[39m.\u001b[39;49mindex(\u001b[39m'\u001b[39;49m\u001b[39mlima\u001b[39;49m\u001b[39m'\u001b[39;49m)\n",
      "\u001b[1;31mValueError\u001b[0m: 'lima' is not in list"
     ]
    }
   ],
   "source": [
    "print(cities.index('lima'))\n",
    "print(cities)\n",
    "cities.remove('lima')\n",
    "print(cities)\n",
    "cities.index('lima')"
   ]
  },
  {
   "attachments": {},
   "cell_type": "markdown",
   "metadata": {},
   "source": [
    "13) ¿Qué pasa si el elemento a eliminar no existe?"
   ]
  },
  {
   "cell_type": "code",
   "execution_count": 57,
   "metadata": {},
   "outputs": [
    {
     "ename": "ValueError",
     "evalue": "list.remove(x): x not in list",
     "output_type": "error",
     "traceback": [
      "\u001b[1;31m---------------------------------------------------------------------------\u001b[0m",
      "\u001b[1;31mValueError\u001b[0m                                Traceback (most recent call last)",
      "Cell \u001b[1;32mIn[57], line 1\u001b[0m\n\u001b[1;32m----> 1\u001b[0m cities\u001b[39m.\u001b[39;49mremove(\u001b[39m\"\u001b[39;49m\u001b[39mberlin\u001b[39;49m\u001b[39m\"\u001b[39;49m)\n",
      "\u001b[1;31mValueError\u001b[0m: list.remove(x): x not in list"
     ]
    }
   ],
   "source": [
    "cities.remove(\"berlin\")"
   ]
  },
  {
   "attachments": {},
   "cell_type": "markdown",
   "metadata": {},
   "source": [
    "14) Extraer el úlimo elemento de la lista, guardarlo en una variable e imprimirlo"
   ]
  },
  {
   "cell_type": "code",
   "execution_count": 58,
   "metadata": {},
   "outputs": [
    {
     "name": "stdout",
     "output_type": "stream",
     "text": [
      "6\n"
     ]
    }
   ],
   "source": [
    "ultimo=cities.pop()\n",
    "print(ultimo)"
   ]
  },
  {
   "attachments": {},
   "cell_type": "markdown",
   "metadata": {},
   "source": [
    "15) Mostrar la lista multiplicada por 4"
   ]
  },
  {
   "cell_type": "code",
   "execution_count": 59,
   "metadata": {},
   "outputs": [
    {
     "name": "stdout",
     "output_type": "stream",
     "text": [
      "['bogota', 'quito', 'manzana', 'buenos aires', 'asuncion', 'montevideo', 'la paz', 'lima', 'brasilia', 1, 2, 3, 4, 5, 'bogota', 'quito', 'manzana', 'buenos aires', 'asuncion', 'montevideo', 'la paz', 'lima', 'brasilia', 1, 2, 3, 4, 5, 'bogota', 'quito', 'manzana', 'buenos aires', 'asuncion', 'montevideo', 'la paz', 'lima', 'brasilia', 1, 2, 3, 4, 5, 'bogota', 'quito', 'manzana', 'buenos aires', 'asuncion', 'montevideo', 'la paz', 'lima', 'brasilia', 1, 2, 3, 4, 5]\n"
     ]
    }
   ],
   "source": [
    "print(cities*4)"
   ]
  },
  {
   "attachments": {},
   "cell_type": "markdown",
   "metadata": {},
   "source": [
    "16) Crear una tupla que contenga los números enteros del 1 al 20"
   ]
  },
  {
   "cell_type": "code",
   "execution_count": 65,
   "metadata": {},
   "outputs": [
    {
     "name": "stdout",
     "output_type": "stream",
     "text": [
      "[1, 2, 3, 4, 5, 6, 7, 8, 9, 10, 11, 12, 13, 14, 15, 16, 17, 18, 19, 20]\n",
      "(1, 2, 3, 4, 5, 6, 7, 8, 9, 10, 11, 12, 13, 14, 15, 16, 17, 18, 19, 20)\n"
     ]
    }
   ],
   "source": [
    "mi_lista=[]\n",
    "for j in range (0,20):\n",
    "    mi_lista.append(j+1)\n",
    "print(mi_lista)\n",
    "mi_tupla=tuple(mi_lista)\n",
    "print(mi_tupla)"
   ]
  },
  {
   "cell_type": "code",
   "execution_count": null,
   "metadata": {},
   "outputs": [],
   "source": [
    "mi_tupla=()\n",
    "for j in range (0,20):\n",
    "    mi_tupla[j]=j+1\n",
    "print(mi_tupla)"
   ]
  },
  {
   "attachments": {},
   "cell_type": "markdown",
   "metadata": {},
   "source": [
    "17) Imprimir desde el índice 10 al 15 de la tupla"
   ]
  },
  {
   "cell_type": "code",
   "execution_count": 67,
   "metadata": {},
   "outputs": [
    {
     "name": "stdout",
     "output_type": "stream",
     "text": [
      "(11, 12, 13, 14, 15)\n"
     ]
    }
   ],
   "source": [
    "print(mi_tupla[10:15])"
   ]
  },
  {
   "attachments": {},
   "cell_type": "markdown",
   "metadata": {},
   "source": [
    "18) Evaluar si los números 20 y 30 están dentro de la tupla"
   ]
  },
  {
   "cell_type": "code",
   "execution_count": 70,
   "metadata": {},
   "outputs": [
    {
     "name": "stdout",
     "output_type": "stream",
     "text": [
      "True\n",
      "False\n"
     ]
    }
   ],
   "source": [
    "print(20 in mi_tupla)\n",
    "print(\"20\" in mi_tupla)"
   ]
  },
  {
   "attachments": {},
   "cell_type": "markdown",
   "metadata": {},
   "source": [
    "19) Con la lista creada en el punto 1, validar la existencia del elemento 'París' y si no existe, agregarlo. Utilizar una variable e informar lo sucedido."
   ]
  },
  {
   "cell_type": "code",
   "execution_count": 79,
   "metadata": {},
   "outputs": [
    {
     "name": "stdout",
     "output_type": "stream",
     "text": [
      "la ciudad paris se encuentra en la posicion 7\n",
      "las ciudades de la lista son ['bogota', 'lima', 'quito', 'buenos aires', 'asuncion', 'montevideo', 'la paz', 'paris']\n"
     ]
    }
   ],
   "source": [
    "buscar=\"paris\"\n",
    "try:\n",
    "    if cities.index(buscar):    \n",
    "        print(f'la ciudad {buscar} se encuentra en la posicion {cities.index(buscar)}')\n",
    "except ValueError:\n",
    "    print(f'la ciudad {buscar} no se encuentra en la lista y será agregada')\n",
    "    cities.append(buscar)\n",
    "print(f'las ciudades de la lista son {cities}')"
   ]
  },
  {
   "cell_type": "code",
   "execution_count": 116,
   "metadata": {},
   "outputs": [
    {
     "name": "stdout",
     "output_type": "stream",
     "text": [
      "la ciudad paris se encuentra en la posicion 6\n",
      "las ciudades de la lista son ['bogota', 'quito', 'buenos aires', 'asuncion', 'montevideo', 'la paz', 'paris', 'lima', 'lima', 'lima']\n"
     ]
    }
   ],
   "source": [
    "buscar=\"paris\"\n",
    "if (buscar in cities):\n",
    "    print(f'la ciudad {buscar} se encuentra en la posicion {cities.index(buscar)}')\n",
    "else:\n",
    "    print(f'la ciudad {buscar} no se encuentra en la lista y será agregada')\n",
    "    cities.append(buscar)\n",
    "print(f'las ciudades de la lista son {cities}')"
   ]
  },
  {
   "cell_type": "code",
   "execution_count": 117,
   "metadata": {},
   "outputs": [
    {
     "name": "stdout",
     "output_type": "stream",
     "text": [
      "la ciudad paris se encuentra en la posicion 6\n",
      "las ciudades de la lista son ['bogota', 'quito', 'buenos aires', 'asuncion', 'montevideo', 'la paz', 'paris', 'lima', 'lima', 'lima']\n"
     ]
    }
   ],
   "source": [
    "buscar=\"paris\"\n",
    "if (not(buscar in cities)):\n",
    "    print(f'la ciudad {buscar} no se encuentra en la lista y será agregada')\n",
    "    cities.append(buscar)\n",
    "else:\n",
    "    print(f'la ciudad {buscar} se encuentra en la posicion {cities.index(buscar)}')\n",
    "print(f'las ciudades de la lista son {cities}')"
   ]
  },
  {
   "attachments": {},
   "cell_type": "markdown",
   "metadata": {},
   "source": [
    "20) Mostrar la cantidad de veces que se encuentra un elemento específico dentro de la tupla y de la lista"
   ]
  },
  {
   "cell_type": "code",
   "execution_count": 102,
   "metadata": {},
   "outputs": [
    {
     "name": "stdout",
     "output_type": "stream",
     "text": [
      "Tupla: (1, 2, 3, 4, 5, 6, 7, 8, 9, 10, 11, 12, 13, 14, 15, 16, 17, 18, 19, 20)\n",
      "Lista: ['bogota', 'quito', 'buenos aires', 'asuncion', 'montevideo', 'la paz', 'paris', 'lima', 'lima', 'lima']\n",
      "Lista: ['bogota', 'cali', 'pereira']\n",
      "\n",
      "la ciudad bogota se repite 1 veces\n",
      "\n",
      "el número 12 se repite 1 veces\n",
      "\n"
     ]
    }
   ],
   "source": [
    "print(f\"Tupla: {mi_tupla}\")\n",
    "print(f\"Lista: {cities}\")\n",
    "print(f\"Lista: {ciudades}\\n\")\n",
    "buscar=input(\"digite el nombre de la ciudad que desea buscar: \")\n",
    "count=cities.count (buscar)\n",
    "print(f\"la ciudad {buscar} se repite {count} veces\\n\")\n",
    "search=int(input(\"digite el numero que desea buscar: \"))\n",
    "counter=mi_tupla.count (search)\n",
    "print(f\"el número {search} se repite {counter} veces\\n\")\n",
    "\n"
   ]
  },
  {
   "attachments": {},
   "cell_type": "markdown",
   "metadata": {},
   "source": [
    "21) Convertir la tupla en una lista"
   ]
  },
  {
   "cell_type": "code",
   "execution_count": 104,
   "metadata": {},
   "outputs": [
    {
     "name": "stdout",
     "output_type": "stream",
     "text": [
      "<class 'tuple'>\n",
      "(1, 2, 3, 4, 5, 6, 7, 8, 9, 10, 11, 12, 13, 14, 15, 16, 17, 18, 19, 20)\n",
      "[1, 2, 3, 4, 5, 6, 7, 8, 9, 10, 11, 12, 13, 14, 15, 16, 17, 18, 19, 20]\n",
      "<class 'list'>\n"
     ]
    }
   ],
   "source": [
    "print(type(mi_tupla))\n",
    "print(mi_tupla)\n",
    "mi_tupla_lista=list(mi_tupla)\n",
    "print(mi_tupla_lista)\n",
    "print(type(mi_tupla_lista))"
   ]
  },
  {
   "attachments": {},
   "cell_type": "markdown",
   "metadata": {},
   "source": [
    "22) Desempaquetar solo los primeros 3 elementos de la tupla en 3 variables"
   ]
  },
  {
   "cell_type": "code",
   "execution_count": 115,
   "metadata": {},
   "outputs": [
    {
     "name": "stdout",
     "output_type": "stream",
     "text": [
      "elemento1:  1\n",
      "elemento2:  2\n",
      "elemento3:  3\n",
      "elemento4:  4\n",
      "elemento5:  5\n"
     ]
    }
   ],
   "source": [
    "nro=5\n",
    "var1, var2, var3, var4, var5 = mi_tupla[:nro] #asigna a determinadas variables los elementos que yo le indique de la tupla en respectivo orden\n",
    "print(\"elemento1: \",var1)\n",
    "print(\"elemento2: \",var2)\n",
    "print(\"elemento3: \",var3)\n",
    "print(\"elemento4: \",var4)\n",
    "print(\"elemento5: \",var5)"
   ]
  },
  {
   "attachments": {},
   "cell_type": "markdown",
   "metadata": {},
   "source": [
    "23) Crear un diccionario utilizando la lista crada en el punto 1, asignandole la clave \"ciudad\". Agregar tambien otras claves, como puede ser \"Pais\" y \"Continente\"."
   ]
  },
  {
   "cell_type": "code",
   "execution_count": 108,
   "metadata": {},
   "outputs": [
    {
     "name": "stdout",
     "output_type": "stream",
     "text": [
      "{'ciudad': ['bogota', 'quito', 'buenos aires', 'asuncion', 'montevideo', 'la paz', 'paris', 'lima', 'lima', 'lima'], 'pais': ['colombia', 'peru', 'ecuador', 'argentina', 'paraguay', 'uruguay', 'bolivia'], 'continente': ['america', 'america', 'america', 'america', 'america', 'america', 'america']}\n"
     ]
    }
   ],
   "source": [
    "diccion={\"ciudad\":cities,\n",
    "         \"pais\":[\"colombia\",\"peru\",\"ecuador\",\"argentina\",\"paraguay\",\"uruguay\",\"bolivia\"],\n",
    "         \"continente\":[\"america\",\"america\",\"america\",\"america\",\"america\",\"america\",\"america\"]}\n",
    "print(diccion)\n"
   ]
  },
  {
   "attachments": {},
   "cell_type": "markdown",
   "metadata": {},
   "source": [
    "24) Imprimir las claves del diccionario"
   ]
  },
  {
   "cell_type": "code",
   "execution_count": 109,
   "metadata": {},
   "outputs": [
    {
     "name": "stdout",
     "output_type": "stream",
     "text": [
      "dict_keys(['ciudad', 'pais', 'continente'])\n"
     ]
    }
   ],
   "source": [
    "print(diccion.keys())"
   ]
  },
  {
   "attachments": {},
   "cell_type": "markdown",
   "metadata": {},
   "source": [
    "25) Imprimir las ciudades a través de su clave"
   ]
  },
  {
   "cell_type": "code",
   "execution_count": 111,
   "metadata": {},
   "outputs": [
    {
     "name": "stdout",
     "output_type": "stream",
     "text": [
      "['bogota', 'quito', 'buenos aires', 'asuncion', 'montevideo', 'la paz', 'paris', 'lima', 'lima', 'lima']\n"
     ]
    }
   ],
   "source": [
    "print(diccion[\"ciudad\"])"
   ]
  }
 ],
 "metadata": {
  "kernelspec": {
   "display_name": "Python 3",
   "language": "python",
   "name": "python3"
  },
  "language_info": {
   "codemirror_mode": {
    "name": "ipython",
    "version": 3
   },
   "file_extension": ".py",
   "mimetype": "text/x-python",
   "name": "python",
   "nbconvert_exporter": "python",
   "pygments_lexer": "ipython3",
   "version": "3.11.2"
  },
  "orig_nbformat": 4
 },
 "nbformat": 4,
 "nbformat_minor": 2
}

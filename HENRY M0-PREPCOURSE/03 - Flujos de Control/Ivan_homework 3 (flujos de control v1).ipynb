{
 "cells": [
  {
   "cell_type": "code",
   "execution_count": 5,
   "metadata": {},
   "outputs": [
    {
     "name": "stdout",
     "output_type": "stream",
     "text": [
      "7.0  es mayor a cero\n"
     ]
    }
   ],
   "source": [
    "#1) Crear una variable que contenga un elemento del conjunto de números enteros y luego imprimir por pantalla si es mayor o menor a cero\n",
    "\n",
    "a=int(input(\"ingrese un número: \"))\n",
    "if (a > 0):\n",
    "    print(a, \" es mayor a cero\")\n",
    "elif (a < 0):\n",
    "    print(a, \" es menor a cero\")\n",
    "else:\n",
    "    print(a, \" es igual a cero\")"
   ]
  },
  {
   "cell_type": "code",
   "execution_count": 8,
   "metadata": {},
   "outputs": [
    {
     "name": "stdout",
     "output_type": "stream",
     "text": [
      "los datos no son del mismo tipo\n"
     ]
    }
   ],
   "source": [
    "#2) Crear dos variables y un condicional que informe si son del mismo tipo de dato\n",
    "\n",
    "a = \"prueba\"\n",
    "b = 1\n",
    "if (type(a)==type(b)):\n",
    "    print(\"los datos son del mismo tipo\")\n",
    "else:\n",
    "    print(\"los datos no son del mismo tipo\")"
   ]
  },
  {
   "cell_type": "code",
   "execution_count": null,
   "metadata": {},
   "outputs": [],
   "source": [
    "#3) Para los valores enteros del 1 al 20, imprimir por pantalla si es par o impar\n",
    "\n",
    "for a in range(1,21):\n",
    "    if (a % 2 == 0):\n",
    "        print(a, \"es par\")\n",
    "    else:\n",
    "        print(a, \"es impar\")"
   ]
  },
  {
   "cell_type": "code",
   "execution_count": null,
   "metadata": {},
   "outputs": [],
   "source": [
    "#4) En un ciclo for mostrar para los valores entre 0 y 5 el resultado de elevarlo a la potencia igual a 3\n",
    "\n",
    "for a in range(0,6):\n",
    "    print(a, \"elevado a la 3 es igual a\", a**3)"
   ]
  },
  {
   "cell_type": "code",
   "execution_count": null,
   "metadata": {},
   "outputs": [],
   "source": [
    "#5) Crear una variable que contenga un número entero y realizar un ciclo for la misma cantidad de ciclos\n",
    "\n",
    "a=int(input(\"ingrese un número: \"))\n",
    "n=1\n",
    "for a in range (1,(a+1)):\n",
    "    print(n)\n",
    "    n+=1"
   ]
  },
  {
   "cell_type": "code",
   "execution_count": 19,
   "metadata": {},
   "outputs": [
    {
     "name": "stdout",
     "output_type": "stream",
     "text": [
      "<class 'int'>\n",
      "el factorial de  5  es  120\n"
     ]
    }
   ],
   "source": [
    "#6) Utilizar un ciclo while para realizar el factorial de un número guardado en una variable, sólo si la variable contiene un número entero mayor a 0\n",
    "\n",
    "a = int(input(\"ingrese un número: \"))\n",
    "b = 1\n",
    "cont = 1\n",
    "if (type(a) == int):\n",
    "#if (type(n) == int):\n",
    "    if(a > 0):\n",
    "        while (cont < a+1):\n",
    "            b=b*cont\n",
    "            cont+=1\n",
    "    print(\"el factorial de \",a,\" es \",b)\n"
   ]
  },
  {
   "cell_type": "code",
   "execution_count": null,
   "metadata": {},
   "outputs": [],
   "source": [
    "#7) Crear un ciclo for dentro de un ciclo while\n",
    "\n",
    "a = int(input(\"ingrese un número: \"))\n",
    "m, n = 1, 1\n",
    "while (m < a+1):\n",
    "    for n in range (1,m+1):\n",
    "        print(n)\n",
    "    print(\"\")\n",
    "    m+=1"
   ]
  },
  {
   "cell_type": "code",
   "execution_count": null,
   "metadata": {},
   "outputs": [],
   "source": [
    "#7) Crear un ciclo for dentro de un ciclo while\n",
    "\n",
    "n = 0\n",
    "nro = int(input(\"ingrese un número: \"))\n",
    "while(n < nro):\n",
    "    n += 1\n",
    "    print('Ciclo while nro ', n)\n",
    "    for i in range(0,n):\n",
    "        print('Ciclo for nro ', i+1)\n",
    "    print(\"\")"
   ]
  },
  {
   "cell_type": "code",
   "execution_count": null,
   "metadata": {},
   "outputs": [],
   "source": [
    "#8) Crear un ciclo while dentro de un ciclo for\n",
    "\n",
    "nro=int(input(\"ingrese un número: \"))\n",
    "for i in range(1,nro+1):\n",
    "    print('Ciclo for nro ', i)\n",
    "    n=1\n",
    "    while(n <= i):\n",
    "        print('Ciclo while nro ', n)\n",
    "        n += 1\n",
    "    print(\"\")"
   ]
  },
  {
   "cell_type": "code",
   "execution_count": null,
   "metadata": {},
   "outputs": [],
   "source": [
    "#9) Imprimir los números primos existentes entre 0 y 30\n",
    "\n",
    "lim=int(input(\"ingrese un número límite: \"))\n",
    "lista_primos=[]\n",
    "for n in range (0,lim+1):\n",
    "    primo=True\n",
    "    for m in range(2,n):\n",
    "        if (n%m==0):\n",
    "            primo=False\n",
    "            print(n, \"no es primo porque \", n,\"/\",m)\n",
    "            break\n",
    "    if (primo==True):\n",
    "        lista_primos.extend([n])\n",
    "print(\"\\n# primos: \",lista_primos)"
   ]
  },
  {
   "cell_type": "code",
   "execution_count": null,
   "metadata": {},
   "outputs": [],
   "source": [
    "#10) ¿Se puede mejorar el proceso del punto 9? Utilizar las sentencias break y/ó continue para tal fin"
   ]
  },
  {
   "cell_type": "code",
   "execution_count": 77,
   "metadata": {},
   "outputs": [
    {
     "name": "stdout",
     "output_type": "stream",
     "text": [
      "# primos:  [0, 1, 2, 3, 5, 7, 11, 13, 17, 19, 23, 29, 31, 37, 41, 43, 47, 53, 59, 61, 67, 71, 73, 79, 83, 89, 97, 101, 103, 107, 109, 113, 127, 131, 137, 139, 149, 151, 157, 163, 167, 173, 179, 181, 191, 193, 197, 199, 211, 223, 227, 229, 233, 239, 241, 251, 257, 263, 269, 271, 277, 281, 283, 293, 307, 311, 313, 317, 331, 337, 347, 349, 353, 359, 367, 373, 379, 383, 389, 397, 401, 409, 419, 421, 431, 433, 439, 443, 449, 457, 461, 463, 467, 479, 487, 491, 499]\n",
      "# primos:  [0, 1, 2, 3, 5, 7, 11, 13, 17, 19, 23, 29, 31, 37, 41, 43, 47, 53, 59, 61, 67, 71, 73, 79, 83, 89, 97, 101, 103, 107, 109, 113, 127, 131, 137, 139, 149, 151, 157, 163, 167, 173, 179, 181, 191, 193, 197, 199, 211, 223, 227, 229, 233, 239, 241, 251, 257, 263, 269, 271, 277, 281, 283, 293, 307, 311, 313, 317, 331, 337, 347, 349, 353, 359, 367, 373, 379, 383, 389, 397, 401, 409, 419, 421, 431, 433, 439, 443, 449, 457, 461, 463, 467, 479, 487, 491, 499]\n",
      "\n",
      "ciclos sin break:  124251\n",
      "ciclos con break:  22279\n",
      "\n",
      "optimización (%):  17.930640397260383\n"
     ]
    }
   ],
   "source": [
    "#11) En los puntos 9 y 10, se diseño un código que encuentra números primos y además se lo optimizó. ¿Es posible saber en qué medida se optimizó?\n",
    "\n",
    "ciclos_sin_break=0\n",
    "lim=int(input(\"ingrese un número límite: \"))\n",
    "lista_primos1=[]\n",
    "for n in range (0,lim+1):\n",
    "    primo=True\n",
    "    for m in range(2,n):\n",
    "        ciclos_sin_break +=1\n",
    "        if (n%m==0):\n",
    "            primo=False\n",
    "            #print(n, \"no es primo porque \", n,\"/\",m)\n",
    "    if (primo==True):\n",
    "        lista_primos1.extend([n])\n",
    "print(\"# primos: \",lista_primos1)\n",
    "\n",
    "\n",
    "ciclos_con_break=0\n",
    "lista_primos2=[]\n",
    "for o in range (0,lim+1):\n",
    "    primos=True\n",
    "    for p in range(2,o):\n",
    "        ciclos_con_break+=1\n",
    "        if (o%p==0):\n",
    "            primos=False\n",
    "            #print(o, \"no es primo porque \", o,\"/\",p)\n",
    "            break\n",
    "    if (primos==True):\n",
    "        lista_primos2.extend([o])\n",
    "print(\"# primos: \",lista_primos2)\n",
    "\n",
    "print(\"\\nciclos sin break: \", ciclos_sin_break)\n",
    "print(\"ciclos con break: \", ciclos_con_break)\n",
    "\n",
    "print(\"\\noptimización (%): \", ciclos_con_break/ciclos_sin_break*100)"
   ]
  },
  {
   "cell_type": "code",
   "execution_count": null,
   "metadata": {},
   "outputs": [],
   "source": [
    "#12) Si la cantidad de números que se evalúa es mayor a treinta, esa optimización crece?\n",
    "\n",
    "#no"
   ]
  },
  {
   "cell_type": "code",
   "execution_count": 86,
   "metadata": {},
   "outputs": [
    {
     "name": "stdout",
     "output_type": "stream",
     "text": [
      "# divisibles por 12:  [108, 120, 132, 144, 156, 168, 180, 192, 204, 216, 228, 240, 252, 264, 276, 288, 300]\n"
     ]
    }
   ],
   "source": [
    "#13) Aplicando continue, armar un ciclo while que solo imprima los valores divisibles por 12, dentro del rango de números de 100 a 300\n",
    "\n",
    "list_div_12=[]\n",
    "nro = 99\n",
    "while (nro <= 300):\n",
    "    nro +=1\n",
    "    if (nro % 12 != 0):\n",
    "        continue\n",
    "    else:\n",
    "        list_div_12.extend([nro])\n",
    "print(\"# divisibles por 12: \", list_div_12)"
   ]
  },
  {
   "cell_type": "code",
   "execution_count": 11,
   "metadata": {},
   "outputs": [
    {
     "name": "stdout",
     "output_type": "stream",
     "text": [
      "8 no es primo porque  8 / 2\n",
      "7 es primo\n",
      "2 es primo\n",
      "27 no es primo porque  27 / 3\n",
      "9 no es primo porque  9 / 3\n"
     ]
    }
   ],
   "source": [
    "#14) Utilizar la función **input()** que permite hacer ingresos por teclado, para encontrar números primos y dar la opción al usario de buscar el siguiente\n",
    "\n",
    "continuar=1\n",
    "while (continuar==1):\n",
    "    nro=int(input(\"ingrese un número: \"))\n",
    "    primo=True\n",
    "    for m in range(2,nro):\n",
    "        if (nro % m == 0):\n",
    "            print(nro, \"no es primo porque \", nro,\"/\",m)\n",
    "            primo=False\n",
    "            break\n",
    "    if (primo==True):\n",
    "        print(nro, \"es primo\")\n",
    "    continuar=int(input(\"\\ndesea consultar otro número?\\n1. si\\n2. no\"))"
   ]
  },
  {
   "cell_type": "code",
   "execution_count": 15,
   "metadata": {},
   "outputs": [
    {
     "name": "stdout",
     "output_type": "stream",
     "text": [
      "204 es divisible entre  3  y multiplo de  6\n"
     ]
    }
   ],
   "source": [
    "#15) Crear un ciclo while que encuentre dentro del rango de 100 a 300 el primer número divisible por 3 y además múltiplo de 6\n",
    "\n",
    "inicio=int(input(\"ingrese el inicio del rango a evaluar\"))\n",
    "fin=int(input(\"ingrese el final del rango a evaluar\"))\n",
    "divisor=int(input(\"ingrese divisible por: \"))\n",
    "multiplo_de=int(input(\"ingrese multiplo de: \"))\n",
    "while (inicio < fin+1):\n",
    "    if (inicio % divisor == 0):\n",
    "        if(inicio % multiplo_de == 0):\n",
    "            print(inicio, \"es divisible entre \",divisor,\" y multiplo de \", multiplo_de)\n",
    "            break\n",
    "    inicio +=1"
   ]
  }
 ],
 "metadata": {
  "kernelspec": {
   "display_name": "Python 3",
   "language": "python",
   "name": "python3"
  },
  "language_info": {
   "codemirror_mode": {
    "name": "ipython",
    "version": 3
   },
   "file_extension": ".py",
   "mimetype": "text/x-python",
   "name": "python",
   "nbconvert_exporter": "python",
   "pygments_lexer": "ipython3",
   "version": "3.11.2"
  },
  "orig_nbformat": 4
 },
 "nbformat": 4,
 "nbformat_minor": 2
}

{
 "cells": [
  {
   "cell_type": "code",
   "execution_count": 6,
   "metadata": {},
   "outputs": [
    {
     "name": "stdout",
     "output_type": "stream",
     "text": [
      "el número 4 es mayor a cero\n",
      "el número 6 es mayor a cero\n",
      "el número 9 es mayor a cero\n",
      "el número -9 es menor a cer\n",
      "el número -8 es menor a cer\n"
     ]
    }
   ],
   "source": [
    "cont=1\n",
    "while(cont==1):\n",
    "    var=int(input(\"ingrese un número entero: \"))\n",
    "    if(var>0):\n",
    "        print(f\"el número {var} es mayor a cero\")\n",
    "    elif(var<0):\n",
    "        print(f\"el número {var} es menor a cer\")\n",
    "    else:\n",
    "        print(f\"el número {var} es igual cero\")\n",
    "    cont=int(input(\"desea ingresar otro número? 1. si / 2. no\"))\n",
    "    while(cont!=1)and(cont!=2):\n",
    "        cont=int(input(\"ingrese 1 para si o 2 para no\"))"
   ]
  }
 ],
 "metadata": {
  "kernelspec": {
   "display_name": "Python 3",
   "language": "python",
   "name": "python3"
  },
  "language_info": {
   "codemirror_mode": {
    "name": "ipython",
    "version": 3
   },
   "file_extension": ".py",
   "mimetype": "text/x-python",
   "name": "python",
   "nbconvert_exporter": "python",
   "pygments_lexer": "ipython3",
   "version": "3.11.2"
  },
  "orig_nbformat": 4
 },
 "nbformat": 4,
 "nbformat_minor": 2
}
